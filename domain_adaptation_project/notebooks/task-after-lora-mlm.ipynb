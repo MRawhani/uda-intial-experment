{
 "cells": [
  {
   "cell_type": "code",
   "execution_count": null,
   "metadata": {},
   "outputs": [],
   "source": []
  },
  {
   "cell_type": "code",
   "execution_count": 1,
   "metadata": {},
   "outputs": [
    {
     "name": "stdout",
     "output_type": "stream",
     "text": [
      "['/home/guest/Desktop/projects/intial-experments/domain_adaptation_project/notebooks', '/usr/lib/python38.zip', '/usr/lib/python3.8', '/usr/lib/python3.8/lib-dynload', '', '/home/guest/.cache/pypoetry/virtualenvs/intial-experments-_CPDD38x-py3.8/lib/python3.8/site-packages', '/home/guest/Desktop/projects/intial-experments/domain_adaptation_project/modules']\n"
     ]
    },
    {
     "name": "stderr",
     "output_type": "stream",
     "text": [
      "/home/guest/.cache/pypoetry/virtualenvs/intial-experments-_CPDD38x-py3.8/lib/python3.8/site-packages/transformers/utils/generic.py:441: UserWarning: torch.utils._pytree._register_pytree_node is deprecated. Please use torch.utils._pytree.register_pytree_node instead.\n",
      "  _torch_pytree._register_pytree_node(\n",
      "/home/guest/.cache/pypoetry/virtualenvs/intial-experments-_CPDD38x-py3.8/lib/python3.8/site-packages/transformers/utils/generic.py:309: UserWarning: torch.utils._pytree._register_pytree_node is deprecated. Please use torch.utils._pytree.register_pytree_node instead.\n",
      "  _torch_pytree._register_pytree_node(\n",
      "2024-04-20 13:59:52.401331: I tensorflow/core/util/port.cc:110] oneDNN custom operations are on. You may see slightly different numerical results due to floating-point round-off errors from different computation orders. To turn them off, set the environment variable `TF_ENABLE_ONEDNN_OPTS=0`.\n",
      "2024-04-20 13:59:52.632914: I tensorflow/core/platform/cpu_feature_guard.cc:182] This TensorFlow binary is optimized to use available CPU instructions in performance-critical operations.\n",
      "To enable the following instructions: AVX2 AVX512F AVX512_VNNI FMA, in other operations, rebuild TensorFlow with the appropriate compiler flags.\n",
      "2024-04-20 13:59:53.393270: W tensorflow/compiler/tf2tensorrt/utils/py_utils.cc:38] TF-TRT Warning: Could not find TensorRT\n"
     ]
    }
   ],
   "source": [
    "from setup import setup_src_path\n",
    "print(setup_src_path())\n",
    "import data.processed as processed\n",
    "import config.config as config\n",
    "import utils.setup as setup\n",
    "import utils.functions as fn\n",
    "from importlib import reload\n",
    "\n"
   ]
  },
  {
   "cell_type": "code",
   "execution_count": 2,
   "metadata": {},
   "outputs": [],
   "source": [
    "from datasets import load_from_disk\n",
    "\n",
    "source_data=load_from_disk(f\"{config.Config.DATASETS_SAVE_PATH}/source_data\")\n",
    "source_data_eval=load_from_disk(f\"{config.Config.DATASETS_SAVE_PATH}/source_data_eval\")\n",
    "target_data=load_from_disk(f\"{config.Config.DATASETS_SAVE_PATH}/target_data\")\n",
    "target_data_eval=load_from_disk(f\"{config.Config.DATASETS_SAVE_PATH}/target_data_eval\")\n",
    "test_target_data=load_from_disk(f\"{config.Config.DATASETS_SAVE_PATH}/test_target_data\")\n",
    "unsupervised_target=load_from_disk(f\"{config.Config.DATASETS_SAVE_PATH}/unsupervised_target\")\n"
   ]
  },
  {
   "cell_type": "code",
   "execution_count": 3,
   "metadata": {},
   "outputs": [],
   "source": [
    "from torch.utils.data import DataLoader\n",
    "source_data_loader = DataLoader(source_data, batch_size=32, shuffle=True)\n",
    "target_data_loader = DataLoader(target_data, batch_size=32)\n",
    "source_data_eval_loader = DataLoader(source_data_eval, batch_size=32, shuffle=True)\n",
    "target_data_eval_loader = DataLoader(target_data_eval, batch_size=32)\n",
    "\n",
    "target_test_loader = DataLoader(test_target_data, batch_size=32)"
   ]
  },
  {
   "cell_type": "code",
   "execution_count": 4,
   "metadata": {},
   "outputs": [
    {
     "name": "stdout",
     "output_type": "stream",
     "text": [
      "trainable params: 66985530 || all params: 66985530 || trainable%: 100.0\n"
     ]
    }
   ],
   "source": [
    "from adapters import AutoAdapterModel\n",
    "from tqdm import tqdm\n",
    "\n",
    "from transformers import AutoConfig\n",
    "\n",
    "mdlcfg = AutoConfig.from_pretrained(\n",
    "    config.Config.MODEL_NAME,\n",
    " \n",
    ")\n",
    "model = AutoAdapterModel.from_pretrained(\n",
    "    config.Config.MODEL_NAME,\n",
    "    config=mdlcfg,\n",
    ")\n",
    "reload(fn)\n",
    "fn.print_trainable_parameters(model)"
   ]
  },
  {
   "cell_type": "code",
   "execution_count": 5,
   "metadata": {},
   "outputs": [],
   "source": [
    "from transformers import AdamW\n",
    "from adapters import AdapterConfig,LoRAConfig\n",
    "from adapters.composition import Stack\n",
    "\n",
    "adapter_name= \"task-adapter-after-lora-mlm\"\n",
    "\n",
    "adapter_config = LoRAConfig(r=8, alpha=16)\n",
    "\n",
    "model.load_adapter(f\"{config.Config.ADAPTER_SAVE_PATH}/lora-source-mlm\")\n",
    "model.load_adapter(f\"{config.Config.ADAPTER_SAVE_PATH}/lora-mlm-target\")\n",
    "model.add_adapter(adapter_name, config=adapter_config)\n",
    "\n",
    "model.add_classification_head(\n",
    "    adapter_name,\n",
    "    num_labels=3,\n",
    "  )\n",
    "model.train_adapter([adapter_name])\n"
   ]
  },
  {
   "cell_type": "code",
   "execution_count": 6,
   "metadata": {},
   "outputs": [
    {
     "name": "stdout",
     "output_type": "stream",
     "text": [
      "trainable params: 2608305 || all params: 69266097 || trainable%: 3.7656301032812634\n"
     ]
    }
   ],
   "source": [
    "model.active_adapters = Stack(\"lora-source-mlm\", adapter_name)\n",
    "\n",
    "fn.print_trainable_parameters(model)"
   ]
  },
  {
   "cell_type": "code",
   "execution_count": 7,
   "metadata": {},
   "outputs": [
    {
     "data": {
      "text/plain": [
       "[{'name': 'lora-source-mlm',\n",
       "  'architecture': 'lora',\n",
       "  'active': True,\n",
       "  '#param': 147456,\n",
       "  'train': False,\n",
       "  '%param': 0.22219650503413957},\n",
       " {'name': 'lora-mlm-target',\n",
       "  'architecture': 'lora',\n",
       "  'active': False,\n",
       "  '#param': 147456,\n",
       "  'train': False,\n",
       "  '%param': 0.22219650503413957},\n",
       " {'name': 'task-adapter-after-lora-mlm',\n",
       "  'architecture': 'lora',\n",
       "  'active': True,\n",
       "  '#param': 147456,\n",
       "  'train': True,\n",
       "  '%param': 0.22219650503413957},\n",
       " {'name': 'Full model', '#param': 66362880, '%param': 100.0, 'train': False}]"
      ]
     },
     "execution_count": 7,
     "metadata": {},
     "output_type": "execute_result"
    }
   ],
   "source": [
    "model.adapter_summary(as_dict=True)"
   ]
  },
  {
   "cell_type": "code",
   "execution_count": 8,
   "metadata": {},
   "outputs": [
    {
     "data": {
      "text/plain": [
       "Dataset({\n",
       "    features: ['labels', 'input_ids', 'attention_mask'],\n",
       "    num_rows: 75013\n",
       "})"
      ]
     },
     "execution_count": 8,
     "metadata": {},
     "output_type": "execute_result"
    }
   ],
   "source": [
    "source_data"
   ]
  },
  {
   "cell_type": "code",
   "execution_count": 9,
   "metadata": {},
   "outputs": [
    {
     "name": "stderr",
     "output_type": "stream",
     "text": [
      "/home/guest/.cache/pypoetry/virtualenvs/intial-experments-_CPDD38x-py3.8/lib/python3.8/site-packages/accelerate/accelerator.py:432: FutureWarning: Passing the following arguments to `Accelerator` is deprecated and will be removed in version 1.0 of Accelerate: dict_keys(['dispatch_batches', 'split_batches']). Please pass an `accelerate.DataLoaderConfiguration` instead: \n",
      "dataloader_config = DataLoaderConfiguration(dispatch_batches=None, split_batches=False)\n",
      "  warnings.warn(\n"
     ]
    }
   ],
   "source": [
    "from transformers import TrainingArguments, EvalPrediction,default_data_collator\n",
    "from adapters import AdapterTrainer\n",
    "eval_data = None\n",
    "batch_size = 32\n",
    "\n",
    "logging_steps = len(source_data) // batch_size\n",
    "\n",
    "training_args = TrainingArguments(\n",
    "        \n",
    "        output_dir=f\"{config.Config.RESULTS_SAVE_PATH}/task_after_lora_mlm/results\",                 # Where to store the output (checkpoints and predictions)\n",
    "        num_train_epochs=8,                     # Total number of training epochs\n",
    "        per_device_train_batch_size=batch_size,         # Batch size for training\n",
    "        per_device_eval_batch_size=batch_size,          # Batch size for evaluation\n",
    "        warmup_steps=500,                       # Number of warmup steps for learning rate scheduler\n",
    "        learning_rate=1e-4,\n",
    "        weight_decay=0.01,                      # Strength of weight decay\n",
    "        logging_dir=f\"{config.Config.RESULTS_SAVE_PATH}/task_after_lora_mlm/logs\",                   # Directory for storing logs\n",
    "        logging_steps=logging_steps,                       # Log every X updates steps\n",
    "        remove_unused_columns=False,\n",
    "        evaluation_strategy=\"steps\" if eval_data is not None else \"no\",            # Evaluate model every X steps\n",
    "        eval_steps=logging_steps,                         # Number of steps to perform evaluation\n",
    "        save_steps=logging_steps,                         # Save checkpoint every X steps\n",
    "        save_total_limit=2,                     # Limit the total amount of checkpoints\n",
    "        load_best_model_at_end=True if eval_data is not None else False,            # Load the best model when finished training\n",
    "        report_to=\"none\"                        # Do not report to any online service\n",
    "    ) \n",
    "trainer = AdapterTrainer(\n",
    "        model=model,                           # The instantiated 🤗 Transformers model to be trained\n",
    "        args=training_args,                    # Training arguments, defined above\n",
    "        train_dataset=source_data,           # Training dataset\n",
    "        )"
   ]
  },
  {
   "cell_type": "code",
   "execution_count": 10,
   "metadata": {},
   "outputs": [
    {
     "data": {
      "application/vnd.jupyter.widget-view+json": {
       "model_id": "aca82ca6ebb64eaa81c0e1dc1d5e339b",
       "version_major": 2,
       "version_minor": 0
      },
      "text/plain": [
       "  0%|          | 0/18760 [00:00<?, ?it/s]"
      ]
     },
     "metadata": {},
     "output_type": "display_data"
    },
    {
     "name": "stdout",
     "output_type": "stream",
     "text": [
      "{'loss': 0.891, 'learning_rate': 8.990142387732749e-05, 'epoch': 1.0}\n",
      "{'loss': 0.7697, 'learning_rate': 7.706462212486309e-05, 'epoch': 2.0}\n",
      "{'loss': 0.7395, 'learning_rate': 6.422782037239868e-05, 'epoch': 3.0}\n",
      "{'loss': 0.7227, 'learning_rate': 5.1391018619934285e-05, 'epoch': 4.0}\n",
      "{'loss': 0.7114, 'learning_rate': 3.855421686746988e-05, 'epoch': 5.0}\n",
      "{'loss': 0.7001, 'learning_rate': 2.5717415115005478e-05, 'epoch': 6.0}\n",
      "{'loss': 0.6938, 'learning_rate': 1.2880613362541074e-05, 'epoch': 7.0}\n",
      "{'loss': 0.6861, 'learning_rate': 4.381161007667032e-08, 'epoch': 8.0}\n",
      "{'train_runtime': 1731.1819, 'train_samples_per_second': 346.644, 'train_steps_per_second': 10.837, 'train_loss': 0.7393012342422501, 'epoch': 8.0}\n"
     ]
    },
    {
     "data": {
      "text/plain": [
       "TrainOutput(global_step=18760, training_loss=0.7393012342422501, metrics={'train_runtime': 1731.1819, 'train_samples_per_second': 346.644, 'train_steps_per_second': 10.837, 'train_loss': 0.7393012342422501, 'epoch': 8.0})"
      ]
     },
     "execution_count": 10,
     "metadata": {},
     "output_type": "execute_result"
    }
   ],
   "source": [
    "trainer.train()\n"
   ]
  },
  {
   "cell_type": "code",
   "execution_count": 11,
   "metadata": {},
   "outputs": [
    {
     "data": {
      "text/plain": [
       "[{'name': 'lora-source-mlm',\n",
       "  'architecture': 'lora',\n",
       "  'active': False,\n",
       "  '#param': 147456,\n",
       "  'train': False,\n",
       "  '%param': 0.22219650503413957},\n",
       " {'name': 'lora-mlm-target',\n",
       "  'architecture': 'lora',\n",
       "  'active': True,\n",
       "  '#param': 147456,\n",
       "  'train': False,\n",
       "  '%param': 0.22219650503413957},\n",
       " {'name': 'task-adapter-after-lora-mlm',\n",
       "  'architecture': 'lora',\n",
       "  'active': True,\n",
       "  '#param': 147456,\n",
       "  'train': True,\n",
       "  '%param': 0.22219650503413957},\n",
       " {'name': 'Full model', '#param': 66362880, '%param': 100.0, 'train': False}]"
      ]
     },
     "execution_count": 11,
     "metadata": {},
     "output_type": "execute_result"
    }
   ],
   "source": [
    "model.active_adapters = Stack(\"lora-mlm-target\", adapter_name)\n",
    "\n",
    "model.adapter_summary(as_dict=True)"
   ]
  },
  {
   "cell_type": "code",
   "execution_count": 12,
   "metadata": {},
   "outputs": [
    {
     "name": "stderr",
     "output_type": "stream",
     "text": [
      "/home/guest/.cache/pypoetry/virtualenvs/intial-experments-_CPDD38x-py3.8/lib/python3.8/site-packages/accelerate/accelerator.py:432: FutureWarning: Passing the following arguments to `Accelerator` is deprecated and will be removed in version 1.0 of Accelerate: dict_keys(['dispatch_batches', 'split_batches']). Please pass an `accelerate.DataLoaderConfiguration` instead: \n",
      "dataloader_config = DataLoaderConfiguration(dispatch_batches=None, split_batches=False)\n",
      "  warnings.warn(\n"
     ]
    },
    {
     "data": {
      "application/vnd.jupyter.widget-view+json": {
       "model_id": "687637a135b5454a8479dcbf8842eae9",
       "version_major": 2,
       "version_minor": 0
      },
      "text/plain": [
       "  0%|          | 0/247 [00:00<?, ?it/s]"
      ]
     },
     "metadata": {},
     "output_type": "display_data"
    },
    {
     "data": {
      "text/plain": [
       "{'eval_loss': 1.0387978553771973,\n",
       " 'eval_accuracy': 0.4681174089068826,\n",
       " 'eval_f1': 0.42692643704349104,\n",
       " 'eval_precision': 0.5401774675329262,\n",
       " 'eval_recall': 0.4681174089068826,\n",
       " 'eval_runtime': 3.4299,\n",
       " 'eval_samples_per_second': 576.103,\n",
       " 'eval_steps_per_second': 72.013}"
      ]
     },
     "execution_count": 12,
     "metadata": {},
     "output_type": "execute_result"
    }
   ],
   "source": [
    "import numpy as np\n",
    "from transformers import EvalPrediction\n",
    "from sklearn.metrics import accuracy_score, f1_score,precision_recall_fscore_support\n",
    "\n",
    "\n",
    "def compute_metrics(pred:EvalPrediction):\n",
    "    labels = pred.label_ids\n",
    "    preds = pred.predictions.argmax(-1)\n",
    "    precision, recall, f1, _ = precision_recall_fscore_support(labels, preds, average='weighted')\n",
    "    acc = accuracy_score(labels, preds)\n",
    "    return {\n",
    "        'accuracy': acc,\n",
    "        'f1': f1,\n",
    "        'precision': precision,\n",
    "        'recall': recall\n",
    "    }\n",
    "eval_trainer = AdapterTrainer(\n",
    "    model=model,\n",
    "    args=TrainingArguments(output_dir=\"./eval_output\", remove_unused_columns=False,),\n",
    "    eval_dataset=test_target_data,\n",
    "    compute_metrics=compute_metrics,\n",
    ")\n",
    "eval_trainer.evaluate()"
   ]
  },
  {
   "cell_type": "markdown",
   "metadata": {},
   "source": []
  },
  {
   "cell_type": "code",
   "execution_count": 28,
   "metadata": {},
   "outputs": [],
   "source": [
    "import config.config as config\n",
    "\n",
    "trainer.model.save_adapter(f\"{config.Config.ADAPTER_SAVE_PATH}/{adapter_name}\", adapter_name,with_head=True)"
   ]
  }
 ],
 "metadata": {
  "kernelspec": {
   "display_name": "intial-experments-_CPDD38x-py3.8",
   "language": "python",
   "name": "python3"
  },
  "language_info": {
   "codemirror_mode": {
    "name": "ipython",
    "version": 3
   },
   "file_extension": ".py",
   "mimetype": "text/x-python",
   "name": "python",
   "nbconvert_exporter": "python",
   "pygments_lexer": "ipython3",
   "version": "3.8.10"
  }
 },
 "nbformat": 4,
 "nbformat_minor": 2
}
