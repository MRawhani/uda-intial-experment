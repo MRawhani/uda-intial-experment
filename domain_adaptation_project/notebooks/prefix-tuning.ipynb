{
 "cells": [
  {
   "cell_type": "code",
   "execution_count": 18,
   "metadata": {},
   "outputs": [
    {
     "name": "stdout",
     "output_type": "stream",
     "text": [
      "['/home/guest/Desktop/projects/intial-experments/domain_adaptation_project/notebooks', '/usr/lib/python38.zip', '/usr/lib/python3.8', '/usr/lib/python3.8/lib-dynload', '', '/home/guest/.cache/pypoetry/virtualenvs/intial-experments-_CPDD38x-py3.8/lib/python3.8/site-packages', '/home/guest/Desktop/projects/intial-experments/domain_adaptation_project/modules', '/tmp/tmpsewom7iz']\n"
     ]
    }
   ],
   "source": [
    "from setup import setup_src_path\n",
    "print(setup_src_path())\n",
    "import data.processed as processed\n",
    "import config.config as config\n",
    "import utils.setup as setup\n",
    "import utils.functions as fn\n",
    "from importlib import reload\n",
    "\n"
   ]
  },
  {
   "cell_type": "code",
   "execution_count": 2,
   "metadata": {},
   "outputs": [],
   "source": [
    "from datasets import load_from_disk\n",
    "from torch.utils.data import DataLoader\n",
    "\n",
    "source_data=load_from_disk(f\"{config.Config.DATASETS_SAVE_PATH}/source_data\")\n",
    "source_data_eval=load_from_disk(f\"{config.Config.DATASETS_SAVE_PATH}/source_data_eval\")\n",
    "target_data=load_from_disk(f\"{config.Config.DATASETS_SAVE_PATH}/target_data\")\n",
    "target_data_eval=load_from_disk(f\"{config.Config.DATASETS_SAVE_PATH}/target_data_eval\")\n",
    "test_target_data=load_from_disk(f\"{config.Config.DATASETS_SAVE_PATH}/test_target_data\")\n",
    "unsupervised_target=load_from_disk(f\"{config.Config.DATASETS_SAVE_PATH}/unsupervised_target\")\n",
    "\n",
    "\n",
    "source_data_loader = DataLoader(source_data, batch_size=32, shuffle=True)\n",
    "target_data_loader = DataLoader(target_data, batch_size=32)\n",
    "source_data_eval_loader = DataLoader(source_data_eval, batch_size=32, shuffle=True)\n",
    "target_data_eval_loader = DataLoader(target_data_eval, batch_size=32)\n",
    "\n",
    "target_test_loader = DataLoader(test_target_data, batch_size=32)"
   ]
  },
  {
   "cell_type": "code",
   "execution_count": 3,
   "metadata": {},
   "outputs": [
    {
     "data": {
      "text/plain": [
       "Dataset({\n",
       "    features: ['promptID', 'pairID', 'premise', 'premise_binary_parse', 'premise_parse', 'hypothesis', 'hypothesis_binary_parse', 'hypothesis_parse', 'genre', 'label'],\n",
       "    num_rows: 52350\n",
       "})"
      ]
     },
     "execution_count": 3,
     "metadata": {},
     "output_type": "execute_result"
    }
   ],
   "source": [
    "unsupervised_target"
   ]
  },
  {
   "cell_type": "code",
   "execution_count": 31,
   "metadata": {},
   "outputs": [
    {
     "name": "stdout",
     "output_type": "stream",
     "text": [
      "trainable params: 66985530 || all params: 66985530 || trainable%: 100.0\n"
     ]
    }
   ],
   "source": [
    "from transformers import AutoConfig\n",
    "from adapters import AutoAdapterModel\n",
    "\n",
    "mdlcfg = AutoConfig.from_pretrained(\n",
    "    config.Config.MODEL_NAME,\n",
    "    num_labels=3,\n",
    ")\n",
    "model = AutoAdapterModel.from_pretrained(\n",
    "    config.Config.MODEL_NAME,\n",
    "    config=mdlcfg,\n",
    ")\n",
    "reload(fn)\n",
    "fn.print_trainable_parameters(model)"
   ]
  },
  {
   "cell_type": "code",
   "execution_count": 32,
   "metadata": {},
   "outputs": [],
   "source": [
    "model.delete_adapter(adapter_name)"
   ]
  },
  {
   "cell_type": "code",
   "execution_count": 33,
   "metadata": {},
   "outputs": [
    {
     "name": "stdout",
     "output_type": "stream",
     "text": [
      "trainable params: 72130106 || all params: 72130106 || trainable%: 100.0\n"
     ]
    }
   ],
   "source": [
    "from adapters import PrefixTuningConfig\n",
    "\n",
    "adapter_name=\"prefix_tuning_for_task\"\n",
    "\n",
    "adapter_config = PrefixTuningConfig(flat=False)\n",
    "model.add_adapter(adapter_name, config=adapter_config)\n",
    "fn.print_trainable_parameters(model)"
   ]
  },
  {
   "cell_type": "code",
   "execution_count": 34,
   "metadata": {},
   "outputs": [],
   "source": [
    "model.add_classification_head(\n",
    "    adapter_name,\n",
    "    num_labels=3,\n",
    "  )\n",
    "model.set_active_adapters(adapter_name)\n",
    "model.train_adapter(adapter_name)"
   ]
  },
  {
   "cell_type": "code",
   "execution_count": 35,
   "metadata": {},
   "outputs": [
    {
     "name": "stdout",
     "output_type": "stream",
     "text": [
      "trainable params: 6360125 || all params: 72723005 || trainable%: 8.745685082732761\n"
     ]
    },
    {
     "data": {
      "text/plain": [
       "Stack[prefix_tuning_for_task]"
      ]
     },
     "execution_count": 35,
     "metadata": {},
     "output_type": "execute_result"
    }
   ],
   "source": [
    "fn.print_trainable_parameters(model)\n",
    "model.active_adapters"
   ]
  },
  {
   "cell_type": "code",
   "execution_count": 43,
   "metadata": {},
   "outputs": [
    {
     "data": {
      "text/plain": [
       "[{'name': 'prefix_tuning_for_task',\n",
       "  'architecture': 'prefix_tuning',\n",
       "  'active': True,\n",
       "  '#param': 5144576,\n",
       "  'train': True,\n",
       "  '%param': 7.752189175635536},\n",
       " {'name': 'Full model', '#param': 66362880, '%param': 100.0, 'train': False}]"
      ]
     },
     "execution_count": 43,
     "metadata": {},
     "output_type": "execute_result"
    }
   ],
   "source": [
    "model.adapter_summary(as_dict=True)"
   ]
  },
  {
   "cell_type": "code",
   "execution_count": 36,
   "metadata": {},
   "outputs": [
    {
     "name": "stdout",
     "output_type": "stream",
     "text": [
      "distilbert.transformer.layer.0.attention.prefix_tuning.pool.prefix_tunings.prefix_tuning_for_task.self.wte.weight\n",
      "distilbert.transformer.layer.0.attention.prefix_tuning.pool.prefix_tunings.prefix_tuning_for_task.self.control_trans.0.weight\n",
      "distilbert.transformer.layer.0.attention.prefix_tuning.pool.prefix_tunings.prefix_tuning_for_task.self.control_trans.0.bias\n",
      "distilbert.transformer.layer.0.attention.prefix_tuning.pool.prefix_tunings.prefix_tuning_for_task.self.control_trans.2.weight\n",
      "distilbert.transformer.layer.0.attention.prefix_tuning.pool.prefix_tunings.prefix_tuning_for_task.self.control_trans.2.bias\n",
      "heads.default.0.weight\n",
      "heads.default.0.bias\n",
      "heads.default.2.weight\n",
      "heads.default.2.bias\n",
      "heads.default.3.bias\n",
      "heads.prefix_tuning_for_task.1.weight\n",
      "heads.prefix_tuning_for_task.1.bias\n",
      "heads.prefix_tuning_for_task.4.weight\n",
      "heads.prefix_tuning_for_task.4.bias\n",
      "Stack[prefix_tuning_for_task]\n"
     ]
    }
   ],
   "source": [
    "for name, param in model.named_parameters():\n",
    "    if param.requires_grad:\n",
    "        print(name)\n",
    "print(model.active_adapters)"
   ]
  },
  {
   "cell_type": "code",
   "execution_count": 38,
   "metadata": {},
   "outputs": [
    {
     "name": "stdout",
     "output_type": "stream",
     "text": [
      "Accuracy before adaptation: 0.3355263157894737\n",
      "F1 score before adaptation: 0.26695973306768234\n"
     ]
    }
   ],
   "source": [
    "# Evaluate the model on the target domain before adaptation\n",
    "reload(fn)\n",
    "accuracy_before, f1_before = fn.evaluate_model(model, target_test_loader)\n",
    "print(f\"Accuracy before adaptation: {accuracy_before}\")\n",
    "print(f\"F1 score before adaptation: {f1_before}\")"
   ]
  },
  {
   "cell_type": "code",
   "execution_count": 39,
   "metadata": {},
   "outputs": [
    {
     "name": "stderr",
     "output_type": "stream",
     "text": [
      "/home/guest/.cache/pypoetry/virtualenvs/intial-experments-_CPDD38x-py3.8/lib/python3.8/site-packages/accelerate/accelerator.py:432: FutureWarning: Passing the following arguments to `Accelerator` is deprecated and will be removed in version 1.0 of Accelerate: dict_keys(['dispatch_batches', 'split_batches']). Please pass an `accelerate.DataLoaderConfiguration` instead: \n",
      "dataloader_config = DataLoaderConfiguration(dispatch_batches=None, split_batches=False)\n",
      "  warnings.warn(\n"
     ]
    },
    {
     "data": {
      "application/vnd.jupyter.widget-view+json": {
       "model_id": "94ff9e8831bc422c99d9b112ff6a6a7a",
       "version_major": 2,
       "version_minor": 0
      },
      "text/plain": [
       "  0%|          | 0/9380 [00:00<?, ?it/s]"
      ]
     },
     "metadata": {},
     "output_type": "display_data"
    },
    {
     "name": "stdout",
     "output_type": "stream",
     "text": [
      "{'loss': 1.0587, 'learning_rate': 0.0001, 'epoch': 0.21}\n"
     ]
    },
    {
     "data": {
      "application/vnd.jupyter.widget-view+json": {
       "model_id": "61cd7ad45eaf4ccbad036eb71edcccdf",
       "version_major": 2,
       "version_minor": 0
      },
      "text/plain": [
       "  0%|          | 0/242 [00:00<?, ?it/s]"
      ]
     },
     "metadata": {},
     "output_type": "display_data"
    },
    {
     "name": "stdout",
     "output_type": "stream",
     "text": [
      "{'eval_loss': 0.9821954369544983, 'eval_accuracy': 0.49657401422107306, 'eval_f1': 0.4598990710412013, 'eval_precision': 0.6391192815683466, 'eval_recall': 0.49657401422107306, 'eval_runtime': 11.0979, 'eval_samples_per_second': 696.976, 'eval_steps_per_second': 21.806, 'epoch': 0.21}\n",
      "{'loss': 0.881, 'learning_rate': 9.436936936936938e-05, 'epoch': 0.43}\n"
     ]
    },
    {
     "data": {
      "application/vnd.jupyter.widget-view+json": {
       "model_id": "f4815ba655f044dcb019cc0d3b169c6c",
       "version_major": 2,
       "version_minor": 0
      },
      "text/plain": [
       "  0%|          | 0/242 [00:00<?, ?it/s]"
      ]
     },
     "metadata": {},
     "output_type": "display_data"
    },
    {
     "name": "stdout",
     "output_type": "stream",
     "text": [
      "{'eval_loss': 0.8392854332923889, 'eval_accuracy': 0.6059469941822883, 'eval_f1': 0.6010670783443565, 'eval_precision': 0.6655466740390364, 'eval_recall': 0.6059469941822883, 'eval_runtime': 11.1728, 'eval_samples_per_second': 692.305, 'eval_steps_per_second': 21.66, 'epoch': 0.43}\n",
      "{'loss': 0.8336, 'learning_rate': 8.873873873873875e-05, 'epoch': 0.64}\n"
     ]
    },
    {
     "data": {
      "application/vnd.jupyter.widget-view+json": {
       "model_id": "0eee6af6cc1f4b47b4ffea6d4e7bed48",
       "version_major": 2,
       "version_minor": 0
      },
      "text/plain": [
       "  0%|          | 0/242 [00:00<?, ?it/s]"
      ]
     },
     "metadata": {},
     "output_type": "display_data"
    },
    {
     "name": "stdout",
     "output_type": "stream",
     "text": [
      "{'eval_loss': 0.8009545803070068, 'eval_accuracy': 0.6386554621848739, 'eval_f1': 0.6302484196867653, 'eval_precision': 0.6875508398812776, 'eval_recall': 0.6386554621848739, 'eval_runtime': 11.2345, 'eval_samples_per_second': 688.504, 'eval_steps_per_second': 21.541, 'epoch': 0.64}\n",
      "{'loss': 0.8031, 'learning_rate': 8.310810810810811e-05, 'epoch': 0.85}\n"
     ]
    },
    {
     "data": {
      "application/vnd.jupyter.widget-view+json": {
       "model_id": "e0c8f49ef36e4023a0aef1200c3d869a",
       "version_major": 2,
       "version_minor": 0
      },
      "text/plain": [
       "  0%|          | 0/242 [00:00<?, ?it/s]"
      ]
     },
     "metadata": {},
     "output_type": "display_data"
    },
    {
     "name": "stdout",
     "output_type": "stream",
     "text": [
      "{'eval_loss': 0.7780202031135559, 'eval_accuracy': 0.6532643826761474, 'eval_f1': 0.6499646505517894, 'eval_precision': 0.6791276331567834, 'eval_recall': 0.6532643826761474, 'eval_runtime': 11.2483, 'eval_samples_per_second': 687.659, 'eval_steps_per_second': 21.514, 'epoch': 0.85}\n",
      "{'loss': 0.7916, 'learning_rate': 7.747747747747748e-05, 'epoch': 1.07}\n"
     ]
    },
    {
     "data": {
      "application/vnd.jupyter.widget-view+json": {
       "model_id": "b14b658c7a654f828301b61a17f5c974",
       "version_major": 2,
       "version_minor": 0
      },
      "text/plain": [
       "  0%|          | 0/242 [00:00<?, ?it/s]"
      ]
     },
     "metadata": {},
     "output_type": "display_data"
    },
    {
     "name": "stdout",
     "output_type": "stream",
     "text": [
      "{'eval_loss': 0.7568672895431519, 'eval_accuracy': 0.6699418228829993, 'eval_f1': 0.6663462802262753, 'eval_precision': 0.6864689042509725, 'eval_recall': 0.6699418228829993, 'eval_runtime': 11.2685, 'eval_samples_per_second': 686.428, 'eval_steps_per_second': 21.476, 'epoch': 1.07}\n",
      "{'loss': 0.7655, 'learning_rate': 7.184684684684685e-05, 'epoch': 1.28}\n"
     ]
    },
    {
     "data": {
      "application/vnd.jupyter.widget-view+json": {
       "model_id": "62cf1d17625644b3b11f1a4aba71b0b9",
       "version_major": 2,
       "version_minor": 0
      },
      "text/plain": [
       "  0%|          | 0/242 [00:00<?, ?it/s]"
      ]
     },
     "metadata": {},
     "output_type": "display_data"
    },
    {
     "name": "stdout",
     "output_type": "stream",
     "text": [
      "{'eval_loss': 0.8414227366447449, 'eval_accuracy': 0.6100840336134454, 'eval_f1': 0.6038673134105509, 'eval_precision': 0.6942109857898565, 'eval_recall': 0.6100840336134454, 'eval_runtime': 11.2464, 'eval_samples_per_second': 687.778, 'eval_steps_per_second': 21.518, 'epoch': 1.28}\n",
      "{'loss': 0.749, 'learning_rate': 6.621621621621621e-05, 'epoch': 1.49}\n"
     ]
    },
    {
     "data": {
      "application/vnd.jupyter.widget-view+json": {
       "model_id": "f0960dd0097747878b1992fd0fb5453d",
       "version_major": 2,
       "version_minor": 0
      },
      "text/plain": [
       "  0%|          | 0/242 [00:00<?, ?it/s]"
      ]
     },
     "metadata": {},
     "output_type": "display_data"
    },
    {
     "name": "stdout",
     "output_type": "stream",
     "text": [
      "{'eval_loss': 0.7611492872238159, 'eval_accuracy': 0.663994828700711, 'eval_f1': 0.6636032528481367, 'eval_precision': 0.687225887485827, 'eval_recall': 0.663994828700711, 'eval_runtime': 11.2537, 'eval_samples_per_second': 687.332, 'eval_steps_per_second': 21.504, 'epoch': 1.49}\n",
      "{'loss': 0.7482, 'learning_rate': 6.058558558558559e-05, 'epoch': 1.71}\n"
     ]
    },
    {
     "data": {
      "application/vnd.jupyter.widget-view+json": {
       "model_id": "31d80ab8b3024077be0f15bbfdc15914",
       "version_major": 2,
       "version_minor": 0
      },
      "text/plain": [
       "  0%|          | 0/242 [00:00<?, ?it/s]"
      ]
     },
     "metadata": {},
     "output_type": "display_data"
    },
    {
     "name": "stdout",
     "output_type": "stream",
     "text": [
      "{'eval_loss': 0.7509709000587463, 'eval_accuracy': 0.6743374272786038, 'eval_f1': 0.6737430304216909, 'eval_precision': 0.6879109806247579, 'eval_recall': 0.6743374272786038, 'eval_runtime': 11.299, 'eval_samples_per_second': 684.575, 'eval_steps_per_second': 21.418, 'epoch': 1.71}\n",
      "{'loss': 0.7352, 'learning_rate': 5.4954954954954966e-05, 'epoch': 1.92}\n"
     ]
    },
    {
     "data": {
      "application/vnd.jupyter.widget-view+json": {
       "model_id": "7a65f6b1f82c4e3bb32176e6938d84c0",
       "version_major": 2,
       "version_minor": 0
      },
      "text/plain": [
       "  0%|          | 0/242 [00:00<?, ?it/s]"
      ]
     },
     "metadata": {},
     "output_type": "display_data"
    },
    {
     "name": "stdout",
     "output_type": "stream",
     "text": [
      "{'eval_loss': 0.7312343716621399, 'eval_accuracy': 0.6857142857142857, 'eval_f1': 0.6856125714180338, 'eval_precision': 0.6860673501431594, 'eval_recall': 0.6857142857142857, 'eval_runtime': 11.309, 'eval_samples_per_second': 683.967, 'eval_steps_per_second': 21.399, 'epoch': 1.92}\n",
      "{'loss': 0.7324, 'learning_rate': 4.9324324324324325e-05, 'epoch': 2.13}\n"
     ]
    },
    {
     "data": {
      "application/vnd.jupyter.widget-view+json": {
       "model_id": "c30ce9003baf46f191f10573971e4425",
       "version_major": 2,
       "version_minor": 0
      },
      "text/plain": [
       "  0%|          | 0/242 [00:00<?, ?it/s]"
      ]
     },
     "metadata": {},
     "output_type": "display_data"
    },
    {
     "name": "stdout",
     "output_type": "stream",
     "text": [
      "{'eval_loss': 0.7592841982841492, 'eval_accuracy': 0.669295410471881, 'eval_f1': 0.6675560403768955, 'eval_precision': 0.7022288929417629, 'eval_recall': 0.669295410471881, 'eval_runtime': 11.3188, 'eval_samples_per_second': 683.378, 'eval_steps_per_second': 21.38, 'epoch': 2.13}\n",
      "{'loss': 0.7174, 'learning_rate': 4.369369369369369e-05, 'epoch': 2.35}\n"
     ]
    },
    {
     "data": {
      "application/vnd.jupyter.widget-view+json": {
       "model_id": "eb97524b24e04a6b97bbcf0537c54ba1",
       "version_major": 2,
       "version_minor": 0
      },
      "text/plain": [
       "  0%|          | 0/242 [00:00<?, ?it/s]"
      ]
     },
     "metadata": {},
     "output_type": "display_data"
    },
    {
     "name": "stdout",
     "output_type": "stream",
     "text": [
      "{'eval_loss': 0.742250382900238, 'eval_accuracy': 0.6731738849385909, 'eval_f1': 0.6735839737408398, 'eval_precision': 0.6923758057305616, 'eval_recall': 0.6731738849385909, 'eval_runtime': 11.3222, 'eval_samples_per_second': 683.17, 'eval_steps_per_second': 21.374, 'epoch': 2.35}\n",
      "{'loss': 0.7046, 'learning_rate': 3.8063063063063064e-05, 'epoch': 2.56}\n"
     ]
    },
    {
     "data": {
      "application/vnd.jupyter.widget-view+json": {
       "model_id": "7db13eb3591a459ca02e1a3f88c7ca20",
       "version_major": 2,
       "version_minor": 0
      },
      "text/plain": [
       "  0%|          | 0/242 [00:00<?, ?it/s]"
      ]
     },
     "metadata": {},
     "output_type": "display_data"
    },
    {
     "name": "stdout",
     "output_type": "stream",
     "text": [
      "{'eval_loss': 0.7206103205680847, 'eval_accuracy': 0.6948933419521655, 'eval_f1': 0.6917184705828597, 'eval_precision': 0.7016208836378367, 'eval_recall': 0.6948933419521655, 'eval_runtime': 11.3373, 'eval_samples_per_second': 682.258, 'eval_steps_per_second': 21.345, 'epoch': 2.56}\n",
      "{'loss': 0.6965, 'learning_rate': 3.2432432432432436e-05, 'epoch': 2.77}\n"
     ]
    },
    {
     "data": {
      "application/vnd.jupyter.widget-view+json": {
       "model_id": "ef4e2393b1e748f28b451ae919eaf6cf",
       "version_major": 2,
       "version_minor": 0
      },
      "text/plain": [
       "  0%|          | 0/242 [00:00<?, ?it/s]"
      ]
     },
     "metadata": {},
     "output_type": "display_data"
    },
    {
     "name": "stdout",
     "output_type": "stream",
     "text": [
      "{'eval_loss': 0.7481569051742554, 'eval_accuracy': 0.6779573367808662, 'eval_f1': 0.6779396217399993, 'eval_precision': 0.7012998261529604, 'eval_recall': 0.6779573367808662, 'eval_runtime': 11.312, 'eval_samples_per_second': 683.789, 'eval_steps_per_second': 21.393, 'epoch': 2.77}\n",
      "{'loss': 0.6928, 'learning_rate': 2.6801801801801802e-05, 'epoch': 2.99}\n"
     ]
    },
    {
     "data": {
      "application/vnd.jupyter.widget-view+json": {
       "model_id": "18787e9b5f044d74b8bf94a178ddf30e",
       "version_major": 2,
       "version_minor": 0
      },
      "text/plain": [
       "  0%|          | 0/242 [00:00<?, ?it/s]"
      ]
     },
     "metadata": {},
     "output_type": "display_data"
    },
    {
     "name": "stdout",
     "output_type": "stream",
     "text": [
      "{'eval_loss': 0.7184383869171143, 'eval_accuracy': 0.6946347769877181, 'eval_f1': 0.6951986242724099, 'eval_precision': 0.7021172115357606, 'eval_recall': 0.6946347769877181, 'eval_runtime': 11.3177, 'eval_samples_per_second': 683.441, 'eval_steps_per_second': 21.382, 'epoch': 2.99}\n",
      "{'loss': 0.6843, 'learning_rate': 2.117117117117117e-05, 'epoch': 3.2}\n"
     ]
    },
    {
     "data": {
      "application/vnd.jupyter.widget-view+json": {
       "model_id": "56241143ca34410aa66cda7dc997205a",
       "version_major": 2,
       "version_minor": 0
      },
      "text/plain": [
       "  0%|          | 0/242 [00:00<?, ?it/s]"
      ]
     },
     "metadata": {},
     "output_type": "display_data"
    },
    {
     "name": "stdout",
     "output_type": "stream",
     "text": [
      "{'eval_loss': 0.7168022394180298, 'eval_accuracy': 0.6936005171299289, 'eval_f1': 0.6933796396780197, 'eval_precision': 0.7069264865604429, 'eval_recall': 0.6936005171299289, 'eval_runtime': 11.3207, 'eval_samples_per_second': 683.261, 'eval_steps_per_second': 21.377, 'epoch': 3.2}\n",
      "{'loss': 0.6797, 'learning_rate': 1.554054054054054e-05, 'epoch': 3.41}\n"
     ]
    },
    {
     "data": {
      "application/vnd.jupyter.widget-view+json": {
       "model_id": "6cd2ee392ac7406aaf9d52674004edf5",
       "version_major": 2,
       "version_minor": 0
      },
      "text/plain": [
       "  0%|          | 0/242 [00:00<?, ?it/s]"
      ]
     },
     "metadata": {},
     "output_type": "display_data"
    },
    {
     "name": "stdout",
     "output_type": "stream",
     "text": [
      "{'eval_loss': 0.7157541513442993, 'eval_accuracy': 0.6956690368455074, 'eval_f1': 0.6947982609028354, 'eval_precision': 0.7043203498452915, 'eval_recall': 0.6956690368455074, 'eval_runtime': 11.3319, 'eval_samples_per_second': 682.588, 'eval_steps_per_second': 21.356, 'epoch': 3.41}\n",
      "{'loss': 0.6741, 'learning_rate': 9.90990990990991e-06, 'epoch': 3.62}\n"
     ]
    },
    {
     "data": {
      "application/vnd.jupyter.widget-view+json": {
       "model_id": "db0c20543e104605a1e26a5a083110bb",
       "version_major": 2,
       "version_minor": 0
      },
      "text/plain": [
       "  0%|          | 0/242 [00:00<?, ?it/s]"
      ]
     },
     "metadata": {},
     "output_type": "display_data"
    },
    {
     "name": "stdout",
     "output_type": "stream",
     "text": [
      "{'eval_loss': 0.7116572260856628, 'eval_accuracy': 0.6937297996121525, 'eval_f1': 0.6938868252662744, 'eval_precision': 0.7032836296433196, 'eval_recall': 0.6937297996121525, 'eval_runtime': 11.3342, 'eval_samples_per_second': 682.446, 'eval_steps_per_second': 21.351, 'epoch': 3.62}\n",
      "{'loss': 0.6657, 'learning_rate': 4.279279279279279e-06, 'epoch': 3.84}\n"
     ]
    },
    {
     "data": {
      "application/vnd.jupyter.widget-view+json": {
       "model_id": "3cc2b9b80a7047b9858613bccae79f86",
       "version_major": 2,
       "version_minor": 0
      },
      "text/plain": [
       "  0%|          | 0/242 [00:00<?, ?it/s]"
      ]
     },
     "metadata": {},
     "output_type": "display_data"
    },
    {
     "name": "stdout",
     "output_type": "stream",
     "text": [
      "{'eval_loss': 0.7062340378761292, 'eval_accuracy': 0.701874595992243, 'eval_f1': 0.7014975076969809, 'eval_precision': 0.711838121430564, 'eval_recall': 0.701874595992243, 'eval_runtime': 11.3471, 'eval_samples_per_second': 681.671, 'eval_steps_per_second': 21.327, 'epoch': 3.84}\n"
     ]
    },
    {
     "name": "stderr",
     "output_type": "stream",
     "text": [
      "Overwriting existing adapter 'prefix_tuning_for_task'.\n",
      "Overwriting existing head 'prefix_tuning_for_task'\n"
     ]
    },
    {
     "name": "stdout",
     "output_type": "stream",
     "text": [
      "{'train_runtime': 1087.8126, 'train_samples_per_second': 275.831, 'train_steps_per_second': 8.623, 'train_loss': 0.7523496827082847, 'epoch': 4.0}\n"
     ]
    }
   ],
   "source": [
    "reload(config)\n",
    "reload(fn)\n",
    "trainer = fn.train_model(model,\"prefix-tuning-for-task\",source_data,source_data_eval)"
   ]
  },
  {
   "cell_type": "code",
   "execution_count": 40,
   "metadata": {},
   "outputs": [
    {
     "data": {
      "application/vnd.jupyter.widget-view+json": {
       "model_id": "600901fd07a44a04927dea8578982a4d",
       "version_major": 2,
       "version_minor": 0
      },
      "text/plain": [
       "  0%|          | 0/62 [00:00<?, ?it/s]"
      ]
     },
     "metadata": {},
     "output_type": "display_data"
    },
    {
     "data": {
      "text/plain": [
       "{'eval_loss': 0.7317155599594116,\n",
       " 'eval_accuracy': 0.6938259109311741,\n",
       " 'eval_f1': 0.693720537101176,\n",
       " 'eval_precision': 0.7113346756854846,\n",
       " 'eval_recall': 0.6938259109311741,\n",
       " 'eval_runtime': 2.7996,\n",
       " 'eval_samples_per_second': 705.814,\n",
       " 'eval_steps_per_second': 22.146,\n",
       " 'epoch': 4.0}"
      ]
     },
     "execution_count": 40,
     "metadata": {},
     "output_type": "execute_result"
    }
   ],
   "source": [
    "trainer.evaluate(test_target_data)"
   ]
  },
  {
   "cell_type": "code",
   "execution_count": 41,
   "metadata": {},
   "outputs": [
    {
     "name": "stdout",
     "output_type": "stream",
     "text": [
      "Accuracy before adaptation: 0.6938259109311741\n",
      "F1 score before adaptation: 0.693720537101176\n"
     ]
    }
   ],
   "source": [
    "accuracy_before, f1_before = fn.evaluate_model(trainer.model, target_test_loader)\n",
    "print(f\"Accuracy before adaptation: {accuracy_before}\")\n",
    "print(f\"F1 score before adaptation: {f1_before}\")"
   ]
  },
  {
   "cell_type": "code",
   "execution_count": 42,
   "metadata": {},
   "outputs": [],
   "source": [
    "trainer.model.save_adapter(f\"{config.Config.ADAPTER_SAVE_PATH}/{adapter_name}\", adapter_name)"
   ]
  },
  {
   "cell_type": "code",
   "execution_count": null,
   "metadata": {},
   "outputs": [],
   "source": []
  }
 ],
 "metadata": {
  "kernelspec": {
   "display_name": "intial-experments-_CPDD38x-py3.8",
   "language": "python",
   "name": "python3"
  },
  "language_info": {
   "codemirror_mode": {
    "name": "ipython",
    "version": 3
   },
   "file_extension": ".py",
   "mimetype": "text/x-python",
   "name": "python",
   "nbconvert_exporter": "python",
   "pygments_lexer": "ipython3",
   "version": "3.8.10"
  }
 },
 "nbformat": 4,
 "nbformat_minor": 2
}
