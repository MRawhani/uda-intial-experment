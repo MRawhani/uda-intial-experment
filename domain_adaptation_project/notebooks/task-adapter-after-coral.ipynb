{
 "cells": [
  {
   "cell_type": "code",
   "execution_count": null,
   "metadata": {},
   "outputs": [],
   "source": []
  },
  {
   "cell_type": "code",
   "execution_count": 1,
   "metadata": {},
   "outputs": [
    {
     "name": "stdout",
     "output_type": "stream",
     "text": [
      "['/home/guest/Desktop/projects/intial-experments/domain_adaptation_project/notebooks', '/usr/lib/python38.zip', '/usr/lib/python3.8', '/usr/lib/python3.8/lib-dynload', '', '/home/guest/.cache/pypoetry/virtualenvs/intial-experments-_CPDD38x-py3.8/lib/python3.8/site-packages', '/home/guest/Desktop/projects/intial-experments/domain_adaptation_project/modules']\n"
     ]
    },
    {
     "name": "stderr",
     "output_type": "stream",
     "text": [
      "/home/guest/.cache/pypoetry/virtualenvs/intial-experments-_CPDD38x-py3.8/lib/python3.8/site-packages/transformers/utils/generic.py:441: UserWarning: torch.utils._pytree._register_pytree_node is deprecated. Please use torch.utils._pytree.register_pytree_node instead.\n",
      "  _torch_pytree._register_pytree_node(\n",
      "/home/guest/.cache/pypoetry/virtualenvs/intial-experments-_CPDD38x-py3.8/lib/python3.8/site-packages/transformers/utils/generic.py:309: UserWarning: torch.utils._pytree._register_pytree_node is deprecated. Please use torch.utils._pytree.register_pytree_node instead.\n",
      "  _torch_pytree._register_pytree_node(\n",
      "2024-03-19 18:16:14.186648: I tensorflow/core/util/port.cc:110] oneDNN custom operations are on. You may see slightly different numerical results due to floating-point round-off errors from different computation orders. To turn them off, set the environment variable `TF_ENABLE_ONEDNN_OPTS=0`.\n",
      "2024-03-19 18:16:14.219556: I tensorflow/core/platform/cpu_feature_guard.cc:182] This TensorFlow binary is optimized to use available CPU instructions in performance-critical operations.\n",
      "To enable the following instructions: AVX2 AVX512F AVX512_VNNI FMA, in other operations, rebuild TensorFlow with the appropriate compiler flags.\n",
      "2024-03-19 18:16:14.777517: W tensorflow/compiler/tf2tensorrt/utils/py_utils.cc:38] TF-TRT Warning: Could not find TensorRT\n"
     ]
    }
   ],
   "source": [
    "from setup import setup_src_path\n",
    "print(setup_src_path())\n",
    "import data.processed as processed\n",
    "import config.config as config\n",
    "import utils.setup as setup\n",
    "import utils.functions as fn\n",
    "from importlib import reload\n",
    "\n"
   ]
  },
  {
   "cell_type": "code",
   "execution_count": 2,
   "metadata": {},
   "outputs": [],
   "source": [
    "from datasets import load_from_disk\n",
    "\n",
    "source_data=load_from_disk(f\"{config.Config.DATASETS_SAVE_PATH}/source_data\")\n",
    "source_data_eval=load_from_disk(f\"{config.Config.DATASETS_SAVE_PATH}/source_data_eval\")\n",
    "target_data=load_from_disk(f\"{config.Config.DATASETS_SAVE_PATH}/target_data\")\n",
    "target_data_eval=load_from_disk(f\"{config.Config.DATASETS_SAVE_PATH}/target_data_eval\")\n",
    "test_target_data=load_from_disk(f\"{config.Config.DATASETS_SAVE_PATH}/test_target_data\")\n",
    "unsupervised_target=load_from_disk(f\"{config.Config.DATASETS_SAVE_PATH}/unsupervised_target\")\n"
   ]
  },
  {
   "cell_type": "code",
   "execution_count": 3,
   "metadata": {},
   "outputs": [],
   "source": [
    "from torch.utils.data import DataLoader\n",
    "source_data_loader = DataLoader(source_data, batch_size=32, shuffle=True)\n",
    "target_data_loader = DataLoader(target_data, batch_size=32)\n",
    "source_data_eval_loader = DataLoader(source_data_eval, batch_size=32, shuffle=True)\n",
    "target_data_eval_loader = DataLoader(target_data_eval, batch_size=32)\n",
    "\n",
    "target_test_loader = DataLoader(test_target_data, batch_size=32)"
   ]
  },
  {
   "cell_type": "code",
   "execution_count": 4,
   "metadata": {},
   "outputs": [
    {
     "name": "stdout",
     "output_type": "stream",
     "text": [
      "trainable params: 66985530 || all params: 66985530 || trainable%: 100.0\n"
     ]
    }
   ],
   "source": [
    "from adapters import AutoAdapterModel\n",
    "from tqdm import tqdm\n",
    "\n",
    "from transformers import AutoConfig\n",
    "\n",
    "mdlcfg = AutoConfig.from_pretrained(\n",
    "    config.Config.MODEL_NAME,\n",
    " \n",
    ")\n",
    "model = AutoAdapterModel.from_pretrained(\n",
    "    config.Config.MODEL_NAME,\n",
    "    config=mdlcfg,\n",
    ")\n",
    "reload(fn)\n",
    "fn.print_trainable_parameters(model)"
   ]
  },
  {
   "cell_type": "code",
   "execution_count": 5,
   "metadata": {},
   "outputs": [],
   "source": [
    "domain_adapter_coral = model.load_adapter(f\"{config.Config.ADAPTER_SAVE_PATH}/domain_adapter_telephone_travel\")\n"
   ]
  },
  {
   "cell_type": "code",
   "execution_count": null,
   "metadata": {},
   "outputs": [],
   "source": []
  },
  {
   "cell_type": "code",
   "execution_count": 6,
   "metadata": {},
   "outputs": [
    {
     "name": "stdout",
     "output_type": "stream",
     "text": [
      "trainable params: 1662813 || all params: 68472957 || trainable%: 2.428422946594814\n"
     ]
    }
   ],
   "source": [
    "from transformers import AdamW\n",
    "from adapters import AdapterConfig\n",
    "from adapters.composition import Stack\n",
    "\n",
    "adapter_name= \"stacked-adapter-task-modefied\"\n",
    "config = AdapterConfig.load(\"seq_bn\", reduction_factor=16, leave_out=[])\n",
    "model.add_adapter(adapter_name, config=config)\n",
    "model.add_classification_head(\n",
    "    adapter_name,\n",
    "    num_labels=3,\n",
    "  )\n",
    "model.train_adapter([adapter_name])\n",
    "model.active_adapters = Stack(domain_adapter_coral, adapter_name)\n",
    "\n",
    "fn.print_trainable_parameters(model)"
   ]
  },
  {
   "cell_type": "code",
   "execution_count": 7,
   "metadata": {},
   "outputs": [
    {
     "data": {
      "text/plain": [
       "Stack[domain_adapter_telephone-travel, stacked-adapter-task-modefied]"
      ]
     },
     "execution_count": 7,
     "metadata": {},
     "output_type": "execute_result"
    }
   ],
   "source": [
    "model.active_adapters"
   ]
  },
  {
   "cell_type": "code",
   "execution_count": 8,
   "metadata": {},
   "outputs": [
    {
     "data": {
      "text/plain": [
       "[{'name': 'domain_adapter_telephone-travel',\n",
       "  'architecture': 'bottleneck',\n",
       "  'active': True,\n",
       "  '#param': 447264,\n",
       "  'train': False,\n",
       "  '%param': 0.6739671334336303},\n",
       " {'name': 'stacked-adapter-task-modefied',\n",
       "  'architecture': 'bottleneck',\n",
       "  'active': True,\n",
       "  '#param': 447264,\n",
       "  'train': True,\n",
       "  '%param': 0.6739671334336303},\n",
       " {'name': 'Full model', '#param': 66362880, '%param': 100.0, 'train': False}]"
      ]
     },
     "execution_count": 8,
     "metadata": {},
     "output_type": "execute_result"
    }
   ],
   "source": [
    "model.adapter_summary(as_dict=True)"
   ]
  },
  {
   "cell_type": "code",
   "execution_count": 8,
   "metadata": {},
   "outputs": [
    {
     "name": "stdout",
     "output_type": "stream",
     "text": [
      "trainable params: 1662813 || all params: 68472957 || trainable%: 2.428422946594814\n"
     ]
    },
    {
     "data": {
      "text/plain": [
       "Stack[stacked-adapter-task-modefied]"
      ]
     },
     "execution_count": 8,
     "metadata": {},
     "output_type": "execute_result"
    }
   ],
   "source": [
    "fn.print_trainable_parameters(model)\n",
    "model.active_adapters"
   ]
  },
  {
   "cell_type": "code",
   "execution_count": 9,
   "metadata": {},
   "outputs": [
    {
     "name": "stdout",
     "output_type": "stream",
     "text": [
      "Accuracy before adaptation: 0.33299595141700405\n",
      "F1 score before adaptation: 0.2564812007826246\n"
     ]
    }
   ],
   "source": [
    "# Evaluate the model on the target domain before adaptation\n",
    "reload(fn)\n",
    "accuracy_before, f1_before = fn.evaluate_model(model, target_test_loader)\n",
    "print(f\"Accuracy before adaptation: {accuracy_before}\")\n",
    "print(f\"F1 score before adaptation: {f1_before}\")"
   ]
  },
  {
   "cell_type": "code",
   "execution_count": 10,
   "metadata": {},
   "outputs": [
    {
     "name": "stderr",
     "output_type": "stream",
     "text": [
      "/home/guest/.cache/pypoetry/virtualenvs/intial-experments-_CPDD38x-py3.8/lib/python3.8/site-packages/accelerate/accelerator.py:432: FutureWarning: Passing the following arguments to `Accelerator` is deprecated and will be removed in version 1.0 of Accelerate: dict_keys(['dispatch_batches', 'split_batches']). Please pass an `accelerate.DataLoaderConfiguration` instead: \n",
      "dataloader_config = DataLoaderConfiguration(dispatch_batches=None, split_batches=False)\n",
      "  warnings.warn(\n"
     ]
    },
    {
     "data": {
      "application/vnd.jupyter.widget-view+json": {
       "model_id": "53b0f179b76e4bd5a35c4c07db376017",
       "version_major": 2,
       "version_minor": 0
      },
      "text/plain": [
       "  0%|          | 0/23450 [00:00<?, ?it/s]"
      ]
     },
     "metadata": {},
     "output_type": "display_data"
    },
    {
     "name": "stdout",
     "output_type": "stream",
     "text": [
      "{'loss': 1.0753, 'learning_rate': 0.0001, 'epoch': 0.21}\n"
     ]
    },
    {
     "data": {
      "application/vnd.jupyter.widget-view+json": {
       "model_id": "0e413ba8929447ad8dac32837493294c",
       "version_major": 2,
       "version_minor": 0
      },
      "text/plain": [
       "  0%|          | 0/121 [00:00<?, ?it/s]"
      ]
     },
     "metadata": {},
     "output_type": "display_data"
    },
    {
     "name": "stdout",
     "output_type": "stream",
     "text": [
      "{'eval_loss': 0.9973421096801758, 'eval_accuracy': 0.48377504848093084, 'eval_f1': 0.4398500410873099, 'eval_precision': 0.6497267007514298, 'eval_recall': 0.48377504848093084, 'eval_runtime': 10.4663, 'eval_samples_per_second': 739.042, 'eval_steps_per_second': 11.561, 'epoch': 0.21}\n",
      "{'loss': 0.8813, 'learning_rate': 9.782135076252724e-05, 'epoch': 0.43}\n"
     ]
    },
    {
     "data": {
      "application/vnd.jupyter.widget-view+json": {
       "model_id": "94771225e3d34f809466d5ed9c64fc86",
       "version_major": 2,
       "version_minor": 0
      },
      "text/plain": [
       "  0%|          | 0/121 [00:00<?, ?it/s]"
      ]
     },
     "metadata": {},
     "output_type": "display_data"
    },
    {
     "name": "stdout",
     "output_type": "stream",
     "text": [
      "{'eval_loss': 0.8452864289283752, 'eval_accuracy': 0.5971557853910795, 'eval_f1': 0.5933735595803619, 'eval_precision': 0.6531786985327083, 'eval_recall': 0.5971557853910795, 'eval_runtime': 10.5666, 'eval_samples_per_second': 732.021, 'eval_steps_per_second': 11.451, 'epoch': 0.43}\n",
      "{'loss': 0.8264, 'learning_rate': 9.564270152505447e-05, 'epoch': 0.64}\n"
     ]
    },
    {
     "data": {
      "application/vnd.jupyter.widget-view+json": {
       "model_id": "cb6435192be048a68868eb76d6cc18b6",
       "version_major": 2,
       "version_minor": 0
      },
      "text/plain": [
       "  0%|          | 0/121 [00:00<?, ?it/s]"
      ]
     },
     "metadata": {},
     "output_type": "display_data"
    },
    {
     "name": "stdout",
     "output_type": "stream",
     "text": [
      "{'eval_loss': 0.8075269460678101, 'eval_accuracy': 0.631415643180349, 'eval_f1': 0.625680796778473, 'eval_precision': 0.6840822021094546, 'eval_recall': 0.631415643180349, 'eval_runtime': 10.605, 'eval_samples_per_second': 729.375, 'eval_steps_per_second': 11.41, 'epoch': 0.64}\n",
      "{'loss': 0.789, 'learning_rate': 9.34640522875817e-05, 'epoch': 0.85}\n"
     ]
    },
    {
     "data": {
      "application/vnd.jupyter.widget-view+json": {
       "model_id": "a4aeb320b8934b9694f0eddb9a148e24",
       "version_major": 2,
       "version_minor": 0
      },
      "text/plain": [
       "  0%|          | 0/121 [00:00<?, ?it/s]"
      ]
     },
     "metadata": {},
     "output_type": "display_data"
    },
    {
     "name": "stdout",
     "output_type": "stream",
     "text": [
      "{'eval_loss': 0.7659368515014648, 'eval_accuracy': 0.6624434389140271, 'eval_f1': 0.661067963891375, 'eval_precision': 0.6891489013715517, 'eval_recall': 0.6624434389140271, 'eval_runtime': 10.6477, 'eval_samples_per_second': 726.448, 'eval_steps_per_second': 11.364, 'epoch': 0.85}\n",
      "{'loss': 0.7709, 'learning_rate': 9.128540305010894e-05, 'epoch': 1.07}\n"
     ]
    },
    {
     "data": {
      "application/vnd.jupyter.widget-view+json": {
       "model_id": "a1706cd70f264a2fae362e0e35dcc20d",
       "version_major": 2,
       "version_minor": 0
      },
      "text/plain": [
       "  0%|          | 0/121 [00:00<?, ?it/s]"
      ]
     },
     "metadata": {},
     "output_type": "display_data"
    },
    {
     "name": "stdout",
     "output_type": "stream",
     "text": [
      "{'eval_loss': 0.7596648335456848, 'eval_accuracy': 0.664382676147382, 'eval_f1': 0.6616622639445697, 'eval_precision': 0.6968601574492888, 'eval_recall': 0.664382676147382, 'eval_runtime': 10.6954, 'eval_samples_per_second': 723.206, 'eval_steps_per_second': 11.313, 'epoch': 1.07}\n",
      "{'loss': 0.7404, 'learning_rate': 8.910675381263617e-05, 'epoch': 1.28}\n"
     ]
    },
    {
     "data": {
      "application/vnd.jupyter.widget-view+json": {
       "model_id": "bc2c3e91d3534d50bb1ea755979e322d",
       "version_major": 2,
       "version_minor": 0
      },
      "text/plain": [
       "  0%|          | 0/121 [00:00<?, ?it/s]"
      ]
     },
     "metadata": {},
     "output_type": "display_data"
    },
    {
     "name": "stdout",
     "output_type": "stream",
     "text": [
      "{'eval_loss': 0.7996687293052673, 'eval_accuracy': 0.6372333548804137, 'eval_f1': 0.6327735495579331, 'eval_precision': 0.7010165935462983, 'eval_recall': 0.6372333548804137, 'eval_runtime': 10.6938, 'eval_samples_per_second': 723.316, 'eval_steps_per_second': 11.315, 'epoch': 1.28}\n",
      "{'loss': 0.7209, 'learning_rate': 8.692810457516341e-05, 'epoch': 1.49}\n"
     ]
    },
    {
     "data": {
      "application/vnd.jupyter.widget-view+json": {
       "model_id": "6a34e3f40a1f4976966c2c4d6e3fb037",
       "version_major": 2,
       "version_minor": 0
      },
      "text/plain": [
       "  0%|          | 0/121 [00:00<?, ?it/s]"
      ]
     },
     "metadata": {},
     "output_type": "display_data"
    },
    {
     "name": "stdout",
     "output_type": "stream",
     "text": [
      "{'eval_loss': 0.7356222867965698, 'eval_accuracy': 0.6804137039431157, 'eval_f1': 0.6789172292137832, 'eval_precision': 0.7018146813923948, 'eval_recall': 0.6804137039431157, 'eval_runtime': 10.7126, 'eval_samples_per_second': 722.05, 'eval_steps_per_second': 11.295, 'epoch': 1.49}\n",
      "{'loss': 0.7129, 'learning_rate': 8.474945533769063e-05, 'epoch': 1.71}\n"
     ]
    },
    {
     "data": {
      "application/vnd.jupyter.widget-view+json": {
       "model_id": "ed7f4c2dd6134aae846eb0a2e3afde01",
       "version_major": 2,
       "version_minor": 0
      },
      "text/plain": [
       "  0%|          | 0/121 [00:00<?, ?it/s]"
      ]
     },
     "metadata": {},
     "output_type": "display_data"
    },
    {
     "name": "stdout",
     "output_type": "stream",
     "text": [
      "{'eval_loss': 0.7273645401000977, 'eval_accuracy': 0.6837750484809308, 'eval_f1': 0.6822087036807286, 'eval_precision': 0.7038361010477672, 'eval_recall': 0.6837750484809308, 'eval_runtime': 10.7117, 'eval_samples_per_second': 722.106, 'eval_steps_per_second': 11.296, 'epoch': 1.71}\n",
      "{'loss': 0.6999, 'learning_rate': 8.257080610021787e-05, 'epoch': 1.92}\n"
     ]
    },
    {
     "data": {
      "application/vnd.jupyter.widget-view+json": {
       "model_id": "2412830377d74684b56174f64659068b",
       "version_major": 2,
       "version_minor": 0
      },
      "text/plain": [
       "  0%|          | 0/121 [00:00<?, ?it/s]"
      ]
     },
     "metadata": {},
     "output_type": "display_data"
    },
    {
     "name": "stdout",
     "output_type": "stream",
     "text": [
      "{'eval_loss': 0.7090483903884888, 'eval_accuracy': 0.6964447317388494, 'eval_f1': 0.6972630621923029, 'eval_precision': 0.7008062860495236, 'eval_recall': 0.6964447317388494, 'eval_runtime': 10.7288, 'eval_samples_per_second': 720.956, 'eval_steps_per_second': 11.278, 'epoch': 1.92}\n",
      "{'loss': 0.6913, 'learning_rate': 8.039215686274511e-05, 'epoch': 2.13}\n"
     ]
    },
    {
     "data": {
      "application/vnd.jupyter.widget-view+json": {
       "model_id": "ee486c0d3cfc482e8d8d80d9101b50d5",
       "version_major": 2,
       "version_minor": 0
      },
      "text/plain": [
       "  0%|          | 0/121 [00:00<?, ?it/s]"
      ]
     },
     "metadata": {},
     "output_type": "display_data"
    },
    {
     "name": "stdout",
     "output_type": "stream",
     "text": [
      "{'eval_loss': 0.7195524573326111, 'eval_accuracy': 0.6882999353587589, 'eval_f1': 0.6880927863480765, 'eval_precision': 0.711878554544578, 'eval_recall': 0.6882999353587589, 'eval_runtime': 10.7212, 'eval_samples_per_second': 721.469, 'eval_steps_per_second': 11.286, 'epoch': 2.13}\n",
      "{'loss': 0.6809, 'learning_rate': 7.821350762527233e-05, 'epoch': 2.35}\n"
     ]
    },
    {
     "data": {
      "application/vnd.jupyter.widget-view+json": {
       "model_id": "120fb149be9a4a329b2792ec294282c6",
       "version_major": 2,
       "version_minor": 0
      },
      "text/plain": [
       "  0%|          | 0/121 [00:00<?, ?it/s]"
      ]
     },
     "metadata": {},
     "output_type": "display_data"
    },
    {
     "name": "stdout",
     "output_type": "stream",
     "text": [
      "{'eval_loss': 0.6993107795715332, 'eval_accuracy': 0.702650290885585, 'eval_f1': 0.7032106325591148, 'eval_precision': 0.7125347985070793, 'eval_recall': 0.702650290885585, 'eval_runtime': 10.7301, 'eval_samples_per_second': 720.869, 'eval_steps_per_second': 11.277, 'epoch': 2.35}\n",
      "{'loss': 0.6637, 'learning_rate': 7.603485838779957e-05, 'epoch': 2.56}\n"
     ]
    },
    {
     "data": {
      "application/vnd.jupyter.widget-view+json": {
       "model_id": "03b530749dfc4ecd88b83e86dba8205a",
       "version_major": 2,
       "version_minor": 0
      },
      "text/plain": [
       "  0%|          | 0/121 [00:00<?, ?it/s]"
      ]
     },
     "metadata": {},
     "output_type": "display_data"
    },
    {
     "name": "stdout",
     "output_type": "stream",
     "text": [
      "{'eval_loss': 0.6976563930511475, 'eval_accuracy': 0.7061409179056238, 'eval_f1': 0.7036206448725215, 'eval_precision': 0.7155016419936887, 'eval_recall': 0.7061409179056238, 'eval_runtime': 10.7376, 'eval_samples_per_second': 720.368, 'eval_steps_per_second': 11.269, 'epoch': 2.56}\n",
      "{'loss': 0.6631, 'learning_rate': 7.385620915032681e-05, 'epoch': 2.77}\n"
     ]
    },
    {
     "data": {
      "application/vnd.jupyter.widget-view+json": {
       "model_id": "93165d613abc4fb6b7fe36fbe2b3703a",
       "version_major": 2,
       "version_minor": 0
      },
      "text/plain": [
       "  0%|          | 0/121 [00:00<?, ?it/s]"
      ]
     },
     "metadata": {},
     "output_type": "display_data"
    },
    {
     "name": "stdout",
     "output_type": "stream",
     "text": [
      "{'eval_loss': 0.7359704971313477, 'eval_accuracy': 0.6766645119586296, 'eval_f1': 0.6763865449770288, 'eval_precision': 0.7142063056678758, 'eval_recall': 0.6766645119586296, 'eval_runtime': 10.7261, 'eval_samples_per_second': 721.139, 'eval_steps_per_second': 11.281, 'epoch': 2.77}\n",
      "{'loss': 0.6517, 'learning_rate': 7.167755991285404e-05, 'epoch': 2.99}\n"
     ]
    },
    {
     "data": {
      "application/vnd.jupyter.widget-view+json": {
       "model_id": "43ed0a1d2c8e4f10b61037dbc1faa39b",
       "version_major": 2,
       "version_minor": 0
      },
      "text/plain": [
       "  0%|          | 0/121 [00:00<?, ?it/s]"
      ]
     },
     "metadata": {},
     "output_type": "display_data"
    },
    {
     "name": "stdout",
     "output_type": "stream",
     "text": [
      "{'eval_loss': 0.6830540299415588, 'eval_accuracy': 0.7122171945701358, 'eval_f1': 0.7125376869942831, 'eval_precision': 0.7167561691281003, 'eval_recall': 0.7122171945701358, 'eval_runtime': 10.6871, 'eval_samples_per_second': 723.768, 'eval_steps_per_second': 11.322, 'epoch': 2.99}\n",
      "{'loss': 0.6472, 'learning_rate': 6.949891067538127e-05, 'epoch': 3.2}\n"
     ]
    },
    {
     "data": {
      "application/vnd.jupyter.widget-view+json": {
       "model_id": "31c34ebadd9f46e3a96d8cadadcc9558",
       "version_major": 2,
       "version_minor": 0
      },
      "text/plain": [
       "  0%|          | 0/121 [00:00<?, ?it/s]"
      ]
     },
     "metadata": {},
     "output_type": "display_data"
    },
    {
     "name": "stdout",
     "output_type": "stream",
     "text": [
      "{'eval_loss': 0.7041923999786377, 'eval_accuracy': 0.6970911441499676, 'eval_f1': 0.6949843097853409, 'eval_precision': 0.7225573660954473, 'eval_recall': 0.6970911441499676, 'eval_runtime': 10.6973, 'eval_samples_per_second': 723.079, 'eval_steps_per_second': 11.311, 'epoch': 3.2}\n",
      "{'loss': 0.6396, 'learning_rate': 6.73202614379085e-05, 'epoch': 3.41}\n"
     ]
    },
    {
     "data": {
      "application/vnd.jupyter.widget-view+json": {
       "model_id": "19b9c2d7bfa34df8b2163e209cc73583",
       "version_major": 2,
       "version_minor": 0
      },
      "text/plain": [
       "  0%|          | 0/121 [00:00<?, ?it/s]"
      ]
     },
     "metadata": {},
     "output_type": "display_data"
    },
    {
     "name": "stdout",
     "output_type": "stream",
     "text": [
      "{'eval_loss': 0.6895042061805725, 'eval_accuracy': 0.7069166127989658, 'eval_f1': 0.7047616347090457, 'eval_precision': 0.7218281982310537, 'eval_recall': 0.7069166127989658, 'eval_runtime': 10.7174, 'eval_samples_per_second': 721.721, 'eval_steps_per_second': 11.29, 'epoch': 3.41}\n",
      "{'loss': 0.6395, 'learning_rate': 6.514161220043574e-05, 'epoch': 3.62}\n"
     ]
    },
    {
     "data": {
      "application/vnd.jupyter.widget-view+json": {
       "model_id": "2a18e43272814ea9ba5bb51e99df5f23",
       "version_major": 2,
       "version_minor": 0
      },
      "text/plain": [
       "  0%|          | 0/121 [00:00<?, ?it/s]"
      ]
     },
     "metadata": {},
     "output_type": "display_data"
    },
    {
     "name": "stdout",
     "output_type": "stream",
     "text": [
      "{'eval_loss': 0.6825419068336487, 'eval_accuracy': 0.7076923076923077, 'eval_f1': 0.7083145759779562, 'eval_precision': 0.7157307378863156, 'eval_recall': 0.7076923076923077, 'eval_runtime': 10.7077, 'eval_samples_per_second': 722.38, 'eval_steps_per_second': 11.3, 'epoch': 3.62}\n",
      "{'loss': 0.6256, 'learning_rate': 6.296296296296296e-05, 'epoch': 3.84}\n"
     ]
    },
    {
     "data": {
      "application/vnd.jupyter.widget-view+json": {
       "model_id": "b3cdcbee80df47deb48ec6e4da2aefb8",
       "version_major": 2,
       "version_minor": 0
      },
      "text/plain": [
       "  0%|          | 0/121 [00:00<?, ?it/s]"
      ]
     },
     "metadata": {},
     "output_type": "display_data"
    },
    {
     "name": "stdout",
     "output_type": "stream",
     "text": [
      "{'eval_loss': 0.6648938655853271, 'eval_accuracy': 0.718939883645766, 'eval_f1': 0.7189992365649679, 'eval_precision': 0.7194545719599018, 'eval_recall': 0.718939883645766, 'eval_runtime': 10.6791, 'eval_samples_per_second': 724.309, 'eval_steps_per_second': 11.331, 'epoch': 3.84}\n",
      "{'loss': 0.6159, 'learning_rate': 6.078431372549019e-05, 'epoch': 4.05}\n"
     ]
    },
    {
     "data": {
      "application/vnd.jupyter.widget-view+json": {
       "model_id": "e81b824613fc4380aea207b0a7e4e5f9",
       "version_major": 2,
       "version_minor": 0
      },
      "text/plain": [
       "  0%|          | 0/121 [00:00<?, ?it/s]"
      ]
     },
     "metadata": {},
     "output_type": "display_data"
    },
    {
     "name": "stdout",
     "output_type": "stream",
     "text": [
      "{'eval_loss': 0.6708352565765381, 'eval_accuracy': 0.7171299288946348, 'eval_f1': 0.7175852860667742, 'eval_precision': 0.7296624259290891, 'eval_recall': 0.7171299288946348, 'eval_runtime': 10.7048, 'eval_samples_per_second': 722.571, 'eval_steps_per_second': 11.303, 'epoch': 4.05}\n",
      "{'loss': 0.6189, 'learning_rate': 5.860566448801743e-05, 'epoch': 4.26}\n"
     ]
    },
    {
     "data": {
      "application/vnd.jupyter.widget-view+json": {
       "model_id": "eb6c79c167ba4cf892cbd9d722bdb7dc",
       "version_major": 2,
       "version_minor": 0
      },
      "text/plain": [
       "  0%|          | 0/121 [00:00<?, ?it/s]"
      ]
     },
     "metadata": {},
     "output_type": "display_data"
    },
    {
     "name": "stdout",
     "output_type": "stream",
     "text": [
      "{'eval_loss': 0.7150128483772278, 'eval_accuracy': 0.691661279896574, 'eval_f1': 0.6924021912345852, 'eval_precision': 0.7200218902348507, 'eval_recall': 0.691661279896574, 'eval_runtime': 10.696, 'eval_samples_per_second': 723.17, 'eval_steps_per_second': 11.313, 'epoch': 4.26}\n",
      "{'loss': 0.6072, 'learning_rate': 5.642701525054467e-05, 'epoch': 4.48}\n"
     ]
    },
    {
     "data": {
      "application/vnd.jupyter.widget-view+json": {
       "model_id": "3168ba4ac07a401fa93955a5048725ea",
       "version_major": 2,
       "version_minor": 0
      },
      "text/plain": [
       "  0%|          | 0/121 [00:00<?, ?it/s]"
      ]
     },
     "metadata": {},
     "output_type": "display_data"
    },
    {
     "name": "stdout",
     "output_type": "stream",
     "text": [
      "{'eval_loss': 0.663882851600647, 'eval_accuracy': 0.7232062055591467, 'eval_f1': 0.7229572285922049, 'eval_precision': 0.7282879461851248, 'eval_recall': 0.7232062055591467, 'eval_runtime': 10.7177, 'eval_samples_per_second': 721.706, 'eval_steps_per_second': 11.29, 'epoch': 4.48}\n",
      "{'loss': 0.6131, 'learning_rate': 5.4248366013071894e-05, 'epoch': 4.69}\n"
     ]
    },
    {
     "data": {
      "application/vnd.jupyter.widget-view+json": {
       "model_id": "27c663838da34bf5a6817792a65d6c45",
       "version_major": 2,
       "version_minor": 0
      },
      "text/plain": [
       "  0%|          | 0/121 [00:00<?, ?it/s]"
      ]
     },
     "metadata": {},
     "output_type": "display_data"
    },
    {
     "name": "stdout",
     "output_type": "stream",
     "text": [
      "{'eval_loss': 0.665882408618927, 'eval_accuracy': 0.7230769230769231, 'eval_f1': 0.7237026666043516, 'eval_precision': 0.7258142786968748, 'eval_recall': 0.7230769230769231, 'eval_runtime': 10.6988, 'eval_samples_per_second': 722.978, 'eval_steps_per_second': 11.31, 'epoch': 4.69}\n",
      "{'loss': 0.6048, 'learning_rate': 5.206971677559913e-05, 'epoch': 4.9}\n"
     ]
    },
    {
     "data": {
      "application/vnd.jupyter.widget-view+json": {
       "model_id": "e375b5ef55e94f7ab2b98bda8a9d3f30",
       "version_major": 2,
       "version_minor": 0
      },
      "text/plain": [
       "  0%|          | 0/121 [00:00<?, ?it/s]"
      ]
     },
     "metadata": {},
     "output_type": "display_data"
    },
    {
     "name": "stdout",
     "output_type": "stream",
     "text": [
      "{'eval_loss': 0.6855665445327759, 'eval_accuracy': 0.7097608274078863, 'eval_f1': 0.7096612397778608, 'eval_precision': 0.7332348311524897, 'eval_recall': 0.7097608274078863, 'eval_runtime': 10.7246, 'eval_samples_per_second': 721.238, 'eval_steps_per_second': 11.282, 'epoch': 4.9}\n",
      "{'loss': 0.5973, 'learning_rate': 4.9891067538126364e-05, 'epoch': 5.12}\n"
     ]
    },
    {
     "data": {
      "application/vnd.jupyter.widget-view+json": {
       "model_id": "556bf84fd63d4404910bb3954d2c4e43",
       "version_major": 2,
       "version_minor": 0
      },
      "text/plain": [
       "  0%|          | 0/121 [00:00<?, ?it/s]"
      ]
     },
     "metadata": {},
     "output_type": "display_data"
    },
    {
     "name": "stdout",
     "output_type": "stream",
     "text": [
      "{'eval_loss': 0.6626726984977722, 'eval_accuracy': 0.7215255332902392, 'eval_f1': 0.7215693554136656, 'eval_precision': 0.731151660420116, 'eval_recall': 0.7215255332902392, 'eval_runtime': 10.7002, 'eval_samples_per_second': 722.881, 'eval_steps_per_second': 11.308, 'epoch': 5.12}\n",
      "{'loss': 0.5946, 'learning_rate': 4.77124183006536e-05, 'epoch': 5.33}\n"
     ]
    },
    {
     "data": {
      "application/vnd.jupyter.widget-view+json": {
       "model_id": "da8515a610ce4e45acce27ce81b3e9eb",
       "version_major": 2,
       "version_minor": 0
      },
      "text/plain": [
       "  0%|          | 0/121 [00:00<?, ?it/s]"
      ]
     },
     "metadata": {},
     "output_type": "display_data"
    },
    {
     "name": "stdout",
     "output_type": "stream",
     "text": [
      "{'eval_loss': 0.7094699144363403, 'eval_accuracy': 0.6934712346477052, 'eval_f1': 0.693738005086656, 'eval_precision': 0.7271045877600892, 'eval_recall': 0.6934712346477052, 'eval_runtime': 10.6971, 'eval_samples_per_second': 723.095, 'eval_steps_per_second': 11.312, 'epoch': 5.33}\n",
      "{'loss': 0.5862, 'learning_rate': 4.5533769063180834e-05, 'epoch': 5.54}\n"
     ]
    },
    {
     "data": {
      "application/vnd.jupyter.widget-view+json": {
       "model_id": "f4bc26af45c449b3a3095fb07c4b1c37",
       "version_major": 2,
       "version_minor": 0
      },
      "text/plain": [
       "  0%|          | 0/121 [00:00<?, ?it/s]"
      ]
     },
     "metadata": {},
     "output_type": "display_data"
    },
    {
     "name": "stdout",
     "output_type": "stream",
     "text": [
      "{'eval_loss': 0.6748455762863159, 'eval_accuracy': 0.7190691661279897, 'eval_f1': 0.7195449657976427, 'eval_precision': 0.7316706348115237, 'eval_recall': 0.7190691661279897, 'eval_runtime': 10.7042, 'eval_samples_per_second': 722.612, 'eval_steps_per_second': 11.304, 'epoch': 5.54}\n",
      "{'loss': 0.593, 'learning_rate': 4.3355119825708066e-05, 'epoch': 5.76}\n"
     ]
    },
    {
     "data": {
      "application/vnd.jupyter.widget-view+json": {
       "model_id": "f392cad3c2554ee386630abc4165845b",
       "version_major": 2,
       "version_minor": 0
      },
      "text/plain": [
       "  0%|          | 0/121 [00:00<?, ?it/s]"
      ]
     },
     "metadata": {},
     "output_type": "display_data"
    },
    {
     "name": "stdout",
     "output_type": "stream",
     "text": [
      "{'eval_loss': 0.6702558398246765, 'eval_accuracy': 0.7168713639301875, 'eval_f1': 0.7176231649102817, 'eval_precision': 0.7305438347542587, 'eval_recall': 0.7168713639301875, 'eval_runtime': 10.6898, 'eval_samples_per_second': 723.589, 'eval_steps_per_second': 11.319, 'epoch': 5.76}\n",
      "{'loss': 0.5872, 'learning_rate': 4.11764705882353e-05, 'epoch': 5.97}\n"
     ]
    },
    {
     "data": {
      "application/vnd.jupyter.widget-view+json": {
       "model_id": "8bafa1828b014dcdafe5a9810ea44a9b",
       "version_major": 2,
       "version_minor": 0
      },
      "text/plain": [
       "  0%|          | 0/121 [00:00<?, ?it/s]"
      ]
     },
     "metadata": {},
     "output_type": "display_data"
    },
    {
     "name": "stdout",
     "output_type": "stream",
     "text": [
      "{'eval_loss': 0.6717310547828674, 'eval_accuracy': 0.7179056237879767, 'eval_f1': 0.7189102889102482, 'eval_precision': 0.7287029339448673, 'eval_recall': 0.7179056237879767, 'eval_runtime': 10.7224, 'eval_samples_per_second': 721.39, 'eval_steps_per_second': 11.285, 'epoch': 5.97}\n",
      "{'loss': 0.5791, 'learning_rate': 3.899782135076253e-05, 'epoch': 6.18}\n"
     ]
    },
    {
     "data": {
      "application/vnd.jupyter.widget-view+json": {
       "model_id": "faa2f19d7d7b47e99890d96c5651eb23",
       "version_major": 2,
       "version_minor": 0
      },
      "text/plain": [
       "  0%|          | 0/121 [00:00<?, ?it/s]"
      ]
     },
     "metadata": {},
     "output_type": "display_data"
    },
    {
     "name": "stdout",
     "output_type": "stream",
     "text": [
      "{'eval_loss': 0.6836535334587097, 'eval_accuracy': 0.7131221719457014, 'eval_f1': 0.7137031908625557, 'eval_precision': 0.7359788465776874, 'eval_recall': 0.7131221719457014, 'eval_runtime': 10.7067, 'eval_samples_per_second': 722.443, 'eval_steps_per_second': 11.301, 'epoch': 6.18}\n",
      "{'loss': 0.5737, 'learning_rate': 3.681917211328976e-05, 'epoch': 6.4}\n"
     ]
    },
    {
     "data": {
      "application/vnd.jupyter.widget-view+json": {
       "model_id": "06045eda6f8c4ec0b54c34bd4e8c1c39",
       "version_major": 2,
       "version_minor": 0
      },
      "text/plain": [
       "  0%|          | 0/121 [00:00<?, ?it/s]"
      ]
     },
     "metadata": {},
     "output_type": "display_data"
    },
    {
     "name": "stdout",
     "output_type": "stream",
     "text": [
      "{'eval_loss': 0.6816765666007996, 'eval_accuracy': 0.7110536522301228, 'eval_f1': 0.7118324364498917, 'eval_precision': 0.7299467400170621, 'eval_recall': 0.7110536522301228, 'eval_runtime': 10.7084, 'eval_samples_per_second': 722.331, 'eval_steps_per_second': 11.3, 'epoch': 6.4}\n",
      "{'loss': 0.5743, 'learning_rate': 3.464052287581699e-05, 'epoch': 6.61}\n"
     ]
    },
    {
     "data": {
      "application/vnd.jupyter.widget-view+json": {
       "model_id": "d4ba3696e1c7420c9e1c41e6f14f2bf8",
       "version_major": 2,
       "version_minor": 0
      },
      "text/plain": [
       "  0%|          | 0/121 [00:00<?, ?it/s]"
      ]
     },
     "metadata": {},
     "output_type": "display_data"
    },
    {
     "name": "stdout",
     "output_type": "stream",
     "text": [
      "{'eval_loss': 0.6753002405166626, 'eval_accuracy': 0.7186813186813187, 'eval_f1': 0.718965105791892, 'eval_precision': 0.7376964841399141, 'eval_recall': 0.7186813186813187, 'eval_runtime': 10.7329, 'eval_samples_per_second': 720.683, 'eval_steps_per_second': 11.274, 'epoch': 6.61}\n",
      "{'loss': 0.5729, 'learning_rate': 3.2461873638344223e-05, 'epoch': 6.82}\n"
     ]
    },
    {
     "data": {
      "application/vnd.jupyter.widget-view+json": {
       "model_id": "e1feef4a0d0a424a96d2a09a3903b140",
       "version_major": 2,
       "version_minor": 0
      },
      "text/plain": [
       "  0%|          | 0/121 [00:00<?, ?it/s]"
      ]
     },
     "metadata": {},
     "output_type": "display_data"
    },
    {
     "name": "stdout",
     "output_type": "stream",
     "text": [
      "{'eval_loss': 0.6958976984024048, 'eval_accuracy': 0.7089851325145443, 'eval_f1': 0.709818276542106, 'eval_precision': 0.7297191709265833, 'eval_recall': 0.7089851325145443, 'eval_runtime': 10.6925, 'eval_samples_per_second': 723.406, 'eval_steps_per_second': 11.316, 'epoch': 6.82}\n",
      "{'loss': 0.5765, 'learning_rate': 3.0283224400871462e-05, 'epoch': 7.04}\n"
     ]
    },
    {
     "data": {
      "application/vnd.jupyter.widget-view+json": {
       "model_id": "10392b26ab754cb0a52c47c777116433",
       "version_major": 2,
       "version_minor": 0
      },
      "text/plain": [
       "  0%|          | 0/121 [00:00<?, ?it/s]"
      ]
     },
     "metadata": {},
     "output_type": "display_data"
    },
    {
     "name": "stdout",
     "output_type": "stream",
     "text": [
      "{'eval_loss': 0.6711870431900024, 'eval_accuracy': 0.7173884938590821, 'eval_f1': 0.7181338551774188, 'eval_precision': 0.7325320968836674, 'eval_recall': 0.7173884938590821, 'eval_runtime': 10.7079, 'eval_samples_per_second': 722.363, 'eval_steps_per_second': 11.3, 'epoch': 7.04}\n",
      "{'loss': 0.5587, 'learning_rate': 2.8104575163398693e-05, 'epoch': 7.25}\n"
     ]
    },
    {
     "data": {
      "application/vnd.jupyter.widget-view+json": {
       "model_id": "72710d8aa880457fbd65922fe1e01692",
       "version_major": 2,
       "version_minor": 0
      },
      "text/plain": [
       "  0%|          | 0/121 [00:00<?, ?it/s]"
      ]
     },
     "metadata": {},
     "output_type": "display_data"
    },
    {
     "name": "stdout",
     "output_type": "stream",
     "text": [
      "{'eval_loss': 0.6576058268547058, 'eval_accuracy': 0.7243697478991596, 'eval_f1': 0.7243850835522647, 'eval_precision': 0.7326852320995589, 'eval_recall': 0.7243697478991596, 'eval_runtime': 10.6885, 'eval_samples_per_second': 723.678, 'eval_steps_per_second': 11.321, 'epoch': 7.25}\n",
      "{'loss': 0.5599, 'learning_rate': 2.5925925925925925e-05, 'epoch': 7.46}\n"
     ]
    },
    {
     "data": {
      "application/vnd.jupyter.widget-view+json": {
       "model_id": "d609ff987755401a91c98e79dd67df17",
       "version_major": 2,
       "version_minor": 0
      },
      "text/plain": [
       "  0%|          | 0/121 [00:00<?, ?it/s]"
      ]
     },
     "metadata": {},
     "output_type": "display_data"
    },
    {
     "name": "stdout",
     "output_type": "stream",
     "text": [
      "{'eval_loss': 0.6802634000778198, 'eval_accuracy': 0.7190691661279897, 'eval_f1': 0.7197147823696294, 'eval_precision': 0.7378148265900911, 'eval_recall': 0.7190691661279897, 'eval_runtime': 10.6845, 'eval_samples_per_second': 723.947, 'eval_steps_per_second': 11.325, 'epoch': 7.46}\n",
      "{'loss': 0.5688, 'learning_rate': 2.374727668845316e-05, 'epoch': 7.68}\n"
     ]
    },
    {
     "data": {
      "application/vnd.jupyter.widget-view+json": {
       "model_id": "26293e8a093a47959b715cf17f7f898b",
       "version_major": 2,
       "version_minor": 0
      },
      "text/plain": [
       "  0%|          | 0/121 [00:00<?, ?it/s]"
      ]
     },
     "metadata": {},
     "output_type": "display_data"
    },
    {
     "name": "stdout",
     "output_type": "stream",
     "text": [
      "{'eval_loss': 0.6662930250167847, 'eval_accuracy': 0.7228183581124757, 'eval_f1': 0.7234578722463715, 'eval_precision': 0.7366553872969637, 'eval_recall': 0.7228183581124757, 'eval_runtime': 10.7188, 'eval_samples_per_second': 721.632, 'eval_steps_per_second': 11.289, 'epoch': 7.68}\n",
      "{'loss': 0.5523, 'learning_rate': 2.1568627450980395e-05, 'epoch': 7.89}\n"
     ]
    },
    {
     "data": {
      "application/vnd.jupyter.widget-view+json": {
       "model_id": "ae8ddd547b3a42698cdab0f096411876",
       "version_major": 2,
       "version_minor": 0
      },
      "text/plain": [
       "  0%|          | 0/121 [00:00<?, ?it/s]"
      ]
     },
     "metadata": {},
     "output_type": "display_data"
    },
    {
     "name": "stdout",
     "output_type": "stream",
     "text": [
      "{'eval_loss': 0.6786099076271057, 'eval_accuracy': 0.718552036199095, 'eval_f1': 0.7188765539953738, 'eval_precision': 0.7401397216837443, 'eval_recall': 0.718552036199095, 'eval_runtime': 10.7069, 'eval_samples_per_second': 722.432, 'eval_steps_per_second': 11.301, 'epoch': 7.89}\n",
      "{'loss': 0.5664, 'learning_rate': 1.9389978213507626e-05, 'epoch': 8.1}\n"
     ]
    },
    {
     "data": {
      "application/vnd.jupyter.widget-view+json": {
       "model_id": "2e686226e1224f2b9aa7e9e09a986b39",
       "version_major": 2,
       "version_minor": 0
      },
      "text/plain": [
       "  0%|          | 0/121 [00:00<?, ?it/s]"
      ]
     },
     "metadata": {},
     "output_type": "display_data"
    },
    {
     "name": "stdout",
     "output_type": "stream",
     "text": [
      "{'eval_loss': 0.6750501394271851, 'eval_accuracy': 0.7177763413057531, 'eval_f1': 0.718522572440277, 'eval_precision': 0.7322516839895559, 'eval_recall': 0.7177763413057531, 'eval_runtime': 10.7231, 'eval_samples_per_second': 721.338, 'eval_steps_per_second': 11.284, 'epoch': 8.1}\n",
      "{'loss': 0.5479, 'learning_rate': 1.721132897603486e-05, 'epoch': 8.32}\n"
     ]
    },
    {
     "data": {
      "application/vnd.jupyter.widget-view+json": {
       "model_id": "697105d3bbe94de4ad8db6dd53a0c48a",
       "version_major": 2,
       "version_minor": 0
      },
      "text/plain": [
       "  0%|          | 0/121 [00:00<?, ?it/s]"
      ]
     },
     "metadata": {},
     "output_type": "display_data"
    },
    {
     "name": "stdout",
     "output_type": "stream",
     "text": [
      "{'eval_loss': 0.6655059456825256, 'eval_accuracy': 0.7225597931480284, 'eval_f1': 0.7230617795983426, 'eval_precision': 0.7370255249994391, 'eval_recall': 0.7225597931480284, 'eval_runtime': 10.7185, 'eval_samples_per_second': 721.652, 'eval_steps_per_second': 11.289, 'epoch': 8.32}\n",
      "{'loss': 0.5575, 'learning_rate': 1.5032679738562091e-05, 'epoch': 8.53}\n"
     ]
    },
    {
     "data": {
      "application/vnd.jupyter.widget-view+json": {
       "model_id": "91462db1ce084fb58eb0cbf9ab088a8e",
       "version_major": 2,
       "version_minor": 0
      },
      "text/plain": [
       "  0%|          | 0/121 [00:00<?, ?it/s]"
      ]
     },
     "metadata": {},
     "output_type": "display_data"
    },
    {
     "name": "stdout",
     "output_type": "stream",
     "text": [
      "{'eval_loss': 0.6881187558174133, 'eval_accuracy': 0.7127343244990304, 'eval_f1': 0.7135681311261002, 'eval_precision': 0.7362782089422729, 'eval_recall': 0.7127343244990304, 'eval_runtime': 10.7086, 'eval_samples_per_second': 722.318, 'eval_steps_per_second': 11.299, 'epoch': 8.53}\n",
      "{'loss': 0.5529, 'learning_rate': 1.2854030501089326e-05, 'epoch': 8.74}\n"
     ]
    },
    {
     "data": {
      "application/vnd.jupyter.widget-view+json": {
       "model_id": "5033c373bbc04e48bc91fc8dfbabd721",
       "version_major": 2,
       "version_minor": 0
      },
      "text/plain": [
       "  0%|          | 0/121 [00:00<?, ?it/s]"
      ]
     },
     "metadata": {},
     "output_type": "display_data"
    },
    {
     "name": "stdout",
     "output_type": "stream",
     "text": [
      "{'eval_loss': 0.6673902869224548, 'eval_accuracy': 0.7204912734324499, 'eval_f1': 0.7208241159538727, 'eval_precision': 0.7358977246086534, 'eval_recall': 0.7204912734324499, 'eval_runtime': 10.7004, 'eval_samples_per_second': 722.867, 'eval_steps_per_second': 11.308, 'epoch': 8.74}\n",
      "{'loss': 0.5565, 'learning_rate': 1.067538126361656e-05, 'epoch': 8.96}\n"
     ]
    },
    {
     "data": {
      "application/vnd.jupyter.widget-view+json": {
       "model_id": "81ca6885db2945b3b658ad39d2b092a2",
       "version_major": 2,
       "version_minor": 0
      },
      "text/plain": [
       "  0%|          | 0/121 [00:00<?, ?it/s]"
      ]
     },
     "metadata": {},
     "output_type": "display_data"
    },
    {
     "name": "stdout",
     "output_type": "stream",
     "text": [
      "{'eval_loss': 0.6673758625984192, 'eval_accuracy': 0.7237233354880414, 'eval_f1': 0.7243802695054309, 'eval_precision': 0.7373666262918893, 'eval_recall': 0.7237233354880414, 'eval_runtime': 10.7003, 'eval_samples_per_second': 722.878, 'eval_steps_per_second': 11.308, 'epoch': 8.96}\n",
      "{'loss': 0.5504, 'learning_rate': 8.496732026143791e-06, 'epoch': 9.17}\n"
     ]
    },
    {
     "data": {
      "application/vnd.jupyter.widget-view+json": {
       "model_id": "a57119970ae54791a40445c1d8ef3590",
       "version_major": 2,
       "version_minor": 0
      },
      "text/plain": [
       "  0%|          | 0/121 [00:00<?, ?it/s]"
      ]
     },
     "metadata": {},
     "output_type": "display_data"
    },
    {
     "name": "stdout",
     "output_type": "stream",
     "text": [
      "{'eval_loss': 0.6641947031021118, 'eval_accuracy': 0.7241111829347123, 'eval_f1': 0.7247836753830642, 'eval_precision': 0.7359709181854137, 'eval_recall': 0.7241111829347123, 'eval_runtime': 10.7093, 'eval_samples_per_second': 722.268, 'eval_steps_per_second': 11.299, 'epoch': 9.17}\n",
      "{'loss': 0.5462, 'learning_rate': 6.318082788671024e-06, 'epoch': 9.38}\n"
     ]
    },
    {
     "data": {
      "application/vnd.jupyter.widget-view+json": {
       "model_id": "1983fdea1242421ab530ee699dff911c",
       "version_major": 2,
       "version_minor": 0
      },
      "text/plain": [
       "  0%|          | 0/121 [00:00<?, ?it/s]"
      ]
     },
     "metadata": {},
     "output_type": "display_data"
    },
    {
     "name": "stdout",
     "output_type": "stream",
     "text": [
      "{'eval_loss': 0.6784658432006836, 'eval_accuracy': 0.7195862960568843, 'eval_f1': 0.7200892611776039, 'eval_precision': 0.7399577235933646, 'eval_recall': 0.7195862960568843, 'eval_runtime': 10.7027, 'eval_samples_per_second': 722.715, 'eval_steps_per_second': 11.306, 'epoch': 9.38}\n",
      "{'loss': 0.5429, 'learning_rate': 4.139433551198257e-06, 'epoch': 9.59}\n"
     ]
    },
    {
     "data": {
      "application/vnd.jupyter.widget-view+json": {
       "model_id": "84c901ca904b456eb987724c8124ed81",
       "version_major": 2,
       "version_minor": 0
      },
      "text/plain": [
       "  0%|          | 0/121 [00:00<?, ?it/s]"
      ]
     },
     "metadata": {},
     "output_type": "display_data"
    },
    {
     "name": "stdout",
     "output_type": "stream",
     "text": [
      "{'eval_loss': 0.6725927591323853, 'eval_accuracy': 0.7211376858435682, 'eval_f1': 0.7218092631732027, 'eval_precision': 0.737583382635062, 'eval_recall': 0.7211376858435682, 'eval_runtime': 10.7085, 'eval_samples_per_second': 722.32, 'eval_steps_per_second': 11.299, 'epoch': 9.59}\n",
      "{'loss': 0.5387, 'learning_rate': 1.96078431372549e-06, 'epoch': 9.81}\n"
     ]
    },
    {
     "data": {
      "application/vnd.jupyter.widget-view+json": {
       "model_id": "127880ea26ed4a79b5bcbd1ce4a21277",
       "version_major": 2,
       "version_minor": 0
      },
      "text/plain": [
       "  0%|          | 0/121 [00:00<?, ?it/s]"
      ]
     },
     "metadata": {},
     "output_type": "display_data"
    },
    {
     "name": "stdout",
     "output_type": "stream",
     "text": [
      "{'eval_loss': 0.669899046421051, 'eval_accuracy': 0.7226890756302521, 'eval_f1': 0.7233711590541725, 'eval_precision': 0.7375439438077657, 'eval_recall': 0.7226890756302521, 'eval_runtime': 10.7099, 'eval_samples_per_second': 722.229, 'eval_steps_per_second': 11.298, 'epoch': 9.81}\n"
     ]
    },
    {
     "name": "stderr",
     "output_type": "stream",
     "text": [
      "Overwriting existing adapter 'domain_adapter_telephone-travel'.\n",
      "Overwriting existing adapter 'stacked-adapter-task-modefied'.\n",
      "Overwriting existing head 'stacked-adapter-task-modefied'\n"
     ]
    },
    {
     "name": "stdout",
     "output_type": "stream",
     "text": [
      "{'train_runtime': 2572.3451, 'train_samples_per_second': 291.613, 'train_steps_per_second': 9.116, 'train_loss': 0.6332235073585755, 'epoch': 10.0}\n"
     ]
    }
   ],
   "source": [
    "\n",
    "reload(fn)\n",
    "trainer = fn.train_model(model,\"stacked-modeified\",source_data,source_data_eval)"
   ]
  },
  {
   "cell_type": "code",
   "execution_count": 15,
   "metadata": {},
   "outputs": [
    {
     "name": "stdout",
     "output_type": "stream",
     "text": [
      "Accuracy before adaptation: 0.7105263157894737\n",
      "F1 score before adaptation: 0.7116428701675159\n"
     ]
    }
   ],
   "source": [
    "accuracy_before, f1_before = fn.evaluate_model(trainer.model, target_test_loader)\n",
    "print(f\"Accuracy before adaptation: {accuracy_before}\")\n",
    "print(f\"F1 score before adaptation: {f1_before}\")"
   ]
  },
  {
   "cell_type": "markdown",
   "metadata": {},
   "source": []
  },
  {
   "cell_type": "code",
   "execution_count": 11,
   "metadata": {},
   "outputs": [
    {
     "name": "stdout",
     "output_type": "stream",
     "text": [
      "Accuracy before adaptation: 0.7105263157894737\n",
      "F1 score before adaptation: 0.7116428701675159\n"
     ]
    }
   ],
   "source": [
    "accuracy_before, f1_before = fn.evaluate_model(trainer.model, target_test_loader)\n",
    "print(f\"Accuracy before adaptation: {accuracy_before}\")\n",
    "print(f\"F1 score before adaptation: {f1_before}\")"
   ]
  },
  {
   "cell_type": "code",
   "execution_count": 23,
   "metadata": {},
   "outputs": [
    {
     "data": {
      "text/plain": [
       "[{'name': 'domain_adapter_telephone-travel',\n",
       "  'architecture': 'bottleneck',\n",
       "  'active': True,\n",
       "  '#param': 447264,\n",
       "  'train': False,\n",
       "  '%param': 0.6739671334336303},\n",
       " {'name': 'stacked-adapter-task-modefied',\n",
       "  'architecture': 'bottleneck',\n",
       "  'active': True,\n",
       "  '#param': 447264,\n",
       "  'train': True,\n",
       "  '%param': 0.6739671334336303},\n",
       " {'name': 'Full model', '#param': 66362880, '%param': 100.0, 'train': False}]"
      ]
     },
     "execution_count": 23,
     "metadata": {},
     "output_type": "execute_result"
    }
   ],
   "source": [
    "trainer.model.adapter_summary(as_dict=True)"
   ]
  },
  {
   "cell_type": "code",
   "execution_count": 22,
   "metadata": {},
   "outputs": [],
   "source": [
    "import config.config as config\n",
    "\n",
    "trainer.model.save_adapter(f\"{config.Config.ADAPTER_SAVE_PATH}/{adapter_name}\", adapter_name,with_head=True)"
   ]
  },
  {
   "cell_type": "code",
   "execution_count": 33,
   "metadata": {},
   "outputs": [],
   "source": [
    "model.add_classification_head(\n",
    "    \"task-test-after-coral\",\n",
    "    num_labels=3,\n",
    "  )"
   ]
  },
  {
   "cell_type": "code",
   "execution_count": 37,
   "metadata": {},
   "outputs": [
    {
     "data": {
      "text/plain": [
       "[{'name': 'domain-adapter-coral',\n",
       "  'architecture': 'bottleneck',\n",
       "  'active': True,\n",
       "  '#param': 447264,\n",
       "  'train': True,\n",
       "  '%param': 0.6739671334336303},\n",
       " {'name': 'Full model', '#param': 66362880, '%param': 100.0, 'train': False}]"
      ]
     },
     "execution_count": 37,
     "metadata": {},
     "output_type": "execute_result"
    }
   ],
   "source": [
    "model.adapter_summary(as_dict=True)"
   ]
  },
  {
   "cell_type": "code",
   "execution_count": 36,
   "metadata": {},
   "outputs": [
    {
     "name": "stdout",
     "output_type": "stream",
     "text": [
      "Accuracy before adaptation: 0.34210526315789475\n",
      "F1 score before adaptation: 0.2640755557195107\n"
     ]
    }
   ],
   "source": [
    "accuracy_before, f1_before = fn.evaluate_model(model, target_test_loader)\n",
    "print(f\"Accuracy before adaptation: {accuracy_before}\")\n",
    "print(f\"F1 score before adaptation: {f1_before}\")"
   ]
  },
  {
   "cell_type": "code",
   "execution_count": null,
   "metadata": {},
   "outputs": [],
   "source": []
  }
 ],
 "metadata": {
  "kernelspec": {
   "display_name": "intial-experments-_CPDD38x-py3.8",
   "language": "python",
   "name": "python3"
  },
  "language_info": {
   "codemirror_mode": {
    "name": "ipython",
    "version": 3
   },
   "file_extension": ".py",
   "mimetype": "text/x-python",
   "name": "python",
   "nbconvert_exporter": "python",
   "pygments_lexer": "ipython3",
   "version": "3.8.10"
  }
 },
 "nbformat": 4,
 "nbformat_minor": 2
}
