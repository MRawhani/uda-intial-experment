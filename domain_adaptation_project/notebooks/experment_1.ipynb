{
 "cells": [
  {
   "cell_type": "code",
   "execution_count": 1,
   "metadata": {},
   "outputs": [
    {
     "name": "stdout",
     "output_type": "stream",
     "text": [
      "['/home/guest/Desktop/projects/intial-experments/domain_adaptation_project/notebooks', '/usr/lib/python38.zip', '/usr/lib/python3.8', '/usr/lib/python3.8/lib-dynload', '', '/home/guest/.cache/pypoetry/virtualenvs/intial-experments-_CPDD38x-py3.8/lib/python3.8/site-packages', '/home/guest/Desktop/projects/intial-experments/domain_adaptation_project/modules']\n"
     ]
    }
   ],
   "source": [
    "from setup import setup_src_path\n",
    "print(setup_src_path())"
   ]
  },
  {
   "cell_type": "code",
   "execution_count": 2,
   "metadata": {},
   "outputs": [
    {
     "name": "stderr",
     "output_type": "stream",
     "text": [
      "/home/guest/.cache/pypoetry/virtualenvs/intial-experments-_CPDD38x-py3.8/lib/python3.8/site-packages/transformers/utils/generic.py:441: UserWarning: torch.utils._pytree._register_pytree_node is deprecated. Please use torch.utils._pytree.register_pytree_node instead.\n",
      "  _torch_pytree._register_pytree_node(\n",
      "/home/guest/.cache/pypoetry/virtualenvs/intial-experments-_CPDD38x-py3.8/lib/python3.8/site-packages/transformers/utils/generic.py:309: UserWarning: torch.utils._pytree._register_pytree_node is deprecated. Please use torch.utils._pytree.register_pytree_node instead.\n",
      "  _torch_pytree._register_pytree_node(\n",
      "2024-03-18 11:50:10.515397: I tensorflow/core/util/port.cc:110] oneDNN custom operations are on. You may see slightly different numerical results due to floating-point round-off errors from different computation orders. To turn them off, set the environment variable `TF_ENABLE_ONEDNN_OPTS=0`.\n",
      "2024-03-18 11:50:10.557529: I tensorflow/core/platform/cpu_feature_guard.cc:182] This TensorFlow binary is optimized to use available CPU instructions in performance-critical operations.\n",
      "To enable the following instructions: AVX2 AVX512F AVX512_VNNI FMA, in other operations, rebuild TensorFlow with the appropriate compiler flags.\n",
      "2024-03-18 11:50:11.078125: W tensorflow/compiler/tf2tensorrt/utils/py_utils.cc:38] TF-TRT Warning: Could not find TensorRT\n"
     ]
    },
    {
     "name": "stdout",
     "output_type": "stream",
     "text": [
      "./text-files/\n",
      "./hp-model-\n"
     ]
    }
   ],
   "source": [
    "import data.processed as processed\n",
    "import config.config as config\n",
    "import utils.setup as setup\n",
    "import utils.functions as fn\n",
    "from importlib import reload\n",
    "\n",
    "print(config.Config.TXT_SAVE_PATH)\n",
    "print(config.Config.MODEL_SAVE_PATH)\n"
   ]
  },
  {
   "cell_type": "code",
   "execution_count": 6,
   "metadata": {},
   "outputs": [
    {
     "data": {
      "application/vnd.jupyter.widget-view+json": {
       "model_id": "4291e694caf54c858fb0737b60c93e59",
       "version_major": 2,
       "version_minor": 0
      },
      "text/plain": [
       "Map:   0%|          | 0/75013 [00:00<?, ? examples/s]"
      ]
     },
     "metadata": {},
     "output_type": "display_data"
    },
    {
     "data": {
      "application/vnd.jupyter.widget-view+json": {
       "model_id": "3b2e0e0d62fb49ec9231924a26c28bf9",
       "version_major": 2,
       "version_minor": 0
      },
      "text/plain": [
       "Map:   0%|          | 0/8335 [00:00<?, ? examples/s]"
      ]
     },
     "metadata": {},
     "output_type": "display_data"
    }
   ],
   "source": [
    "reload(config)\n",
    "reload(processed)\n",
    "tokenized_data,loaded_data,unsupervised_target = processed.tokenize_and_load_datasets()\n",
    "\n",
    "\n"
   ]
  },
  {
   "cell_type": "code",
   "execution_count": 7,
   "metadata": {},
   "outputs": [],
   "source": [
    "source_data = tokenized_data['source']\n",
    "source_data_eval = tokenized_data['eval_source']\n",
    "target_data = tokenized_data['target']\n",
    "test_target_data = tokenized_data['test_target']\n",
    "test_target_loader = loaded_data['test_target_loader']"
   ]
  },
  {
   "cell_type": "code",
   "execution_count": 8,
   "metadata": {},
   "outputs": [
    {
     "data": {
      "text/plain": [
       "Dataset({\n",
       "    features: ['promptID', 'pairID', 'premise', 'premise_binary_parse', 'premise_parse', 'hypothesis', 'hypothesis_binary_parse', 'hypothesis_parse', 'genre', 'label'],\n",
       "    num_rows: 62350\n",
       "})"
      ]
     },
     "execution_count": 8,
     "metadata": {},
     "output_type": "execute_result"
    }
   ],
   "source": [
    "unsupervised_target"
   ]
  },
  {
   "cell_type": "code",
   "execution_count": 19,
   "metadata": {},
   "outputs": [
    {
     "name": "stdout",
     "output_type": "stream",
     "text": [
      "trainable params: 66985530 || all params: 66985530 || trainable%: 100.0\n"
     ]
    }
   ],
   "source": [
    "from transformers import AutoConfig\n",
    "from adapters import AutoAdapterModel\n",
    "\n",
    "mdlcfg = AutoConfig.from_pretrained(\n",
    "    config.Config.MODEL_NAME,\n",
    "    num_labels=3,\n",
    ")\n",
    "model = AutoAdapterModel.from_pretrained(\n",
    "    config.Config.MODEL_NAME,\n",
    "    config=mdlcfg,\n",
    ")\n",
    "reload(fn)\n",
    "fn.print_trainable_parameters(model)"
   ]
  },
  {
   "cell_type": "code",
   "execution_count": 20,
   "metadata": {},
   "outputs": [],
   "source": [
    "model.delete_adapter(\"task_adapter\")"
   ]
  },
  {
   "cell_type": "code",
   "execution_count": 21,
   "metadata": {},
   "outputs": [
    {
     "name": "stdout",
     "output_type": "stream",
     "text": [
      "trainable params: 67432794 || all params: 67432794 || trainable%: 100.0\n"
     ]
    }
   ],
   "source": [
    "adapter_name=\"task_adapter\"\n",
    "model.add_adapter(adapter_name, config=\"seq_bn\")\n",
    "fn.print_trainable_parameters(model)"
   ]
  },
  {
   "cell_type": "code",
   "execution_count": 22,
   "metadata": {},
   "outputs": [],
   "source": [
    "model.add_classification_head(\n",
    "    adapter_name,\n",
    "    num_labels=3,\n",
    "  )\n",
    "model.set_active_adapters(adapter_name)\n",
    "model.train_adapter(adapter_name)"
   ]
  },
  {
   "cell_type": "code",
   "execution_count": 23,
   "metadata": {},
   "outputs": [
    {
     "name": "stdout",
     "output_type": "stream",
     "text": [
      "trainable params: 1662813 || all params: 68025693 || trainable%: 2.444389651421853\n"
     ]
    },
    {
     "data": {
      "text/plain": [
       "Stack[task_adapter]"
      ]
     },
     "execution_count": 23,
     "metadata": {},
     "output_type": "execute_result"
    }
   ],
   "source": [
    "fn.print_trainable_parameters(model)\n",
    "model.active_adapters"
   ]
  },
  {
   "cell_type": "code",
   "execution_count": 24,
   "metadata": {},
   "outputs": [
    {
     "name": "stdout",
     "output_type": "stream",
     "text": [
      "Accuracy before adaptation: 0.3557692307692308\n",
      "F1 score before adaptation: 0.3245425280955962\n"
     ]
    }
   ],
   "source": [
    "# Evaluate the model on the target domain before adaptation\n",
    "reload(fn)\n",
    "accuracy_before, f1_before = fn.evaluate_model(model, test_target_loader)\n",
    "print(f\"Accuracy before adaptation: {accuracy_before}\")\n",
    "print(f\"F1 score before adaptation: {f1_before}\")"
   ]
  },
  {
   "cell_type": "code",
   "execution_count": 25,
   "metadata": {},
   "outputs": [
    {
     "name": "stderr",
     "output_type": "stream",
     "text": [
      "/home/guest/.cache/pypoetry/virtualenvs/intial-experments-_CPDD38x-py3.8/lib/python3.8/site-packages/accelerate/accelerator.py:432: FutureWarning: Passing the following arguments to `Accelerator` is deprecated and will be removed in version 1.0 of Accelerate: dict_keys(['dispatch_batches', 'split_batches']). Please pass an `accelerate.DataLoaderConfiguration` instead: \n",
      "dataloader_config = DataLoaderConfiguration(dispatch_batches=None, split_batches=False)\n",
      "  warnings.warn(\n"
     ]
    },
    {
     "data": {
      "application/vnd.jupyter.widget-view+json": {
       "model_id": "8d130da21d764a29a1a4ec69fc9180e7",
       "version_major": 2,
       "version_minor": 0
      },
      "text/plain": [
       "  0%|          | 0/9380 [00:00<?, ?it/s]"
      ]
     },
     "metadata": {},
     "output_type": "display_data"
    },
    {
     "name": "stdout",
     "output_type": "stream",
     "text": [
      "{'loss': 1.0553, 'learning_rate': 0.0001, 'epoch': 0.21}\n"
     ]
    },
    {
     "data": {
      "application/vnd.jupyter.widget-view+json": {
       "model_id": "c267d953beee4a7491f6fc74eec8e59d",
       "version_major": 2,
       "version_minor": 0
      },
      "text/plain": [
       "  0%|          | 0/31 [00:00<?, ?it/s]"
      ]
     },
     "metadata": {},
     "output_type": "display_data"
    },
    {
     "name": "stdout",
     "output_type": "stream",
     "text": [
      "{'eval_loss': 0.9037796854972839, 'eval_accuracy': 0.576417004048583, 'eval_f1': 0.5780329102533986, 'eval_precision': 0.5866149796608384, 'eval_recall': 0.576417004048583, 'eval_runtime': 2.5655, 'eval_samples_per_second': 770.229, 'eval_steps_per_second': 12.084, 'epoch': 0.21}\n",
      "{'loss': 0.8667, 'learning_rate': 9.436936936936938e-05, 'epoch': 0.43}\n"
     ]
    },
    {
     "data": {
      "application/vnd.jupyter.widget-view+json": {
       "model_id": "d92611400f544a10b891fc5ab57958c7",
       "version_major": 2,
       "version_minor": 0
      },
      "text/plain": [
       "  0%|          | 0/31 [00:00<?, ?it/s]"
      ]
     },
     "metadata": {},
     "output_type": "display_data"
    },
    {
     "name": "stdout",
     "output_type": "stream",
     "text": [
      "{'eval_loss': 0.8777429461479187, 'eval_accuracy': 0.5769230769230769, 'eval_f1': 0.5694158228682109, 'eval_precision': 0.6526448771533307, 'eval_recall': 0.5769230769230769, 'eval_runtime': 2.61, 'eval_samples_per_second': 757.076, 'eval_steps_per_second': 11.877, 'epoch': 0.43}\n",
      "{'loss': 0.8106, 'learning_rate': 8.873873873873875e-05, 'epoch': 0.64}\n"
     ]
    },
    {
     "data": {
      "application/vnd.jupyter.widget-view+json": {
       "model_id": "8c8c68672971431f86323e2d1191aba8",
       "version_major": 2,
       "version_minor": 0
      },
      "text/plain": [
       "  0%|          | 0/31 [00:00<?, ?it/s]"
      ]
     },
     "metadata": {},
     "output_type": "display_data"
    },
    {
     "name": "stdout",
     "output_type": "stream",
     "text": [
      "{'eval_loss': 0.8231773376464844, 'eval_accuracy': 0.6153846153846154, 'eval_f1': 0.6146513902534726, 'eval_precision': 0.6599018451264005, 'eval_recall': 0.6153846153846154, 'eval_runtime': 2.6086, 'eval_samples_per_second': 757.491, 'eval_steps_per_second': 11.884, 'epoch': 0.64}\n",
      "{'loss': 0.7862, 'learning_rate': 8.310810810810811e-05, 'epoch': 0.85}\n"
     ]
    },
    {
     "data": {
      "application/vnd.jupyter.widget-view+json": {
       "model_id": "450bbffb83104af293c195d4b90e739e",
       "version_major": 2,
       "version_minor": 0
      },
      "text/plain": [
       "  0%|          | 0/31 [00:00<?, ?it/s]"
      ]
     },
     "metadata": {},
     "output_type": "display_data"
    },
    {
     "name": "stdout",
     "output_type": "stream",
     "text": [
      "{'eval_loss': 0.793524444103241, 'eval_accuracy': 0.659919028340081, 'eval_f1': 0.6575658173351138, 'eval_precision': 0.6816292165823367, 'eval_recall': 0.659919028340081, 'eval_runtime': 2.6138, 'eval_samples_per_second': 755.999, 'eval_steps_per_second': 11.86, 'epoch': 0.85}\n",
      "{'loss': 0.7663, 'learning_rate': 7.747747747747748e-05, 'epoch': 1.07}\n"
     ]
    },
    {
     "data": {
      "application/vnd.jupyter.widget-view+json": {
       "model_id": "f1da96e340a84c319f964800f697e218",
       "version_major": 2,
       "version_minor": 0
      },
      "text/plain": [
       "  0%|          | 0/31 [00:00<?, ?it/s]"
      ]
     },
     "metadata": {},
     "output_type": "display_data"
    },
    {
     "name": "stdout",
     "output_type": "stream",
     "text": [
      "{'eval_loss': 0.7644041776657104, 'eval_accuracy': 0.6740890688259109, 'eval_f1': 0.674912124249848, 'eval_precision': 0.6992097474389386, 'eval_recall': 0.6740890688259109, 'eval_runtime': 2.6183, 'eval_samples_per_second': 754.686, 'eval_steps_per_second': 11.84, 'epoch': 1.07}\n",
      "{'loss': 0.7405, 'learning_rate': 7.184684684684685e-05, 'epoch': 1.28}\n"
     ]
    },
    {
     "data": {
      "application/vnd.jupyter.widget-view+json": {
       "model_id": "df9b97489a5f497aacf078c6f85126bc",
       "version_major": 2,
       "version_minor": 0
      },
      "text/plain": [
       "  0%|          | 0/31 [00:00<?, ?it/s]"
      ]
     },
     "metadata": {},
     "output_type": "display_data"
    },
    {
     "name": "stdout",
     "output_type": "stream",
     "text": [
      "{'eval_loss': 0.7986081838607788, 'eval_accuracy': 0.6381578947368421, 'eval_f1': 0.637603573237988, 'eval_precision': 0.698612022526501, 'eval_recall': 0.6381578947368421, 'eval_runtime': 2.6257, 'eval_samples_per_second': 752.567, 'eval_steps_per_second': 11.806, 'epoch': 1.28}\n",
      "{'loss': 0.7153, 'learning_rate': 6.621621621621621e-05, 'epoch': 1.49}\n"
     ]
    },
    {
     "data": {
      "application/vnd.jupyter.widget-view+json": {
       "model_id": "37e41946bc3a48f48fd86e784e94bd09",
       "version_major": 2,
       "version_minor": 0
      },
      "text/plain": [
       "  0%|          | 0/31 [00:00<?, ?it/s]"
      ]
     },
     "metadata": {},
     "output_type": "display_data"
    },
    {
     "name": "stdout",
     "output_type": "stream",
     "text": [
      "{'eval_loss': 0.7491284608840942, 'eval_accuracy': 0.6933198380566802, 'eval_f1': 0.6933368311860126, 'eval_precision': 0.7131012345061156, 'eval_recall': 0.6933198380566802, 'eval_runtime': 2.6218, 'eval_samples_per_second': 753.679, 'eval_steps_per_second': 11.824, 'epoch': 1.49}\n",
      "{'loss': 0.7081, 'learning_rate': 6.058558558558559e-05, 'epoch': 1.71}\n"
     ]
    },
    {
     "data": {
      "application/vnd.jupyter.widget-view+json": {
       "model_id": "a5e14e17b1394997b7b3d487a2f0da6e",
       "version_major": 2,
       "version_minor": 0
      },
      "text/plain": [
       "  0%|          | 0/31 [00:00<?, ?it/s]"
      ]
     },
     "metadata": {},
     "output_type": "display_data"
    },
    {
     "name": "stdout",
     "output_type": "stream",
     "text": [
      "{'eval_loss': 0.749871015548706, 'eval_accuracy': 0.6958502024291497, 'eval_f1': 0.6923195955057189, 'eval_precision': 0.7204926602387955, 'eval_recall': 0.6958502024291497, 'eval_runtime': 2.6223, 'eval_samples_per_second': 753.527, 'eval_steps_per_second': 11.822, 'epoch': 1.71}\n",
      "{'loss': 0.7039, 'learning_rate': 5.4954954954954966e-05, 'epoch': 1.92}\n"
     ]
    },
    {
     "data": {
      "application/vnd.jupyter.widget-view+json": {
       "model_id": "30ef76f17ba5425e8eb4f985128cb57a",
       "version_major": 2,
       "version_minor": 0
      },
      "text/plain": [
       "  0%|          | 0/31 [00:00<?, ?it/s]"
      ]
     },
     "metadata": {},
     "output_type": "display_data"
    },
    {
     "name": "stdout",
     "output_type": "stream",
     "text": [
      "{'eval_loss': 0.7612199783325195, 'eval_accuracy': 0.6771255060728745, 'eval_f1': 0.6771386459517087, 'eval_precision': 0.7127405898457154, 'eval_recall': 0.6771255060728745, 'eval_runtime': 2.6218, 'eval_samples_per_second': 753.678, 'eval_steps_per_second': 11.824, 'epoch': 1.92}\n",
      "{'loss': 0.6843, 'learning_rate': 4.9324324324324325e-05, 'epoch': 2.13}\n"
     ]
    },
    {
     "data": {
      "application/vnd.jupyter.widget-view+json": {
       "model_id": "b32620e3d90a4c48830b554d8b358ff5",
       "version_major": 2,
       "version_minor": 0
      },
      "text/plain": [
       "  0%|          | 0/31 [00:00<?, ?it/s]"
      ]
     },
     "metadata": {},
     "output_type": "display_data"
    },
    {
     "name": "stdout",
     "output_type": "stream",
     "text": [
      "{'eval_loss': 0.7498253583908081, 'eval_accuracy': 0.6821862348178138, 'eval_f1': 0.6822204335901163, 'eval_precision': 0.7132479593961624, 'eval_recall': 0.6821862348178138, 'eval_runtime': 2.6195, 'eval_samples_per_second': 754.35, 'eval_steps_per_second': 11.834, 'epoch': 2.13}\n",
      "{'loss': 0.6831, 'learning_rate': 4.369369369369369e-05, 'epoch': 2.35}\n"
     ]
    },
    {
     "data": {
      "application/vnd.jupyter.widget-view+json": {
       "model_id": "a2a46862bee94eec93695c0334f94f8a",
       "version_major": 2,
       "version_minor": 0
      },
      "text/plain": [
       "  0%|          | 0/31 [00:00<?, ?it/s]"
      ]
     },
     "metadata": {},
     "output_type": "display_data"
    },
    {
     "name": "stdout",
     "output_type": "stream",
     "text": [
      "{'eval_loss': 0.7245458960533142, 'eval_accuracy': 0.7029352226720648, 'eval_f1': 0.7028993894004115, 'eval_precision': 0.7180545324077571, 'eval_recall': 0.7029352226720648, 'eval_runtime': 2.627, 'eval_samples_per_second': 752.178, 'eval_steps_per_second': 11.8, 'epoch': 2.35}\n",
      "{'loss': 0.6729, 'learning_rate': 3.8063063063063064e-05, 'epoch': 2.56}\n"
     ]
    },
    {
     "data": {
      "application/vnd.jupyter.widget-view+json": {
       "model_id": "436be936d4934c168531c161f359254d",
       "version_major": 2,
       "version_minor": 0
      },
      "text/plain": [
       "  0%|          | 0/31 [00:00<?, ?it/s]"
      ]
     },
     "metadata": {},
     "output_type": "display_data"
    },
    {
     "name": "stdout",
     "output_type": "stream",
     "text": [
      "{'eval_loss': 0.7169569730758667, 'eval_accuracy': 0.7029352226720648, 'eval_f1': 0.7031889107350223, 'eval_precision': 0.7175743399412661, 'eval_recall': 0.7029352226720648, 'eval_runtime': 2.6294, 'eval_samples_per_second': 751.515, 'eval_steps_per_second': 11.79, 'epoch': 2.56}\n",
      "{'loss': 0.6774, 'learning_rate': 3.2432432432432436e-05, 'epoch': 2.77}\n"
     ]
    },
    {
     "data": {
      "application/vnd.jupyter.widget-view+json": {
       "model_id": "334e5012c71e4c19a7c2a01e7a58de63",
       "version_major": 2,
       "version_minor": 0
      },
      "text/plain": [
       "  0%|          | 0/31 [00:00<?, ?it/s]"
      ]
     },
     "metadata": {},
     "output_type": "display_data"
    },
    {
     "name": "stdout",
     "output_type": "stream",
     "text": [
      "{'eval_loss': 0.721881091594696, 'eval_accuracy': 0.7054655870445344, 'eval_f1': 0.7065483433364839, 'eval_precision': 0.7238704040095261, 'eval_recall': 0.7054655870445344, 'eval_runtime': 2.6385, 'eval_samples_per_second': 748.9, 'eval_steps_per_second': 11.749, 'epoch': 2.77}\n",
      "{'loss': 0.6672, 'learning_rate': 2.6801801801801802e-05, 'epoch': 2.99}\n"
     ]
    },
    {
     "data": {
      "application/vnd.jupyter.widget-view+json": {
       "model_id": "563c9ca276e84308a636ccc10b462ca8",
       "version_major": 2,
       "version_minor": 0
      },
      "text/plain": [
       "  0%|          | 0/31 [00:00<?, ?it/s]"
      ]
     },
     "metadata": {},
     "output_type": "display_data"
    },
    {
     "name": "stdout",
     "output_type": "stream",
     "text": [
      "{'eval_loss': 0.727222740650177, 'eval_accuracy': 0.6993927125506073, 'eval_f1': 0.6989513209042495, 'eval_precision': 0.728468058259154, 'eval_recall': 0.6993927125506073, 'eval_runtime': 2.6336, 'eval_samples_per_second': 750.311, 'eval_steps_per_second': 11.771, 'epoch': 2.99}\n",
      "{'loss': 0.6549, 'learning_rate': 2.117117117117117e-05, 'epoch': 3.2}\n"
     ]
    },
    {
     "data": {
      "application/vnd.jupyter.widget-view+json": {
       "model_id": "1138d084001249a59dae09f28b3b8266",
       "version_major": 2,
       "version_minor": 0
      },
      "text/plain": [
       "  0%|          | 0/31 [00:00<?, ?it/s]"
      ]
     },
     "metadata": {},
     "output_type": "display_data"
    },
    {
     "name": "stdout",
     "output_type": "stream",
     "text": [
      "{'eval_loss': 0.7238094210624695, 'eval_accuracy': 0.7034412955465587, 'eval_f1': 0.703750191324901, 'eval_precision': 0.7281470066188072, 'eval_recall': 0.7034412955465587, 'eval_runtime': 2.6236, 'eval_samples_per_second': 753.175, 'eval_steps_per_second': 11.816, 'epoch': 3.2}\n",
      "{'loss': 0.6647, 'learning_rate': 1.554054054054054e-05, 'epoch': 3.41}\n"
     ]
    },
    {
     "data": {
      "application/vnd.jupyter.widget-view+json": {
       "model_id": "67e03aa22de14f02b5903419d955eb35",
       "version_major": 2,
       "version_minor": 0
      },
      "text/plain": [
       "  0%|          | 0/31 [00:00<?, ?it/s]"
      ]
     },
     "metadata": {},
     "output_type": "display_data"
    },
    {
     "name": "stdout",
     "output_type": "stream",
     "text": [
      "{'eval_loss': 0.7194107174873352, 'eval_accuracy': 0.6983805668016194, 'eval_f1': 0.6997382081221802, 'eval_precision': 0.7166697132627606, 'eval_recall': 0.6983805668016194, 'eval_runtime': 2.6278, 'eval_samples_per_second': 751.973, 'eval_steps_per_second': 11.797, 'epoch': 3.41}\n",
      "{'loss': 0.6539, 'learning_rate': 9.90990990990991e-06, 'epoch': 3.62}\n"
     ]
    },
    {
     "data": {
      "application/vnd.jupyter.widget-view+json": {
       "model_id": "a6cf77be695742e4b3f1b486f3f059dd",
       "version_major": 2,
       "version_minor": 0
      },
      "text/plain": [
       "  0%|          | 0/31 [00:00<?, ?it/s]"
      ]
     },
     "metadata": {},
     "output_type": "display_data"
    },
    {
     "name": "stdout",
     "output_type": "stream",
     "text": [
      "{'eval_loss': 0.7097656726837158, 'eval_accuracy': 0.7090080971659919, 'eval_f1': 0.7095148656707215, 'eval_precision': 0.72572039610032, 'eval_recall': 0.7090080971659919, 'eval_runtime': 2.6364, 'eval_samples_per_second': 749.508, 'eval_steps_per_second': 11.758, 'epoch': 3.62}\n",
      "{'loss': 0.6427, 'learning_rate': 4.279279279279279e-06, 'epoch': 3.84}\n"
     ]
    },
    {
     "data": {
      "application/vnd.jupyter.widget-view+json": {
       "model_id": "35417db2d8414f978dec5130179ee2a0",
       "version_major": 2,
       "version_minor": 0
      },
      "text/plain": [
       "  0%|          | 0/31 [00:00<?, ?it/s]"
      ]
     },
     "metadata": {},
     "output_type": "display_data"
    },
    {
     "name": "stdout",
     "output_type": "stream",
     "text": [
      "{'eval_loss': 0.7217413187026978, 'eval_accuracy': 0.701417004048583, 'eval_f1': 0.7023359045444422, 'eval_precision': 0.7268274205759007, 'eval_recall': 0.701417004048583, 'eval_runtime': 2.6227, 'eval_samples_per_second': 753.427, 'eval_steps_per_second': 11.82, 'epoch': 3.84}\n"
     ]
    },
    {
     "name": "stderr",
     "output_type": "stream",
     "text": [
      "Overwriting existing adapter 'task_adapter'.\n",
      "Overwriting existing head 'task_adapter'\n"
     ]
    },
    {
     "name": "stdout",
     "output_type": "stream",
     "text": [
      "{'train_runtime': 842.5509, 'train_samples_per_second': 356.123, 'train_steps_per_second': 11.133, 'train_loss': 0.7268655284889726, 'epoch': 4.0}\n"
     ]
    }
   ],
   "source": [
    "reload(config)\n",
    "reload(fn)\n",
    "trainer = fn.train_model(model,\"experment_1\",source_data,source_data_eval)"
   ]
  },
  {
   "cell_type": "code",
   "execution_count": 26,
   "metadata": {},
   "outputs": [
    {
     "data": {
      "application/vnd.jupyter.widget-view+json": {
       "model_id": "cc4223dd37a94dbf8d44836eed7caa65",
       "version_major": 2,
       "version_minor": 0
      },
      "text/plain": [
       "  0%|          | 0/31 [00:00<?, ?it/s]"
      ]
     },
     "metadata": {},
     "output_type": "display_data"
    },
    {
     "data": {
      "text/plain": [
       "{'eval_loss': 0.7097656726837158,\n",
       " 'eval_accuracy': 0.7090080971659919,\n",
       " 'eval_f1': 0.7095148656707215,\n",
       " 'eval_precision': 0.72572039610032,\n",
       " 'eval_recall': 0.7090080971659919,\n",
       " 'eval_runtime': 2.4934,\n",
       " 'eval_samples_per_second': 792.5,\n",
       " 'eval_steps_per_second': 12.433,\n",
       " 'epoch': 4.0}"
      ]
     },
     "execution_count": 26,
     "metadata": {},
     "output_type": "execute_result"
    }
   ],
   "source": [
    "trainer.evaluate(test_target_data)"
   ]
  },
  {
   "cell_type": "code",
   "execution_count": 29,
   "metadata": {},
   "outputs": [
    {
     "name": "stdout",
     "output_type": "stream",
     "text": [
      "Accuracy before adaptation: 0.7090080971659919\n",
      "F1 score before adaptation: 0.7095148656707215\n"
     ]
    }
   ],
   "source": [
    "accuracy_before, f1_before = fn.evaluate_model(trainer.model, test_target_loader)\n",
    "print(f\"Accuracy before adaptation: {accuracy_before}\")\n",
    "print(f\"F1 score before adaptation: {f1_before}\")"
   ]
  },
  {
   "cell_type": "code",
   "execution_count": 28,
   "metadata": {},
   "outputs": [
    {
     "data": {
      "application/vnd.jupyter.widget-view+json": {
       "model_id": "87489eeacf8a42fc8306eb3d8b2b0e84",
       "version_major": 2,
       "version_minor": 0
      },
      "text/plain": [
       "Saving the dataset (0/1 shards):   0%|          | 0/75013 [00:00<?, ? examples/s]"
      ]
     },
     "metadata": {},
     "output_type": "display_data"
    },
    {
     "data": {
      "application/vnd.jupyter.widget-view+json": {
       "model_id": "721c14acf2ad4b27a42b1920ca7b1887",
       "version_major": 2,
       "version_minor": 0
      },
      "text/plain": [
       "Saving the dataset (0/1 shards):   0%|          | 0/1976 [00:00<?, ? examples/s]"
      ]
     },
     "metadata": {},
     "output_type": "display_data"
    },
    {
     "data": {
      "application/vnd.jupyter.widget-view+json": {
       "model_id": "99936ecf229b4c70b4e72564a961b49b",
       "version_major": 2,
       "version_minor": 0
      },
      "text/plain": [
       "Saving the dataset (0/1 shards):   0%|          | 0/15000 [00:00<?, ? examples/s]"
      ]
     },
     "metadata": {},
     "output_type": "display_data"
    },
    {
     "data": {
      "application/vnd.jupyter.widget-view+json": {
       "model_id": "c44c014a979f49fb8c2885e0eb6111bd",
       "version_major": 2,
       "version_minor": 0
      },
      "text/plain": [
       "Saving the dataset (0/1 shards):   0%|          | 0/1976 [00:00<?, ? examples/s]"
      ]
     },
     "metadata": {},
     "output_type": "display_data"
    },
    {
     "data": {
      "application/vnd.jupyter.widget-view+json": {
       "model_id": "f3aa996096424f8cad57224dbec68645",
       "version_major": 2,
       "version_minor": 0
      },
      "text/plain": [
       "Saving the dataset (0/1 shards):   0%|          | 0/62350 [00:00<?, ? examples/s]"
      ]
     },
     "metadata": {},
     "output_type": "display_data"
    }
   ],
   "source": [
    "reload(config)\n",
    "source_data.save_to_disk(f\"{config.Config.DATASETS_SAVE_PATH}/source_data\")\n",
    "source_data_eval.save_to_disk(f\"{config.Config.DATASETS_SAVE_PATH}/source_data_eval\")\n",
    "target_data.save_to_disk(f\"{config.Config.DATASETS_SAVE_PATH}/target_data\")\n",
    "test_target_data.save_to_disk(f\"{config.Config.DATASETS_SAVE_PATH}/test_target_data\")\n",
    "unsupervised_target.save_to_disk(f\"{config.Config.DATASETS_SAVE_PATH}/unsupervised_target\")\n"
   ]
  },
  {
   "cell_type": "code",
   "execution_count": 31,
   "metadata": {},
   "outputs": [],
   "source": [
    "trainer.model.save_adapter(f\"{config.Config.ADAPTER_SAVE_PATH}/{adapter_name}\", adapter_name)"
   ]
  },
  {
   "cell_type": "code",
   "execution_count": 32,
   "metadata": {},
   "outputs": [
    {
     "data": {
      "text/plain": [
       "Dataset({\n",
       "    features: ['promptID', 'pairID', 'premise', 'premise_binary_parse', 'premise_parse', 'hypothesis', 'hypothesis_binary_parse', 'hypothesis_parse', 'genre', 'label'],\n",
       "    num_rows: 62350\n",
       "})"
      ]
     },
     "execution_count": 32,
     "metadata": {},
     "output_type": "execute_result"
    }
   ],
   "source": [
    "from datasets import load_from_disk\n",
    "\n",
    "reloaded_unsupervised_target = load_from_disk(f\"{config.Config.DATASETS_SAVE_PATH}/unsupervised_target\")\n",
    "# Similarly for the other datasets\n",
    "reloaded_unsupervised_target"
   ]
  },
  {
   "cell_type": "code",
   "execution_count": null,
   "metadata": {},
   "outputs": [],
   "source": []
  }
 ],
 "metadata": {
  "kernelspec": {
   "display_name": "intial-experments-_CPDD38x-py3.8",
   "language": "python",
   "name": "python3"
  },
  "language_info": {
   "codemirror_mode": {
    "name": "ipython",
    "version": 3
   },
   "file_extension": ".py",
   "mimetype": "text/x-python",
   "name": "python",
   "nbconvert_exporter": "python",
   "pygments_lexer": "ipython3",
   "version": "3.8.10"
  }
 },
 "nbformat": 4,
 "nbformat_minor": 2
}
