{
 "cells": [
  {
   "cell_type": "code",
   "execution_count": null,
   "metadata": {},
   "outputs": [],
   "source": []
  },
  {
   "cell_type": "code",
   "execution_count": 10,
   "metadata": {},
   "outputs": [
    {
     "name": "stdout",
     "output_type": "stream",
     "text": [
      "['/home/guest/Desktop/projects/intial-experments/domain_adaptation_project/notebooks', '/usr/lib/python38.zip', '/usr/lib/python3.8', '/usr/lib/python3.8/lib-dynload', '', '/home/guest/.cache/pypoetry/virtualenvs/intial-experments-_CPDD38x-py3.8/lib/python3.8/site-packages', '/home/guest/Desktop/projects/intial-experments/domain_adaptation_project/modules', '/tmp/tmpvvjrvgog']\n"
     ]
    }
   ],
   "source": [
    "from setup import setup_src_path\n",
    "print(setup_src_path())\n",
    "import data.processed as processed\n",
    "import config.config as config\n",
    "import utils.setup as setup\n",
    "import utils.functions as fn\n",
    "from importlib import reload\n",
    "\n"
   ]
  },
  {
   "cell_type": "code",
   "execution_count": 19,
   "metadata": {},
   "outputs": [],
   "source": [
    "from datasets import load_from_disk\n",
    "\n",
    "source_data=load_from_disk(f\"{config.Config.DATASETS_SAVE_PATH}/source_data\")\n",
    "source_data_eval=load_from_disk(f\"{config.Config.DATASETS_SAVE_PATH}/source_data_eval\")\n",
    "target_data=load_from_disk(f\"{config.Config.DATASETS_SAVE_PATH}/target_data\")\n",
    "target_data_eval=load_from_disk(f\"{config.Config.DATASETS_SAVE_PATH}/target_data_eval\")\n",
    "test_target_data=load_from_disk(f\"{config.Config.DATASETS_SAVE_PATH}/test_target_data\")\n",
    "unsupervised_target=load_from_disk(f\"{config.Config.DATASETS_SAVE_PATH}/unsupervised_target\")\n"
   ]
  },
  {
   "cell_type": "code",
   "execution_count": 20,
   "metadata": {},
   "outputs": [],
   "source": [
    "from torch.utils.data import DataLoader\n",
    "source_data_loader = DataLoader(source_data, batch_size=32, shuffle=True)\n",
    "target_data_loader = DataLoader(target_data, batch_size=32)\n",
    "source_data_eval_loader = DataLoader(source_data_eval, batch_size=32, shuffle=True)\n",
    "target_data_eval_loader = DataLoader(target_data_eval, batch_size=32)\n",
    "\n",
    "target_test_loader = DataLoader(test_target_data, batch_size=32)"
   ]
  },
  {
   "cell_type": "code",
   "execution_count": 98,
   "metadata": {},
   "outputs": [
    {
     "name": "stdout",
     "output_type": "stream",
     "text": [
      "trainable params: 66985530 || all params: 66985530 || trainable%: 100.0\n"
     ]
    }
   ],
   "source": [
    "from adapters import AutoAdapterModel\n",
    "from tqdm import tqdm\n",
    "\n",
    "from transformers import AutoConfig\n",
    "\n",
    "mdlcfg = AutoConfig.from_pretrained(\n",
    "    config.Config.MODEL_NAME,\n",
    " \n",
    ")\n",
    "model = AutoAdapterModel.from_pretrained(\n",
    "    config.Config.MODEL_NAME,\n",
    "    config=mdlcfg,\n",
    ")\n",
    "reload(fn)\n",
    "fn.print_trainable_parameters(model)"
   ]
  },
  {
   "cell_type": "code",
   "execution_count": 99,
   "metadata": {},
   "outputs": [],
   "source": [
    "from transformers import AdamW\n",
    "from adapters import AdapterConfig\n",
    "from adapters.composition import Stack\n",
    "lora_mlm_target = model.load_adapter(f\"{config.Config.ADAPTER_SAVE_PATH}/lora-mlm-target\",with_head=False)\n",
    "\n",
    "\n"
   ]
  },
  {
   "cell_type": "code",
   "execution_count": 100,
   "metadata": {},
   "outputs": [
    {
     "name": "stdout",
     "output_type": "stream",
     "text": [
      "trainable params: 67280442 || all params: 67280442 || trainable%: 100.0\n"
     ]
    }
   ],
   "source": [
    "from adapters import PrefixTuningConfig,LoRAConfig\n",
    "\n",
    "#adapter_name=\"prefix_tuning_with_mlm_for_task\"\n",
    "\n",
    "#adapter_config = PrefixTuningConfig(flat=False)\n",
    "#model.add_adapter(adapter_name, config=adapter_config)\n",
    "adapter_name=\"lora_for_task\"\n",
    "\n",
    "adapter_config = LoRAConfig(r=8, alpha=16)\n",
    "model.add_adapter(adapter_name, config=adapter_config)\n",
    "\n",
    "fn.print_trainable_parameters(model)"
   ]
  },
  {
   "cell_type": "code",
   "execution_count": 101,
   "metadata": {},
   "outputs": [
    {
     "name": "stdout",
     "output_type": "stream",
     "text": [
      "trainable params: 1363005 || all params: 67873341 || trainable%: 2.0081595806518497\n"
     ]
    }
   ],
   "source": [
    "model.add_classification_head(\n",
    "    adapter_name,\n",
    "    num_labels=3,\n",
    "  )\n",
    "model.train_adapter([adapter_name])\n",
    "model.active_adapters = Stack(lora_mlm_target,adapter_name)\n",
    "\n",
    "fn.print_trainable_parameters(model)"
   ]
  },
  {
   "cell_type": "code",
   "execution_count": 102,
   "metadata": {},
   "outputs": [
    {
     "data": {
      "text/plain": [
       "[{'name': 'lora-mlm-target',\n",
       "  'architecture': 'lora',\n",
       "  'active': True,\n",
       "  '#param': 147456,\n",
       "  'train': False,\n",
       "  '%param': 0.22219650503413957},\n",
       " {'name': 'lora_for_task',\n",
       "  'architecture': 'lora',\n",
       "  'active': True,\n",
       "  '#param': 147456,\n",
       "  'train': True,\n",
       "  '%param': 0.22219650503413957},\n",
       " {'name': 'Full model', '#param': 66362880, '%param': 100.0, 'train': False}]"
      ]
     },
     "execution_count": 102,
     "metadata": {},
     "output_type": "execute_result"
    }
   ],
   "source": [
    "model.adapter_summary(as_dict=True)"
   ]
  },
  {
   "cell_type": "code",
   "execution_count": 103,
   "metadata": {},
   "outputs": [
    {
     "name": "stdout",
     "output_type": "stream",
     "text": [
      "distilbert.transformer.layer.0.attention.q_lin.loras.lora_for_task.lora_A\n",
      "distilbert.transformer.layer.0.attention.q_lin.loras.lora_for_task.lora_B\n",
      "distilbert.transformer.layer.0.attention.v_lin.loras.lora_for_task.lora_A\n",
      "distilbert.transformer.layer.0.attention.v_lin.loras.lora_for_task.lora_B\n",
      "distilbert.transformer.layer.1.attention.q_lin.loras.lora_for_task.lora_A\n",
      "distilbert.transformer.layer.1.attention.q_lin.loras.lora_for_task.lora_B\n",
      "distilbert.transformer.layer.1.attention.v_lin.loras.lora_for_task.lora_A\n",
      "distilbert.transformer.layer.1.attention.v_lin.loras.lora_for_task.lora_B\n",
      "distilbert.transformer.layer.2.attention.q_lin.loras.lora_for_task.lora_A\n",
      "distilbert.transformer.layer.2.attention.q_lin.loras.lora_for_task.lora_B\n",
      "distilbert.transformer.layer.2.attention.v_lin.loras.lora_for_task.lora_A\n",
      "distilbert.transformer.layer.2.attention.v_lin.loras.lora_for_task.lora_B\n",
      "distilbert.transformer.layer.3.attention.q_lin.loras.lora_for_task.lora_A\n",
      "distilbert.transformer.layer.3.attention.q_lin.loras.lora_for_task.lora_B\n",
      "distilbert.transformer.layer.3.attention.v_lin.loras.lora_for_task.lora_A\n",
      "distilbert.transformer.layer.3.attention.v_lin.loras.lora_for_task.lora_B\n",
      "distilbert.transformer.layer.4.attention.q_lin.loras.lora_for_task.lora_A\n",
      "distilbert.transformer.layer.4.attention.q_lin.loras.lora_for_task.lora_B\n",
      "distilbert.transformer.layer.4.attention.v_lin.loras.lora_for_task.lora_A\n",
      "distilbert.transformer.layer.4.attention.v_lin.loras.lora_for_task.lora_B\n",
      "distilbert.transformer.layer.5.attention.q_lin.loras.lora_for_task.lora_A\n",
      "distilbert.transformer.layer.5.attention.q_lin.loras.lora_for_task.lora_B\n",
      "distilbert.transformer.layer.5.attention.v_lin.loras.lora_for_task.lora_A\n",
      "distilbert.transformer.layer.5.attention.v_lin.loras.lora_for_task.lora_B\n",
      "heads.default.0.weight\n",
      "heads.default.0.bias\n",
      "heads.default.2.weight\n",
      "heads.default.2.bias\n",
      "heads.default.3.bias\n",
      "heads.lora_for_task.1.weight\n",
      "heads.lora_for_task.1.bias\n",
      "heads.lora_for_task.4.weight\n",
      "heads.lora_for_task.4.bias\n"
     ]
    }
   ],
   "source": [
    "for name, param in model.named_parameters():\n",
    "    if param.requires_grad:\n",
    "        print(name)\n"
   ]
  },
  {
   "cell_type": "code",
   "execution_count": 104,
   "metadata": {},
   "outputs": [
    {
     "name": "stdout",
     "output_type": "stream",
     "text": [
      "Accuracy before adaptation: 0.34615384615384615\n",
      "F1 score before adaptation: 0.25271261366105136\n"
     ]
    }
   ],
   "source": [
    "# Evaluate the model on the target domain before adaptation\n",
    "reload(fn)\n",
    "accuracy_before, f1_before = fn.evaluate_model(model, target_test_loader)\n",
    "print(f\"Accuracy before adaptation: {accuracy_before}\")\n",
    "print(f\"F1 score before adaptation: {f1_before}\")"
   ]
  },
  {
   "cell_type": "code",
   "execution_count": 105,
   "metadata": {},
   "outputs": [
    {
     "name": "stderr",
     "output_type": "stream",
     "text": [
      "/home/guest/.cache/pypoetry/virtualenvs/intial-experments-_CPDD38x-py3.8/lib/python3.8/site-packages/accelerate/accelerator.py:432: FutureWarning: Passing the following arguments to `Accelerator` is deprecated and will be removed in version 1.0 of Accelerate: dict_keys(['dispatch_batches', 'split_batches']). Please pass an `accelerate.DataLoaderConfiguration` instead: \n",
      "dataloader_config = DataLoaderConfiguration(dispatch_batches=None, split_batches=False)\n",
      "  warnings.warn(\n"
     ]
    },
    {
     "data": {
      "application/vnd.jupyter.widget-view+json": {
       "model_id": "0b25d830c67d4e89bd1fa67212665b2b",
       "version_major": 2,
       "version_minor": 0
      },
      "text/plain": [
       "  0%|          | 0/9380 [00:00<?, ?it/s]"
      ]
     },
     "metadata": {},
     "output_type": "display_data"
    },
    {
     "name": "stdout",
     "output_type": "stream",
     "text": [
      "{'loss': 1.0802, 'learning_rate': 0.0001, 'epoch': 0.21}\n"
     ]
    },
    {
     "data": {
      "application/vnd.jupyter.widget-view+json": {
       "model_id": "24fad7ecce414470bb091ea1ac168edb",
       "version_major": 2,
       "version_minor": 0
      },
      "text/plain": [
       "  0%|          | 0/242 [00:00<?, ?it/s]"
      ]
     },
     "metadata": {},
     "output_type": "display_data"
    },
    {
     "name": "stdout",
     "output_type": "stream",
     "text": [
      "{'eval_loss': 0.9885428547859192, 'eval_accuracy': 0.49566903684550745, 'eval_f1': 0.46952201666951354, 'eval_precision': 0.5808539605707265, 'eval_recall': 0.49566903684550745, 'eval_runtime': 11.2016, 'eval_samples_per_second': 690.528, 'eval_steps_per_second': 21.604, 'epoch': 0.21}\n",
      "{'loss': 0.9039, 'learning_rate': 9.436936936936938e-05, 'epoch': 0.43}\n"
     ]
    },
    {
     "data": {
      "application/vnd.jupyter.widget-view+json": {
       "model_id": "3444a9dac89349c2a7566f90787b06d7",
       "version_major": 2,
       "version_minor": 0
      },
      "text/plain": [
       "  0%|          | 0/242 [00:00<?, ?it/s]"
      ]
     },
     "metadata": {},
     "output_type": "display_data"
    },
    {
     "name": "stdout",
     "output_type": "stream",
     "text": [
      "{'eval_loss': 0.8383318781852722, 'eval_accuracy': 0.6127989657401423, 'eval_f1': 0.6104650497568189, 'eval_precision': 0.6610762066220732, 'eval_recall': 0.6127989657401423, 'eval_runtime': 11.3046, 'eval_samples_per_second': 684.236, 'eval_steps_per_second': 21.407, 'epoch': 0.43}\n",
      "{'loss': 0.8481, 'learning_rate': 8.873873873873875e-05, 'epoch': 0.64}\n"
     ]
    },
    {
     "data": {
      "application/vnd.jupyter.widget-view+json": {
       "model_id": "f8c3ac0c35884e61a5dbcba61144ef59",
       "version_major": 2,
       "version_minor": 0
      },
      "text/plain": [
       "  0%|          | 0/242 [00:00<?, ?it/s]"
      ]
     },
     "metadata": {},
     "output_type": "display_data"
    },
    {
     "name": "stdout",
     "output_type": "stream",
     "text": [
      "{'eval_loss': 0.8177382349967957, 'eval_accuracy': 0.6333548804137039, 'eval_f1': 0.6282938596395405, 'eval_precision': 0.6822669076523636, 'eval_recall': 0.6333548804137039, 'eval_runtime': 11.3909, 'eval_samples_per_second': 679.051, 'eval_steps_per_second': 21.245, 'epoch': 0.64}\n",
      "{'loss': 0.8168, 'learning_rate': 8.310810810810811e-05, 'epoch': 0.85}\n"
     ]
    },
    {
     "data": {
      "application/vnd.jupyter.widget-view+json": {
       "model_id": "67f1b92369774a06ae64f93c7f5d9b58",
       "version_major": 2,
       "version_minor": 0
      },
      "text/plain": [
       "  0%|          | 0/242 [00:00<?, ?it/s]"
      ]
     },
     "metadata": {},
     "output_type": "display_data"
    },
    {
     "name": "stdout",
     "output_type": "stream",
     "text": [
      "{'eval_loss': 0.7797333002090454, 'eval_accuracy': 0.6571428571428571, 'eval_f1': 0.6567047751244753, 'eval_precision': 0.6742290004407885, 'eval_recall': 0.6571428571428571, 'eval_runtime': 11.4846, 'eval_samples_per_second': 673.511, 'eval_steps_per_second': 21.072, 'epoch': 0.85}\n",
      "{'loss': 0.8035, 'learning_rate': 7.747747747747748e-05, 'epoch': 1.07}\n"
     ]
    },
    {
     "data": {
      "application/vnd.jupyter.widget-view+json": {
       "model_id": "60b65a0a017747d4852740ce801ae6ee",
       "version_major": 2,
       "version_minor": 0
      },
      "text/plain": [
       "  0%|          | 0/242 [00:00<?, ?it/s]"
      ]
     },
     "metadata": {},
     "output_type": "display_data"
    },
    {
     "name": "stdout",
     "output_type": "stream",
     "text": [
      "{'eval_loss': 0.7634105086326599, 'eval_accuracy': 0.6703296703296703, 'eval_f1': 0.6703807466216652, 'eval_precision': 0.6794118747732399, 'eval_recall': 0.6703296703296703, 'eval_runtime': 11.5059, 'eval_samples_per_second': 672.265, 'eval_steps_per_second': 21.033, 'epoch': 1.07}\n",
      "{'loss': 0.7858, 'learning_rate': 7.184684684684685e-05, 'epoch': 1.28}\n"
     ]
    },
    {
     "data": {
      "application/vnd.jupyter.widget-view+json": {
       "model_id": "b261634a25dc47479e7017e86f4d94d5",
       "version_major": 2,
       "version_minor": 0
      },
      "text/plain": [
       "  0%|          | 0/242 [00:00<?, ?it/s]"
      ]
     },
     "metadata": {},
     "output_type": "display_data"
    },
    {
     "name": "stdout",
     "output_type": "stream",
     "text": [
      "{'eval_loss': 0.8141056895256042, 'eval_accuracy': 0.6284421460892049, 'eval_f1': 0.6235614977191266, 'eval_precision': 0.6891343003027612, 'eval_recall': 0.6284421460892049, 'eval_runtime': 11.4902, 'eval_samples_per_second': 673.185, 'eval_steps_per_second': 21.062, 'epoch': 1.28}\n",
      "{'loss': 0.7669, 'learning_rate': 6.621621621621621e-05, 'epoch': 1.49}\n"
     ]
    },
    {
     "data": {
      "application/vnd.jupyter.widget-view+json": {
       "model_id": "fe1b439e7c3e4cd29d3b28600ea50d74",
       "version_major": 2,
       "version_minor": 0
      },
      "text/plain": [
       "  0%|          | 0/242 [00:00<?, ?it/s]"
      ]
     },
     "metadata": {},
     "output_type": "display_data"
    },
    {
     "name": "stdout",
     "output_type": "stream",
     "text": [
      "{'eval_loss': 0.7571592926979065, 'eval_accuracy': 0.6711053652230122, 'eval_f1': 0.6691971430098037, 'eval_precision': 0.6940895022524467, 'eval_recall': 0.6711053652230122, 'eval_runtime': 11.4653, 'eval_samples_per_second': 674.646, 'eval_steps_per_second': 21.107, 'epoch': 1.49}\n",
      "{'loss': 0.7664, 'learning_rate': 6.058558558558559e-05, 'epoch': 1.71}\n"
     ]
    },
    {
     "data": {
      "application/vnd.jupyter.widget-view+json": {
       "model_id": "ee1ebed205f54c31ab86f9ec9d0425e9",
       "version_major": 2,
       "version_minor": 0
      },
      "text/plain": [
       "  0%|          | 0/242 [00:00<?, ?it/s]"
      ]
     },
     "metadata": {},
     "output_type": "display_data"
    },
    {
     "name": "stdout",
     "output_type": "stream",
     "text": [
      "{'eval_loss': 0.7443458437919617, 'eval_accuracy': 0.6842921784098255, 'eval_f1': 0.6825708132182599, 'eval_precision': 0.6948440429549467, 'eval_recall': 0.6842921784098255, 'eval_runtime': 11.4773, 'eval_samples_per_second': 673.936, 'eval_steps_per_second': 21.085, 'epoch': 1.71}\n",
      "{'loss': 0.7586, 'learning_rate': 5.4954954954954966e-05, 'epoch': 1.92}\n"
     ]
    },
    {
     "data": {
      "application/vnd.jupyter.widget-view+json": {
       "model_id": "8a70244b36024f888a8ee274ec782739",
       "version_major": 2,
       "version_minor": 0
      },
      "text/plain": [
       "  0%|          | 0/242 [00:00<?, ?it/s]"
      ]
     },
     "metadata": {},
     "output_type": "display_data"
    },
    {
     "name": "stdout",
     "output_type": "stream",
     "text": [
      "{'eval_loss': 0.7390018701553345, 'eval_accuracy': 0.6846800258564965, 'eval_f1': 0.6832824375604631, 'eval_precision': 0.6930001425833627, 'eval_recall': 0.6846800258564965, 'eval_runtime': 11.4743, 'eval_samples_per_second': 674.118, 'eval_steps_per_second': 21.091, 'epoch': 1.92}\n",
      "{'loss': 0.7645, 'learning_rate': 4.9324324324324325e-05, 'epoch': 2.13}\n"
     ]
    },
    {
     "data": {
      "application/vnd.jupyter.widget-view+json": {
       "model_id": "b258eaf89aa64c75995b7c45c71fb0fc",
       "version_major": 2,
       "version_minor": 0
      },
      "text/plain": [
       "  0%|          | 0/242 [00:00<?, ?it/s]"
      ]
     },
     "metadata": {},
     "output_type": "display_data"
    },
    {
     "name": "stdout",
     "output_type": "stream",
     "text": [
      "{'eval_loss': 0.7436911463737488, 'eval_accuracy': 0.6815772462831287, 'eval_f1': 0.6801176533674226, 'eval_precision': 0.69619093054841, 'eval_recall': 0.6815772462831287, 'eval_runtime': 11.4642, 'eval_samples_per_second': 674.707, 'eval_steps_per_second': 21.109, 'epoch': 2.13}\n",
      "{'loss': 0.7497, 'learning_rate': 4.369369369369369e-05, 'epoch': 2.35}\n"
     ]
    },
    {
     "data": {
      "application/vnd.jupyter.widget-view+json": {
       "model_id": "054df6037f8447f7a10d12eb16eb9906",
       "version_major": 2,
       "version_minor": 0
      },
      "text/plain": [
       "  0%|          | 0/242 [00:00<?, ?it/s]"
      ]
     },
     "metadata": {},
     "output_type": "display_data"
    },
    {
     "name": "stdout",
     "output_type": "stream",
     "text": [
      "{'eval_loss': 0.7297295331954956, 'eval_accuracy': 0.6873949579831933, 'eval_f1': 0.6867194671175016, 'eval_precision': 0.6908559699847987, 'eval_recall': 0.6873949579831933, 'eval_runtime': 11.4668, 'eval_samples_per_second': 674.559, 'eval_steps_per_second': 21.104, 'epoch': 2.35}\n",
      "{'loss': 0.7422, 'learning_rate': 3.8063063063063064e-05, 'epoch': 2.56}\n"
     ]
    },
    {
     "data": {
      "application/vnd.jupyter.widget-view+json": {
       "model_id": "c0c11aa7bcd84042b2a176570e0d2c6d",
       "version_major": 2,
       "version_minor": 0
      },
      "text/plain": [
       "  0%|          | 0/242 [00:00<?, ?it/s]"
      ]
     },
     "metadata": {},
     "output_type": "display_data"
    },
    {
     "name": "stdout",
     "output_type": "stream",
     "text": [
      "{'eval_loss': 0.7359403371810913, 'eval_accuracy': 0.6873949579831933, 'eval_f1': 0.684709969929516, 'eval_precision': 0.6914012501502474, 'eval_recall': 0.6873949579831933, 'eval_runtime': 11.4627, 'eval_samples_per_second': 674.798, 'eval_steps_per_second': 21.112, 'epoch': 2.56}\n",
      "{'loss': 0.7408, 'learning_rate': 3.2432432432432436e-05, 'epoch': 2.77}\n"
     ]
    },
    {
     "data": {
      "application/vnd.jupyter.widget-view+json": {
       "model_id": "1cd90df8a4134b9cb708f38ed5ea4e7a",
       "version_major": 2,
       "version_minor": 0
      },
      "text/plain": [
       "  0%|          | 0/242 [00:00<?, ?it/s]"
      ]
     },
     "metadata": {},
     "output_type": "display_data"
    },
    {
     "name": "stdout",
     "output_type": "stream",
     "text": [
      "{'eval_loss': 0.7426972985267639, 'eval_accuracy': 0.6804137039431157, 'eval_f1': 0.6797677653087949, 'eval_precision': 0.6978524886327241, 'eval_recall': 0.6804137039431157, 'eval_runtime': 11.4485, 'eval_samples_per_second': 675.636, 'eval_steps_per_second': 21.138, 'epoch': 2.77}\n",
      "{'loss': 0.7339, 'learning_rate': 2.6801801801801802e-05, 'epoch': 2.99}\n"
     ]
    },
    {
     "data": {
      "application/vnd.jupyter.widget-view+json": {
       "model_id": "942659c2cc68495390a04685ab77fd51",
       "version_major": 2,
       "version_minor": 0
      },
      "text/plain": [
       "  0%|          | 0/242 [00:00<?, ?it/s]"
      ]
     },
     "metadata": {},
     "output_type": "display_data"
    },
    {
     "name": "stdout",
     "output_type": "stream",
     "text": [
      "{'eval_loss': 0.7262045741081238, 'eval_accuracy': 0.691273432449903, 'eval_f1': 0.6907395647522422, 'eval_precision': 0.6941893256404933, 'eval_recall': 0.691273432449903, 'eval_runtime': 11.4179, 'eval_samples_per_second': 677.443, 'eval_steps_per_second': 21.195, 'epoch': 2.99}\n",
      "{'loss': 0.7353, 'learning_rate': 2.117117117117117e-05, 'epoch': 3.2}\n"
     ]
    },
    {
     "data": {
      "application/vnd.jupyter.widget-view+json": {
       "model_id": "08e5394ac8124277b35caeb6d52f817b",
       "version_major": 2,
       "version_minor": 0
      },
      "text/plain": [
       "  0%|          | 0/242 [00:00<?, ?it/s]"
      ]
     },
     "metadata": {},
     "output_type": "display_data"
    },
    {
     "name": "stdout",
     "output_type": "stream",
     "text": [
      "{'eval_loss': 0.7339496612548828, 'eval_accuracy': 0.6892049127343245, 'eval_f1': 0.6874167112426689, 'eval_precision': 0.6992269234813108, 'eval_recall': 0.6892049127343245, 'eval_runtime': 11.4065, 'eval_samples_per_second': 678.122, 'eval_steps_per_second': 21.216, 'epoch': 3.2}\n",
      "{'loss': 0.7373, 'learning_rate': 1.554054054054054e-05, 'epoch': 3.41}\n"
     ]
    },
    {
     "data": {
      "application/vnd.jupyter.widget-view+json": {
       "model_id": "f176fa67e560490db92a3cfe161238a9",
       "version_major": 2,
       "version_minor": 0
      },
      "text/plain": [
       "  0%|          | 0/242 [00:00<?, ?it/s]"
      ]
     },
     "metadata": {},
     "output_type": "display_data"
    },
    {
     "name": "stdout",
     "output_type": "stream",
     "text": [
      "{'eval_loss': 0.7302222847938538, 'eval_accuracy': 0.6901098901098901, 'eval_f1': 0.6884253684061123, 'eval_precision': 0.6991715147490238, 'eval_recall': 0.6901098901098901, 'eval_runtime': 11.4463, 'eval_samples_per_second': 675.766, 'eval_steps_per_second': 21.142, 'epoch': 3.41}\n",
      "{'loss': 0.7311, 'learning_rate': 9.90990990990991e-06, 'epoch': 3.62}\n"
     ]
    },
    {
     "data": {
      "application/vnd.jupyter.widget-view+json": {
       "model_id": "0064742961894af38bd4f07331e67c41",
       "version_major": 2,
       "version_minor": 0
      },
      "text/plain": [
       "  0%|          | 0/242 [00:00<?, ?it/s]"
      ]
     },
     "metadata": {},
     "output_type": "display_data"
    },
    {
     "name": "stdout",
     "output_type": "stream",
     "text": [
      "{'eval_loss': 0.7259854078292847, 'eval_accuracy': 0.6914027149321267, 'eval_f1': 0.6905914347523365, 'eval_precision': 0.6963944136888134, 'eval_recall': 0.6914027149321267, 'eval_runtime': 11.4663, 'eval_samples_per_second': 674.588, 'eval_steps_per_second': 21.105, 'epoch': 3.62}\n",
      "{'loss': 0.727, 'learning_rate': 4.279279279279279e-06, 'epoch': 3.84}\n"
     ]
    },
    {
     "data": {
      "application/vnd.jupyter.widget-view+json": {
       "model_id": "ad2c4cb2fe5f4ed5aaedb906ef772e69",
       "version_major": 2,
       "version_minor": 0
      },
      "text/plain": [
       "  0%|          | 0/242 [00:00<?, ?it/s]"
      ]
     },
     "metadata": {},
     "output_type": "display_data"
    },
    {
     "name": "stdout",
     "output_type": "stream",
     "text": [
      "{'eval_loss': 0.7234932780265808, 'eval_accuracy': 0.692049127343245, 'eval_f1': 0.691064811717854, 'eval_precision': 0.6973325574941849, 'eval_recall': 0.692049127343245, 'eval_runtime': 11.5085, 'eval_samples_per_second': 672.112, 'eval_steps_per_second': 21.028, 'epoch': 3.84}\n"
     ]
    },
    {
     "name": "stderr",
     "output_type": "stream",
     "text": [
      "Overwriting existing adapter 'lora-mlm-target'.\n",
      "Overwriting existing adapter 'lora_for_task'.\n",
      "Overwriting existing head 'lora_for_task'\n"
     ]
    },
    {
     "name": "stdout",
     "output_type": "stream",
     "text": [
      "{'train_runtime': 1069.3449, 'train_samples_per_second': 280.594, 'train_steps_per_second': 8.772, 'train_loss': 0.7855583662671575, 'epoch': 4.0}\n"
     ]
    }
   ],
   "source": [
    "reload(config)\n",
    "reload(fn)\n",
    "trainer = fn.train_model(model,\"lora-for-task\",source_data,source_data_eval)"
   ]
  },
  {
   "cell_type": "code",
   "execution_count": 106,
   "metadata": {},
   "outputs": [
    {
     "data": {
      "application/vnd.jupyter.widget-view+json": {
       "model_id": "9d149a71729f4ef9b62cf151b4cde36a",
       "version_major": 2,
       "version_minor": 0
      },
      "text/plain": [
       "  0%|          | 0/62 [00:00<?, ?it/s]"
      ]
     },
     "metadata": {},
     "output_type": "display_data"
    },
    {
     "data": {
      "text/plain": [
       "{'eval_loss': 0.7371801733970642,\n",
       " 'eval_accuracy': 0.6811740890688259,\n",
       " 'eval_f1': 0.6816810492478558,\n",
       " 'eval_precision': 0.6931641833533766,\n",
       " 'eval_recall': 0.6811740890688259,\n",
       " 'eval_runtime': 2.836,\n",
       " 'eval_samples_per_second': 696.763,\n",
       " 'eval_steps_per_second': 21.862,\n",
       " 'epoch': 4.0}"
      ]
     },
     "execution_count": 106,
     "metadata": {},
     "output_type": "execute_result"
    }
   ],
   "source": [
    "trainer.evaluate(test_target_data)\n"
   ]
  },
  {
   "cell_type": "code",
   "execution_count": 107,
   "metadata": {},
   "outputs": [
    {
     "name": "stdout",
     "output_type": "stream",
     "text": [
      "Accuracy before adaptation: 0.6811740890688259\n",
      "F1 score before adaptation: 0.6816810492478558\n"
     ]
    }
   ],
   "source": [
    "accuracy_before, f1_before = fn.evaluate_model(trainer.model, target_test_loader)\n",
    "print(f\"Accuracy before adaptation: {accuracy_before}\")\n",
    "print(f\"F1 score before adaptation: {f1_before}\")"
   ]
  },
  {
   "cell_type": "markdown",
   "metadata": {},
   "source": []
  },
  {
   "cell_type": "code",
   "execution_count": 28,
   "metadata": {},
   "outputs": [],
   "source": [
    "import config.config as config\n",
    "\n",
    "trainer.model.save_adapter(f\"{config.Config.ADAPTER_SAVE_PATH}/{adapter_name}\", adapter_name,with_head=True)"
   ]
  }
 ],
 "metadata": {
  "kernelspec": {
   "display_name": "intial-experments-_CPDD38x-py3.8",
   "language": "python",
   "name": "python3"
  },
  "language_info": {
   "codemirror_mode": {
    "name": "ipython",
    "version": 3
   },
   "file_extension": ".py",
   "mimetype": "text/x-python",
   "name": "python",
   "nbconvert_exporter": "python",
   "pygments_lexer": "ipython3",
   "version": "3.8.10"
  }
 },
 "nbformat": 4,
 "nbformat_minor": 2
}
