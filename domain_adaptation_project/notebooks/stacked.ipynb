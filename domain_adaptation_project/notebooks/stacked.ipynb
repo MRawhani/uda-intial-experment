{
 "cells": [
  {
   "cell_type": "code",
   "execution_count": null,
   "metadata": {},
   "outputs": [],
   "source": []
  },
  {
   "cell_type": "code",
   "execution_count": 1,
   "metadata": {},
   "outputs": [
    {
     "name": "stdout",
     "output_type": "stream",
     "text": [
      "['/home/guest/Desktop/projects/intial-experments/domain_adaptation_project/notebooks', '/usr/lib/python38.zip', '/usr/lib/python3.8', '/usr/lib/python3.8/lib-dynload', '', '/home/guest/.cache/pypoetry/virtualenvs/intial-experments-_CPDD38x-py3.8/lib/python3.8/site-packages', '/home/guest/Desktop/projects/intial-experments/domain_adaptation_project/modules']\n"
     ]
    },
    {
     "name": "stderr",
     "output_type": "stream",
     "text": [
      "/home/guest/.cache/pypoetry/virtualenvs/intial-experments-_CPDD38x-py3.8/lib/python3.8/site-packages/transformers/utils/generic.py:441: UserWarning: torch.utils._pytree._register_pytree_node is deprecated. Please use torch.utils._pytree.register_pytree_node instead.\n",
      "  _torch_pytree._register_pytree_node(\n",
      "/home/guest/.cache/pypoetry/virtualenvs/intial-experments-_CPDD38x-py3.8/lib/python3.8/site-packages/transformers/utils/generic.py:309: UserWarning: torch.utils._pytree._register_pytree_node is deprecated. Please use torch.utils._pytree.register_pytree_node instead.\n",
      "  _torch_pytree._register_pytree_node(\n",
      "2024-03-19 10:41:50.247537: I tensorflow/core/util/port.cc:110] oneDNN custom operations are on. You may see slightly different numerical results due to floating-point round-off errors from different computation orders. To turn them off, set the environment variable `TF_ENABLE_ONEDNN_OPTS=0`.\n",
      "2024-03-19 10:41:50.305165: I tensorflow/core/platform/cpu_feature_guard.cc:182] This TensorFlow binary is optimized to use available CPU instructions in performance-critical operations.\n",
      "To enable the following instructions: AVX2 AVX512F AVX512_VNNI FMA, in other operations, rebuild TensorFlow with the appropriate compiler flags.\n",
      "2024-03-19 10:41:50.932406: W tensorflow/compiler/tf2tensorrt/utils/py_utils.cc:38] TF-TRT Warning: Could not find TensorRT\n"
     ]
    }
   ],
   "source": [
    "from setup import setup_src_path\n",
    "print(setup_src_path())\n",
    "import data.processed as processed\n",
    "import config.config as config\n",
    "import utils.setup as setup\n",
    "import utils.functions as fn\n",
    "from importlib import reload\n",
    "\n"
   ]
  },
  {
   "cell_type": "code",
   "execution_count": 2,
   "metadata": {},
   "outputs": [],
   "source": [
    "from datasets import load_from_disk\n",
    "\n",
    "source_data=load_from_disk(f\"{config.Config.DATASETS_SAVE_PATH}/source_data\")\n",
    "source_data_eval=load_from_disk(f\"{config.Config.DATASETS_SAVE_PATH}/source_data_eval\")\n",
    "target_data=load_from_disk(f\"{config.Config.DATASETS_SAVE_PATH}/target_data\")\n",
    "test_target_data=load_from_disk(f\"{config.Config.DATASETS_SAVE_PATH}/test_target_data\")\n",
    "unsupervised_target=load_from_disk(f\"{config.Config.DATASETS_SAVE_PATH}/unsupervised_target\")\n"
   ]
  },
  {
   "cell_type": "code",
   "execution_count": 3,
   "metadata": {},
   "outputs": [],
   "source": [
    "from torch.utils.data import DataLoader\n",
    "source_data_loader = DataLoader(source_data, batch_size=32, shuffle=True)\n",
    "target_data_loader = DataLoader(target_data, batch_size=32)\n",
    "target_test_loader = DataLoader(test_target_data, batch_size=32)"
   ]
  },
  {
   "cell_type": "code",
   "execution_count": 4,
   "metadata": {},
   "outputs": [
    {
     "name": "stdout",
     "output_type": "stream",
     "text": [
      "trainable params: 66985530 || all params: 66985530 || trainable%: 100.0\n"
     ]
    }
   ],
   "source": [
    "from adapters import AutoAdapterModel\n",
    "from tqdm import tqdm\n",
    "\n",
    "from transformers import AutoConfig\n",
    "\n",
    "mdlcfg = AutoConfig.from_pretrained(\n",
    "    config.Config.MODEL_NAME,\n",
    "    num_labels=3,\n",
    ")\n",
    "model = AutoAdapterModel.from_pretrained(\n",
    "    config.Config.MODEL_NAME,\n",
    "    config=mdlcfg,\n",
    ")\n",
    "reload(fn)\n",
    "fn.print_trainable_parameters(model)"
   ]
  },
  {
   "cell_type": "code",
   "execution_count": 5,
   "metadata": {},
   "outputs": [],
   "source": [
    "domain_adapter_coral = model.load_adapter(f\"{config.Config.ADAPTER_SAVE_PATH}/domain-adapter-coral\")\n"
   ]
  },
  {
   "cell_type": "code",
   "execution_count": null,
   "metadata": {},
   "outputs": [],
   "source": []
  },
  {
   "cell_type": "code",
   "execution_count": 6,
   "metadata": {},
   "outputs": [
    {
     "name": "stdout",
     "output_type": "stream",
     "text": [
      "trainable params: 1662813 || all params: 68472957 || trainable%: 2.428422946594814\n"
     ]
    }
   ],
   "source": [
    "from transformers import AdamW\n",
    "adapter_name= \"stacked-adapter-task\"\n",
    "model.add_adapter(adapter_name, config=\"seq_bn\")\n",
    "model.add_classification_head(\n",
    "    adapter_name,\n",
    "    num_labels=3,\n",
    "  )\n",
    "model.train_adapter([adapter_name])\n",
    "fn.print_trainable_parameters(model)"
   ]
  },
  {
   "cell_type": "code",
   "execution_count": 7,
   "metadata": {},
   "outputs": [],
   "source": [
    "from adapters.composition import Stack\n",
    "model.active_adapters = Stack(domain_adapter_coral, adapter_name)"
   ]
  },
  {
   "cell_type": "code",
   "execution_count": 8,
   "metadata": {},
   "outputs": [
    {
     "data": {
      "text/plain": [
       "[{'name': 'domain-adapter-coral',\n",
       "  'architecture': 'bottleneck',\n",
       "  'active': True,\n",
       "  '#param': 447264,\n",
       "  'train': False,\n",
       "  '%param': 0.6739671334336303},\n",
       " {'name': 'stacked-adapter-task',\n",
       "  'architecture': 'bottleneck',\n",
       "  'active': True,\n",
       "  '#param': 447264,\n",
       "  'train': True,\n",
       "  '%param': 0.6739671334336303},\n",
       " {'name': 'Full model', '#param': 66362880, '%param': 100.0, 'train': False}]"
      ]
     },
     "execution_count": 8,
     "metadata": {},
     "output_type": "execute_result"
    }
   ],
   "source": [
    "model.adapter_summary(as_dict=True)"
   ]
  },
  {
   "cell_type": "code",
   "execution_count": 9,
   "metadata": {},
   "outputs": [
    {
     "name": "stdout",
     "output_type": "stream",
     "text": [
      "trainable params: 1662813 || all params: 68472957 || trainable%: 2.428422946594814\n"
     ]
    },
    {
     "data": {
      "text/plain": [
       "Stack[domain-adapter-coral, stacked-adapter-task]"
      ]
     },
     "execution_count": 9,
     "metadata": {},
     "output_type": "execute_result"
    }
   ],
   "source": [
    "fn.print_trainable_parameters(model)\n",
    "model.active_adapters"
   ]
  },
  {
   "cell_type": "code",
   "execution_count": 10,
   "metadata": {},
   "outputs": [
    {
     "name": "stdout",
     "output_type": "stream",
     "text": [
      "Accuracy before adaptation: 0.31983805668016196\n",
      "F1 score before adaptation: 0.19905971675655318\n"
     ]
    }
   ],
   "source": [
    "# Evaluate the model on the target domain before adaptation\n",
    "reload(fn)\n",
    "accuracy_before, f1_before = fn.evaluate_model(model, target_test_loader)\n",
    "print(f\"Accuracy before adaptation: {accuracy_before}\")\n",
    "print(f\"F1 score before adaptation: {f1_before}\")"
   ]
  },
  {
   "cell_type": "code",
   "execution_count": 11,
   "metadata": {},
   "outputs": [
    {
     "name": "stderr",
     "output_type": "stream",
     "text": [
      "/home/guest/.cache/pypoetry/virtualenvs/intial-experments-_CPDD38x-py3.8/lib/python3.8/site-packages/accelerate/accelerator.py:432: FutureWarning: Passing the following arguments to `Accelerator` is deprecated and will be removed in version 1.0 of Accelerate: dict_keys(['dispatch_batches', 'split_batches']). Please pass an `accelerate.DataLoaderConfiguration` instead: \n",
      "dataloader_config = DataLoaderConfiguration(dispatch_batches=None, split_batches=False)\n",
      "  warnings.warn(\n"
     ]
    },
    {
     "data": {
      "application/vnd.jupyter.widget-view+json": {
       "model_id": "80ad60c5b25548ae8d1abbde840bdf84",
       "version_major": 2,
       "version_minor": 0
      },
      "text/plain": [
       "  0%|          | 0/9380 [00:00<?, ?it/s]"
      ]
     },
     "metadata": {},
     "output_type": "display_data"
    },
    {
     "name": "stdout",
     "output_type": "stream",
     "text": [
      "{'loss': 1.0576, 'learning_rate': 0.0001, 'epoch': 0.21}\n"
     ]
    },
    {
     "data": {
      "application/vnd.jupyter.widget-view+json": {
       "model_id": "f0ad7a1fc8124bb39124508f492c120d",
       "version_major": 2,
       "version_minor": 0
      },
      "text/plain": [
       "  0%|          | 0/31 [00:00<?, ?it/s]"
      ]
     },
     "metadata": {},
     "output_type": "display_data"
    },
    {
     "name": "stdout",
     "output_type": "stream",
     "text": [
      "{'eval_loss': 0.9236879348754883, 'eval_accuracy': 0.534919028340081, 'eval_f1': 0.5302478957015749, 'eval_precision': 0.5823660893334186, 'eval_recall': 0.534919028340081, 'eval_runtime': 2.6878, 'eval_samples_per_second': 735.174, 'eval_steps_per_second': 11.534, 'epoch': 0.21}\n",
      "{'loss': 0.8614, 'learning_rate': 9.436936936936938e-05, 'epoch': 0.43}\n"
     ]
    },
    {
     "data": {
      "application/vnd.jupyter.widget-view+json": {
       "model_id": "0e29979fd37e4625ab217431d1d40efe",
       "version_major": 2,
       "version_minor": 0
      },
      "text/plain": [
       "  0%|          | 0/31 [00:00<?, ?it/s]"
      ]
     },
     "metadata": {},
     "output_type": "display_data"
    },
    {
     "name": "stdout",
     "output_type": "stream",
     "text": [
      "{'eval_loss': 0.9031610488891602, 'eval_accuracy': 0.5425101214574899, 'eval_f1': 0.5314767586311261, 'eval_precision': 0.646291871385067, 'eval_recall': 0.5425101214574899, 'eval_runtime': 2.7094, 'eval_samples_per_second': 729.303, 'eval_steps_per_second': 11.441, 'epoch': 0.43}\n",
      "{'loss': 0.8058, 'learning_rate': 8.873873873873875e-05, 'epoch': 0.64}\n"
     ]
    },
    {
     "data": {
      "application/vnd.jupyter.widget-view+json": {
       "model_id": "ecdafd3f6def4d3b95ba539ebbd4bb4b",
       "version_major": 2,
       "version_minor": 0
      },
      "text/plain": [
       "  0%|          | 0/31 [00:00<?, ?it/s]"
      ]
     },
     "metadata": {},
     "output_type": "display_data"
    },
    {
     "name": "stdout",
     "output_type": "stream",
     "text": [
      "{'eval_loss': 0.8278478980064392, 'eval_accuracy': 0.6062753036437247, 'eval_f1': 0.6053389006726008, 'eval_precision': 0.6582947212885172, 'eval_recall': 0.6062753036437247, 'eval_runtime': 2.7187, 'eval_samples_per_second': 726.807, 'eval_steps_per_second': 11.402, 'epoch': 0.64}\n",
      "{'loss': 0.7819, 'learning_rate': 8.310810810810811e-05, 'epoch': 0.85}\n"
     ]
    },
    {
     "data": {
      "application/vnd.jupyter.widget-view+json": {
       "model_id": "3443f20a182343649ca25be09d64ebe7",
       "version_major": 2,
       "version_minor": 0
      },
      "text/plain": [
       "  0%|          | 0/31 [00:00<?, ?it/s]"
      ]
     },
     "metadata": {},
     "output_type": "display_data"
    },
    {
     "name": "stdout",
     "output_type": "stream",
     "text": [
      "{'eval_loss': 0.7908487319946289, 'eval_accuracy': 0.6675101214574899, 'eval_f1': 0.6661672162915495, 'eval_precision': 0.6877658869271529, 'eval_recall': 0.6675101214574899, 'eval_runtime': 2.737, 'eval_samples_per_second': 721.956, 'eval_steps_per_second': 11.326, 'epoch': 0.85}\n",
      "{'loss': 0.7595, 'learning_rate': 7.747747747747748e-05, 'epoch': 1.07}\n"
     ]
    },
    {
     "data": {
      "application/vnd.jupyter.widget-view+json": {
       "model_id": "1ec26a8725bf4b72a5fa8a01efbdc1ef",
       "version_major": 2,
       "version_minor": 0
      },
      "text/plain": [
       "  0%|          | 0/31 [00:00<?, ?it/s]"
      ]
     },
     "metadata": {},
     "output_type": "display_data"
    },
    {
     "name": "stdout",
     "output_type": "stream",
     "text": [
      "{'eval_loss': 0.7596086859703064, 'eval_accuracy': 0.6710526315789473, 'eval_f1': 0.6720820998421526, 'eval_precision': 0.6930096773886252, 'eval_recall': 0.6710526315789473, 'eval_runtime': 2.7332, 'eval_samples_per_second': 722.963, 'eval_steps_per_second': 11.342, 'epoch': 1.07}\n",
      "{'loss': 0.7335, 'learning_rate': 7.184684684684685e-05, 'epoch': 1.28}\n"
     ]
    },
    {
     "data": {
      "application/vnd.jupyter.widget-view+json": {
       "model_id": "92074e55c6ab49c9a6365163b731231e",
       "version_major": 2,
       "version_minor": 0
      },
      "text/plain": [
       "  0%|          | 0/31 [00:00<?, ?it/s]"
      ]
     },
     "metadata": {},
     "output_type": "display_data"
    },
    {
     "name": "stdout",
     "output_type": "stream",
     "text": [
      "{'eval_loss': 0.786507248878479, 'eval_accuracy': 0.6513157894736842, 'eval_f1': 0.6513090743168723, 'eval_precision': 0.7007635602175905, 'eval_recall': 0.6513157894736842, 'eval_runtime': 2.7321, 'eval_samples_per_second': 723.254, 'eval_steps_per_second': 11.347, 'epoch': 1.28}\n",
      "{'loss': 0.7079, 'learning_rate': 6.621621621621621e-05, 'epoch': 1.49}\n"
     ]
    },
    {
     "data": {
      "application/vnd.jupyter.widget-view+json": {
       "model_id": "7513b3bd4ce743a2a271022c729f9822",
       "version_major": 2,
       "version_minor": 0
      },
      "text/plain": [
       "  0%|          | 0/31 [00:00<?, ?it/s]"
      ]
     },
     "metadata": {},
     "output_type": "display_data"
    },
    {
     "name": "stdout",
     "output_type": "stream",
     "text": [
      "{'eval_loss': 0.7514548301696777, 'eval_accuracy': 0.6887651821862348, 'eval_f1': 0.688836196940157, 'eval_precision': 0.7087493312946921, 'eval_recall': 0.6887651821862348, 'eval_runtime': 2.7429, 'eval_samples_per_second': 720.405, 'eval_steps_per_second': 11.302, 'epoch': 1.49}\n",
      "{'loss': 0.7025, 'learning_rate': 6.058558558558559e-05, 'epoch': 1.71}\n"
     ]
    },
    {
     "data": {
      "application/vnd.jupyter.widget-view+json": {
       "model_id": "b479b817faab4e6d8bc01af38ba837ff",
       "version_major": 2,
       "version_minor": 0
      },
      "text/plain": [
       "  0%|          | 0/31 [00:00<?, ?it/s]"
      ]
     },
     "metadata": {},
     "output_type": "display_data"
    },
    {
     "name": "stdout",
     "output_type": "stream",
     "text": [
      "{'eval_loss': 0.7502272725105286, 'eval_accuracy': 0.6862348178137652, 'eval_f1': 0.6833849734387593, 'eval_precision': 0.7122630282544704, 'eval_recall': 0.6862348178137652, 'eval_runtime': 2.7454, 'eval_samples_per_second': 719.76, 'eval_steps_per_second': 11.292, 'epoch': 1.71}\n",
      "{'loss': 0.6995, 'learning_rate': 5.4954954954954966e-05, 'epoch': 1.92}\n"
     ]
    },
    {
     "data": {
      "application/vnd.jupyter.widget-view+json": {
       "model_id": "3bfd69ee79214f71ab3d2e2e1f8ece35",
       "version_major": 2,
       "version_minor": 0
      },
      "text/plain": [
       "  0%|          | 0/31 [00:00<?, ?it/s]"
      ]
     },
     "metadata": {},
     "output_type": "display_data"
    },
    {
     "name": "stdout",
     "output_type": "stream",
     "text": [
      "{'eval_loss': 0.7603251934051514, 'eval_accuracy': 0.6751012145748988, 'eval_f1': 0.6763190382557092, 'eval_precision': 0.7103662711813056, 'eval_recall': 0.6751012145748988, 'eval_runtime': 2.7379, 'eval_samples_per_second': 721.716, 'eval_steps_per_second': 11.322, 'epoch': 1.92}\n",
      "{'loss': 0.6781, 'learning_rate': 4.9324324324324325e-05, 'epoch': 2.13}\n"
     ]
    },
    {
     "data": {
      "application/vnd.jupyter.widget-view+json": {
       "model_id": "fc9fb9faebac417698bd2ec6df5285ee",
       "version_major": 2,
       "version_minor": 0
      },
      "text/plain": [
       "  0%|          | 0/31 [00:00<?, ?it/s]"
      ]
     },
     "metadata": {},
     "output_type": "display_data"
    },
    {
     "name": "stdout",
     "output_type": "stream",
     "text": [
      "{'eval_loss': 0.7584933042526245, 'eval_accuracy': 0.6705465587044535, 'eval_f1': 0.6713525999482863, 'eval_precision': 0.7015225439316588, 'eval_recall': 0.6705465587044535, 'eval_runtime': 2.7421, 'eval_samples_per_second': 720.607, 'eval_steps_per_second': 11.305, 'epoch': 2.13}\n",
      "{'loss': 0.6786, 'learning_rate': 4.369369369369369e-05, 'epoch': 2.35}\n"
     ]
    },
    {
     "data": {
      "application/vnd.jupyter.widget-view+json": {
       "model_id": "23166eac92064d80952cde13175454ac",
       "version_major": 2,
       "version_minor": 0
      },
      "text/plain": [
       "  0%|          | 0/31 [00:00<?, ?it/s]"
      ]
     },
     "metadata": {},
     "output_type": "display_data"
    },
    {
     "name": "stdout",
     "output_type": "stream",
     "text": [
      "{'eval_loss': 0.7286779880523682, 'eval_accuracy': 0.7039473684210527, 'eval_f1': 0.7045184361608424, 'eval_precision': 0.7175815322421493, 'eval_recall': 0.7039473684210527, 'eval_runtime': 2.7434, 'eval_samples_per_second': 720.27, 'eval_steps_per_second': 11.3, 'epoch': 2.35}\n",
      "{'loss': 0.6671, 'learning_rate': 3.8063063063063064e-05, 'epoch': 2.56}\n"
     ]
    },
    {
     "data": {
      "application/vnd.jupyter.widget-view+json": {
       "model_id": "aa0b913950ce439ebcb60c09fc539e63",
       "version_major": 2,
       "version_minor": 0
      },
      "text/plain": [
       "  0%|          | 0/31 [00:00<?, ?it/s]"
      ]
     },
     "metadata": {},
     "output_type": "display_data"
    },
    {
     "name": "stdout",
     "output_type": "stream",
     "text": [
      "{'eval_loss': 0.7277517914772034, 'eval_accuracy': 0.6963562753036437, 'eval_f1': 0.6971607048284554, 'eval_precision': 0.7135445862940888, 'eval_recall': 0.6963562753036437, 'eval_runtime': 2.7411, 'eval_samples_per_second': 720.875, 'eval_steps_per_second': 11.309, 'epoch': 2.56}\n",
      "{'loss': 0.6711, 'learning_rate': 3.2432432432432436e-05, 'epoch': 2.77}\n"
     ]
    },
    {
     "data": {
      "application/vnd.jupyter.widget-view+json": {
       "model_id": "a11997c4a001470cbda43e581e34bd04",
       "version_major": 2,
       "version_minor": 0
      },
      "text/plain": [
       "  0%|          | 0/31 [00:00<?, ?it/s]"
      ]
     },
     "metadata": {},
     "output_type": "display_data"
    },
    {
     "name": "stdout",
     "output_type": "stream",
     "text": [
      "{'eval_loss': 0.726429283618927, 'eval_accuracy': 0.6963562753036437, 'eval_f1': 0.6977909778292203, 'eval_precision': 0.7131586116502198, 'eval_recall': 0.6963562753036437, 'eval_runtime': 2.7376, 'eval_samples_per_second': 721.802, 'eval_steps_per_second': 11.324, 'epoch': 2.77}\n",
      "{'loss': 0.6608, 'learning_rate': 2.6801801801801802e-05, 'epoch': 2.99}\n"
     ]
    },
    {
     "data": {
      "application/vnd.jupyter.widget-view+json": {
       "model_id": "ce814586a34c41e1959c486d0c3628de",
       "version_major": 2,
       "version_minor": 0
      },
      "text/plain": [
       "  0%|          | 0/31 [00:00<?, ?it/s]"
      ]
     },
     "metadata": {},
     "output_type": "display_data"
    },
    {
     "name": "stdout",
     "output_type": "stream",
     "text": [
      "{'eval_loss': 0.7319917678833008, 'eval_accuracy': 0.701417004048583, 'eval_f1': 0.7009300890265218, 'eval_precision': 0.7275064062590995, 'eval_recall': 0.701417004048583, 'eval_runtime': 2.7414, 'eval_samples_per_second': 720.79, 'eval_steps_per_second': 11.308, 'epoch': 2.99}\n",
      "{'loss': 0.65, 'learning_rate': 2.117117117117117e-05, 'epoch': 3.2}\n"
     ]
    },
    {
     "data": {
      "application/vnd.jupyter.widget-view+json": {
       "model_id": "e3b6fb80b946457cbf6680ce9fce8dd4",
       "version_major": 2,
       "version_minor": 0
      },
      "text/plain": [
       "  0%|          | 0/31 [00:00<?, ?it/s]"
      ]
     },
     "metadata": {},
     "output_type": "display_data"
    },
    {
     "name": "stdout",
     "output_type": "stream",
     "text": [
      "{'eval_loss': 0.7277070879936218, 'eval_accuracy': 0.6993927125506073, 'eval_f1': 0.7000870229772307, 'eval_precision': 0.7233703272662564, 'eval_recall': 0.6993927125506073, 'eval_runtime': 2.7463, 'eval_samples_per_second': 719.526, 'eval_steps_per_second': 11.288, 'epoch': 3.2}\n",
      "{'loss': 0.6575, 'learning_rate': 1.554054054054054e-05, 'epoch': 3.41}\n"
     ]
    },
    {
     "data": {
      "application/vnd.jupyter.widget-view+json": {
       "model_id": "18e61c5eafb44d03a02d59866f97492f",
       "version_major": 2,
       "version_minor": 0
      },
      "text/plain": [
       "  0%|          | 0/31 [00:00<?, ?it/s]"
      ]
     },
     "metadata": {},
     "output_type": "display_data"
    },
    {
     "name": "stdout",
     "output_type": "stream",
     "text": [
      "{'eval_loss': 0.7240086793899536, 'eval_accuracy': 0.6867408906882592, 'eval_f1': 0.6876841652471265, 'eval_precision': 0.7068735687021164, 'eval_recall': 0.6867408906882592, 'eval_runtime': 2.7446, 'eval_samples_per_second': 719.965, 'eval_steps_per_second': 11.295, 'epoch': 3.41}\n",
      "{'loss': 0.6477, 'learning_rate': 9.90990990990991e-06, 'epoch': 3.62}\n"
     ]
    },
    {
     "data": {
      "application/vnd.jupyter.widget-view+json": {
       "model_id": "6112454da06f49d8a995f0fc381d58e4",
       "version_major": 2,
       "version_minor": 0
      },
      "text/plain": [
       "  0%|          | 0/31 [00:00<?, ?it/s]"
      ]
     },
     "metadata": {},
     "output_type": "display_data"
    },
    {
     "name": "stdout",
     "output_type": "stream",
     "text": [
      "{'eval_loss': 0.7148787379264832, 'eval_accuracy': 0.7004048582995951, 'eval_f1': 0.7010183349459501, 'eval_precision': 0.7168658635301949, 'eval_recall': 0.7004048582995951, 'eval_runtime': 2.7375, 'eval_samples_per_second': 721.822, 'eval_steps_per_second': 11.324, 'epoch': 3.62}\n",
      "{'loss': 0.6402, 'learning_rate': 4.279279279279279e-06, 'epoch': 3.84}\n"
     ]
    },
    {
     "data": {
      "application/vnd.jupyter.widget-view+json": {
       "model_id": "dcbfa46a9d81464da9d9016a327be81d",
       "version_major": 2,
       "version_minor": 0
      },
      "text/plain": [
       "  0%|          | 0/31 [00:00<?, ?it/s]"
      ]
     },
     "metadata": {},
     "output_type": "display_data"
    },
    {
     "name": "stdout",
     "output_type": "stream",
     "text": [
      "{'eval_loss': 0.7259374856948853, 'eval_accuracy': 0.6902834008097166, 'eval_f1': 0.6912942336496789, 'eval_precision': 0.7153403334931405, 'eval_recall': 0.6902834008097166, 'eval_runtime': 2.743, 'eval_samples_per_second': 720.379, 'eval_steps_per_second': 11.301, 'epoch': 3.84}\n"
     ]
    },
    {
     "name": "stderr",
     "output_type": "stream",
     "text": [
      "Overwriting existing adapter 'domain-adapter-coral'.\n",
      "Overwriting existing adapter 'stacked-adapter-task'.\n",
      "Overwriting existing head 'stacked-adapter-task'\n"
     ]
    },
    {
     "name": "stdout",
     "output_type": "stream",
     "text": [
      "{'train_runtime': 878.4441, 'train_samples_per_second': 341.572, 'train_steps_per_second': 10.678, 'train_loss': 0.7216633534380622, 'epoch': 4.0}\n"
     ]
    }
   ],
   "source": [
    "reload(config)\n",
    "reload(fn)\n",
    "trainer = fn.train_model(model,\"stacked\",source_data,source_data_eval)"
   ]
  },
  {
   "cell_type": "code",
   "execution_count": 12,
   "metadata": {},
   "outputs": [
    {
     "name": "stdout",
     "output_type": "stream",
     "text": [
      "Accuracy before adaptation: 0.7039473684210527\n",
      "F1 score before adaptation: 0.7045184361608424\n"
     ]
    }
   ],
   "source": [
    "accuracy_before, f1_before = fn.evaluate_model(trainer.model, target_test_loader)\n",
    "print(f\"Accuracy before adaptation: {accuracy_before}\")\n",
    "print(f\"F1 score before adaptation: {f1_before}\")"
   ]
  },
  {
   "cell_type": "markdown",
   "metadata": {},
   "source": []
  },
  {
   "cell_type": "code",
   "execution_count": null,
   "metadata": {},
   "outputs": [],
   "source": []
  },
  {
   "cell_type": "code",
   "execution_count": 32,
   "metadata": {},
   "outputs": [],
   "source": [
    "model.save_adapter(f\"{config.Config.ADAPTER_SAVE_PATH}/{adapter_name}\", adapter_name)"
   ]
  },
  {
   "cell_type": "code",
   "execution_count": 33,
   "metadata": {},
   "outputs": [],
   "source": [
    "model.add_classification_head(\n",
    "    \"task-test-after-coral\",\n",
    "    num_labels=3,\n",
    "  )"
   ]
  },
  {
   "cell_type": "code",
   "execution_count": 37,
   "metadata": {},
   "outputs": [
    {
     "data": {
      "text/plain": [
       "[{'name': 'domain-adapter-coral',\n",
       "  'architecture': 'bottleneck',\n",
       "  'active': True,\n",
       "  '#param': 447264,\n",
       "  'train': True,\n",
       "  '%param': 0.6739671334336303},\n",
       " {'name': 'Full model', '#param': 66362880, '%param': 100.0, 'train': False}]"
      ]
     },
     "execution_count": 37,
     "metadata": {},
     "output_type": "execute_result"
    }
   ],
   "source": [
    "model.adapter_summary(as_dict=True)"
   ]
  },
  {
   "cell_type": "code",
   "execution_count": 36,
   "metadata": {},
   "outputs": [
    {
     "name": "stdout",
     "output_type": "stream",
     "text": [
      "Accuracy before adaptation: 0.34210526315789475\n",
      "F1 score before adaptation: 0.2640755557195107\n"
     ]
    }
   ],
   "source": [
    "accuracy_before, f1_before = fn.evaluate_model(model, target_test_loader)\n",
    "print(f\"Accuracy before adaptation: {accuracy_before}\")\n",
    "print(f\"F1 score before adaptation: {f1_before}\")"
   ]
  },
  {
   "cell_type": "code",
   "execution_count": null,
   "metadata": {},
   "outputs": [],
   "source": []
  }
 ],
 "metadata": {
  "kernelspec": {
   "display_name": "intial-experments-_CPDD38x-py3.8",
   "language": "python",
   "name": "python3"
  },
  "language_info": {
   "codemirror_mode": {
    "name": "ipython",
    "version": 3
   },
   "file_extension": ".py",
   "mimetype": "text/x-python",
   "name": "python",
   "nbconvert_exporter": "python",
   "pygments_lexer": "ipython3",
   "version": "3.8.10"
  }
 },
 "nbformat": 4,
 "nbformat_minor": 2
}
