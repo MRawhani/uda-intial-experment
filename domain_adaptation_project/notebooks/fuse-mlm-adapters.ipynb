{
 "cells": [
  {
   "cell_type": "code",
   "execution_count": null,
   "metadata": {},
   "outputs": [],
   "source": []
  },
  {
   "cell_type": "code",
   "execution_count": null,
   "metadata": {},
   "outputs": [],
   "source": []
  },
  {
   "cell_type": "code",
   "execution_count": 1,
   "metadata": {},
   "outputs": [
    {
     "name": "stdout",
     "output_type": "stream",
     "text": [
      "['/home/guest/Desktop/projects/intial-experments/domain_adaptation_project/notebooks', '/usr/lib/python38.zip', '/usr/lib/python3.8', '/usr/lib/python3.8/lib-dynload', '', '/home/guest/.cache/pypoetry/virtualenvs/intial-experments-_CPDD38x-py3.8/lib/python3.8/site-packages', '/home/guest/Desktop/projects/intial-experments/domain_adaptation_project/modules']\n"
     ]
    },
    {
     "name": "stderr",
     "output_type": "stream",
     "text": [
      "/home/guest/.cache/pypoetry/virtualenvs/intial-experments-_CPDD38x-py3.8/lib/python3.8/site-packages/transformers/utils/generic.py:441: UserWarning: torch.utils._pytree._register_pytree_node is deprecated. Please use torch.utils._pytree.register_pytree_node instead.\n",
      "  _torch_pytree._register_pytree_node(\n",
      "/home/guest/.cache/pypoetry/virtualenvs/intial-experments-_CPDD38x-py3.8/lib/python3.8/site-packages/transformers/utils/generic.py:309: UserWarning: torch.utils._pytree._register_pytree_node is deprecated. Please use torch.utils._pytree.register_pytree_node instead.\n",
      "  _torch_pytree._register_pytree_node(\n",
      "2024-04-20 05:04:18.375287: I tensorflow/core/util/port.cc:110] oneDNN custom operations are on. You may see slightly different numerical results due to floating-point round-off errors from different computation orders. To turn them off, set the environment variable `TF_ENABLE_ONEDNN_OPTS=0`.\n",
      "2024-04-20 05:04:18.408100: I tensorflow/core/platform/cpu_feature_guard.cc:182] This TensorFlow binary is optimized to use available CPU instructions in performance-critical operations.\n",
      "To enable the following instructions: AVX2 AVX512F AVX512_VNNI FMA, in other operations, rebuild TensorFlow with the appropriate compiler flags.\n",
      "2024-04-20 05:04:19.050885: W tensorflow/compiler/tf2tensorrt/utils/py_utils.cc:38] TF-TRT Warning: Could not find TensorRT\n"
     ]
    }
   ],
   "source": [
    "from setup import setup_src_path\n",
    "print(setup_src_path())\n",
    "import data.processed as processed\n",
    "import config.config as config\n",
    "import utils.setup as setup\n",
    "import utils.functions as fn\n",
    "from importlib import reload\n",
    "\n"
   ]
  },
  {
   "cell_type": "code",
   "execution_count": 15,
   "metadata": {},
   "outputs": [],
   "source": [
    "from datasets import load_from_disk\n",
    "\n",
    "source_data=load_from_disk(f\"{config.Config.DATASETS_SAVE_PATH}/source_data\")\n",
    "source_data_eval=load_from_disk(f\"{config.Config.DATASETS_SAVE_PATH}/source_data_eval\")\n",
    "target_data=load_from_disk(f\"{config.Config.DATASETS_SAVE_PATH}/target_data\")\n",
    "target_data_eval=load_from_disk(f\"{config.Config.DATASETS_SAVE_PATH}/target_data_eval\")\n",
    "test_target_data=load_from_disk(f\"{config.Config.DATASETS_SAVE_PATH}/test_target_data\")\n",
    "unsupervised_target=load_from_disk(f\"{config.Config.DATASETS_SAVE_PATH}/unsupervised_target\")\n"
   ]
  },
  {
   "cell_type": "code",
   "execution_count": 3,
   "metadata": {},
   "outputs": [
    {
     "data": {
      "text/plain": [
       "DatasetDict({\n",
       "    train: Dataset({\n",
       "        features: ['labels', 'input_ids', 'attention_mask'],\n",
       "        num_rows: 37506\n",
       "    })\n",
       "    test: Dataset({\n",
       "        features: ['labels', 'input_ids', 'attention_mask'],\n",
       "        num_rows: 6002\n",
       "    })\n",
       "})"
      ]
     },
     "execution_count": 3,
     "metadata": {},
     "output_type": "execute_result"
    }
   ],
   "source": [
    "source_data = source_data.train_test_split(train_size=0.5, test_size=0.08)\n",
    "source_data"
   ]
  },
  {
   "cell_type": "code",
   "execution_count": 16,
   "metadata": {},
   "outputs": [],
   "source": [
    "from torch.utils.data import DataLoader\n",
    "source_data_loader = DataLoader(source_data, batch_size=32, shuffle=True)\n",
    "target_data_loader = DataLoader(target_data, batch_size=32)\n",
    "source_data_eval_loader = DataLoader(source_data_eval, batch_size=32, shuffle=True)\n",
    "target_data_eval_loader = DataLoader(target_data_eval, batch_size=32)\n",
    "\n",
    "target_test_loader = DataLoader(test_target_data, batch_size=32)"
   ]
  },
  {
   "cell_type": "code",
   "execution_count": 17,
   "metadata": {},
   "outputs": [
    {
     "name": "stdout",
     "output_type": "stream",
     "text": [
      "trainable params: 66985530 || all params: 66985530 || trainable%: 100.0\n"
     ]
    }
   ],
   "source": [
    "from adapters import AutoAdapterModel,init\n",
    "from tqdm import tqdm\n",
    "\n",
    "from transformers import AutoConfig, AutoModelForMaskedLM\n",
    "\n",
    "mdlcfg = AutoConfig.from_pretrained(\n",
    "    config.Config.MODEL_NAME,\n",
    " \n",
    ")\n",
    "model = AutoAdapterModel.from_pretrained(\n",
    "    config.Config.MODEL_NAME,\n",
    ")\n",
    "reload(fn)\n",
    "fn.print_trainable_parameters(model)"
   ]
  },
  {
   "cell_type": "code",
   "execution_count": 18,
   "metadata": {},
   "outputs": [],
   "source": [
    "import adapters.composition as ac\n",
    "\n",
    "#domain_adapter_coral = model.load_adapter(f\"{config.Config.ADAPTER_SAVE_PATH}/domain_adapter_telephone_travel\",with_head=False)\n",
    "source_mlm = model.load_adapter(f\"{config.Config.ADAPTER_SAVE_PATH}/source-mlm\",with_head=False)\n",
    "target_mlm = model.load_adapter(f\"{config.Config.ADAPTER_SAVE_PATH}/standalone-mlm-target\",with_head=False)\n"
   ]
  },
  {
   "cell_type": "code",
   "execution_count": 19,
   "metadata": {},
   "outputs": [],
   "source": [
    "model.add_adapter_fusion(ac.Fuse(source_mlm, target_mlm))\n",
    "adapter_setup_fuse = ac.Fuse( source_mlm, target_mlm)\n",
    "model.train_adapter_fusion(adapter_setup_fuse)\n",
    "\n",
    "#model.active_adapters = ac.Stack(domain_adapter_coral, ac.Fuse(source_mlm, target_mlm))\n",
    "model.active_adapters = ac.Fuse(source_mlm, target_mlm)\n",
    "\n",
    "model.add_classification_head(\"mnli\", num_labels=3)\n"
   ]
  },
  {
   "cell_type": "code",
   "execution_count": 20,
   "metadata": {},
   "outputs": [
    {
     "name": "stdout",
     "output_type": "stream",
     "text": [
      "trainable params: 11811075 || all params: 85296189 || trainable%: 13.847130966191234\n"
     ]
    }
   ],
   "source": [
    "fn.print_trainable_parameters(model)"
   ]
  },
  {
   "cell_type": "code",
   "execution_count": 21,
   "metadata": {},
   "outputs": [
    {
     "data": {
      "text/plain": [
       "[{'name': 'source-mlm',\n",
       "  'architecture': 'bottleneck',\n",
       "  'active': True,\n",
       "  '#param': 3545856,\n",
       "  'train': False,\n",
       "  '%param': 4.605670051672885},\n",
       " {'name': 'standalone-mlm-target',\n",
       "  'architecture': 'bottleneck',\n",
       "  'active': True,\n",
       "  '#param': 3545856,\n",
       "  'train': False,\n",
       "  '%param': 4.605670051672885},\n",
       " {'name': 'Full model', '#param': 76988928, '%param': 100.0, 'train': False}]"
      ]
     },
     "execution_count": 21,
     "metadata": {},
     "output_type": "execute_result"
    }
   ],
   "source": [
    "model.adapter_summary(as_dict=True)"
   ]
  },
  {
   "cell_type": "code",
   "execution_count": 22,
   "metadata": {},
   "outputs": [
    {
     "name": "stdout",
     "output_type": "stream",
     "text": [
      "distilbert.transformer.layer.0.output_adapters.adapter_fusion_layer.source-mlm,standalone-mlm-target.query.weight\n",
      "distilbert.transformer.layer.0.output_adapters.adapter_fusion_layer.source-mlm,standalone-mlm-target.query.bias\n",
      "distilbert.transformer.layer.0.output_adapters.adapter_fusion_layer.source-mlm,standalone-mlm-target.key.weight\n",
      "distilbert.transformer.layer.0.output_adapters.adapter_fusion_layer.source-mlm,standalone-mlm-target.key.bias\n",
      "distilbert.transformer.layer.0.output_adapters.adapter_fusion_layer.source-mlm,standalone-mlm-target.value.weight\n",
      "distilbert.transformer.layer.1.output_adapters.adapter_fusion_layer.source-mlm,standalone-mlm-target.query.weight\n",
      "distilbert.transformer.layer.1.output_adapters.adapter_fusion_layer.source-mlm,standalone-mlm-target.query.bias\n",
      "distilbert.transformer.layer.1.output_adapters.adapter_fusion_layer.source-mlm,standalone-mlm-target.key.weight\n",
      "distilbert.transformer.layer.1.output_adapters.adapter_fusion_layer.source-mlm,standalone-mlm-target.key.bias\n",
      "distilbert.transformer.layer.1.output_adapters.adapter_fusion_layer.source-mlm,standalone-mlm-target.value.weight\n",
      "distilbert.transformer.layer.2.output_adapters.adapter_fusion_layer.source-mlm,standalone-mlm-target.query.weight\n",
      "distilbert.transformer.layer.2.output_adapters.adapter_fusion_layer.source-mlm,standalone-mlm-target.query.bias\n",
      "distilbert.transformer.layer.2.output_adapters.adapter_fusion_layer.source-mlm,standalone-mlm-target.key.weight\n",
      "distilbert.transformer.layer.2.output_adapters.adapter_fusion_layer.source-mlm,standalone-mlm-target.key.bias\n",
      "distilbert.transformer.layer.2.output_adapters.adapter_fusion_layer.source-mlm,standalone-mlm-target.value.weight\n",
      "distilbert.transformer.layer.3.output_adapters.adapter_fusion_layer.source-mlm,standalone-mlm-target.query.weight\n",
      "distilbert.transformer.layer.3.output_adapters.adapter_fusion_layer.source-mlm,standalone-mlm-target.query.bias\n",
      "distilbert.transformer.layer.3.output_adapters.adapter_fusion_layer.source-mlm,standalone-mlm-target.key.weight\n",
      "distilbert.transformer.layer.3.output_adapters.adapter_fusion_layer.source-mlm,standalone-mlm-target.key.bias\n",
      "distilbert.transformer.layer.3.output_adapters.adapter_fusion_layer.source-mlm,standalone-mlm-target.value.weight\n",
      "distilbert.transformer.layer.4.output_adapters.adapter_fusion_layer.source-mlm,standalone-mlm-target.query.weight\n",
      "distilbert.transformer.layer.4.output_adapters.adapter_fusion_layer.source-mlm,standalone-mlm-target.query.bias\n",
      "distilbert.transformer.layer.4.output_adapters.adapter_fusion_layer.source-mlm,standalone-mlm-target.key.weight\n",
      "distilbert.transformer.layer.4.output_adapters.adapter_fusion_layer.source-mlm,standalone-mlm-target.key.bias\n",
      "distilbert.transformer.layer.4.output_adapters.adapter_fusion_layer.source-mlm,standalone-mlm-target.value.weight\n",
      "distilbert.transformer.layer.5.output_adapters.adapter_fusion_layer.source-mlm,standalone-mlm-target.query.weight\n",
      "distilbert.transformer.layer.5.output_adapters.adapter_fusion_layer.source-mlm,standalone-mlm-target.query.bias\n",
      "distilbert.transformer.layer.5.output_adapters.adapter_fusion_layer.source-mlm,standalone-mlm-target.key.weight\n",
      "distilbert.transformer.layer.5.output_adapters.adapter_fusion_layer.source-mlm,standalone-mlm-target.key.bias\n",
      "distilbert.transformer.layer.5.output_adapters.adapter_fusion_layer.source-mlm,standalone-mlm-target.value.weight\n",
      "heads.default.0.weight\n",
      "heads.default.0.bias\n",
      "heads.default.2.weight\n",
      "heads.default.2.bias\n",
      "heads.mnli.1.weight\n",
      "heads.mnli.1.bias\n",
      "heads.mnli.4.weight\n",
      "heads.mnli.4.bias\n",
      "Fuse[source-mlm, standalone-mlm-target]\n"
     ]
    }
   ],
   "source": [
    "for name, param in model.named_parameters():\n",
    "    if param.requires_grad:\n",
    "        print(name)\n",
    "print(model.active_adapters)"
   ]
  },
  {
   "cell_type": "code",
   "execution_count": 23,
   "metadata": {},
   "outputs": [
    {
     "name": "stdout",
     "output_type": "stream",
     "text": [
      "Accuracy before adaptation: 0.3476720647773279\n",
      "F1 score before adaptation: 0.20148890096508978\n"
     ]
    }
   ],
   "source": [
    "# Evaluate the model on the target domain before adaptation\n",
    "reload(fn)\n",
    "accuracy_before, f1_before = fn.evaluate_model(model, target_test_loader)\n",
    "print(f\"Accuracy before adaptation: {accuracy_before}\")\n",
    "print(f\"F1 score before adaptation: {f1_before}\")"
   ]
  },
  {
   "cell_type": "code",
   "execution_count": 24,
   "metadata": {},
   "outputs": [
    {
     "name": "stderr",
     "output_type": "stream",
     "text": [
      "/home/guest/.cache/pypoetry/virtualenvs/intial-experments-_CPDD38x-py3.8/lib/python3.8/site-packages/accelerate/accelerator.py:432: FutureWarning: Passing the following arguments to `Accelerator` is deprecated and will be removed in version 1.0 of Accelerate: dict_keys(['dispatch_batches', 'split_batches']). Please pass an `accelerate.DataLoaderConfiguration` instead: \n",
      "dataloader_config = DataLoaderConfiguration(dispatch_batches=None, split_batches=False)\n",
      "  warnings.warn(\n"
     ]
    },
    {
     "data": {
      "application/vnd.jupyter.widget-view+json": {
       "model_id": "35576b0c306e4c06872b8eb6c0c8d59c",
       "version_major": 2,
       "version_minor": 0
      },
      "text/plain": [
       "  0%|          | 0/9380 [00:00<?, ?it/s]"
      ]
     },
     "metadata": {},
     "output_type": "display_data"
    },
    {
     "name": "stdout",
     "output_type": "stream",
     "text": [
      "{'loss': 1.0122, 'learning_rate': 0.0001, 'epoch': 0.21}\n"
     ]
    },
    {
     "data": {
      "application/vnd.jupyter.widget-view+json": {
       "model_id": "e9c2347d71b34a8482ae4702b2328a77",
       "version_major": 2,
       "version_minor": 0
      },
      "text/plain": [
       "  0%|          | 0/242 [00:00<?, ?it/s]"
      ]
     },
     "metadata": {},
     "output_type": "display_data"
    },
    {
     "name": "stdout",
     "output_type": "stream",
     "text": [
      "{'eval_loss': 0.8864644765853882, 'eval_accuracy': 0.5906916612798966, 'eval_f1': 0.5733483197334996, 'eval_precision': 0.6684059715754422, 'eval_recall': 0.5906916612798966, 'eval_runtime': 16.2893, 'eval_samples_per_second': 474.85, 'eval_steps_per_second': 14.856, 'epoch': 0.21}\n",
      "{'loss': 0.8548, 'learning_rate': 9.436936936936938e-05, 'epoch': 0.43}\n"
     ]
    },
    {
     "data": {
      "application/vnd.jupyter.widget-view+json": {
       "model_id": "c01ed597af064de0b37a6a205cbac15a",
       "version_major": 2,
       "version_minor": 0
      },
      "text/plain": [
       "  0%|          | 0/242 [00:00<?, ?it/s]"
      ]
     },
     "metadata": {},
     "output_type": "display_data"
    },
    {
     "name": "stdout",
     "output_type": "stream",
     "text": [
      "{'eval_loss': 0.8158416748046875, 'eval_accuracy': 0.6332255979314803, 'eval_f1': 0.6313752089099763, 'eval_precision': 0.6673262844789805, 'eval_recall': 0.6332255979314803, 'eval_runtime': 16.4921, 'eval_samples_per_second': 469.011, 'eval_steps_per_second': 14.674, 'epoch': 0.43}\n",
      "{'loss': 0.8257, 'learning_rate': 8.873873873873875e-05, 'epoch': 0.64}\n"
     ]
    },
    {
     "data": {
      "application/vnd.jupyter.widget-view+json": {
       "model_id": "12cbaae10d274d86ac96fd0bb21b5241",
       "version_major": 2,
       "version_minor": 0
      },
      "text/plain": [
       "  0%|          | 0/242 [00:00<?, ?it/s]"
      ]
     },
     "metadata": {},
     "output_type": "display_data"
    },
    {
     "name": "stdout",
     "output_type": "stream",
     "text": [
      "{'eval_loss': 0.8124943971633911, 'eval_accuracy': 0.6440853264382677, 'eval_f1': 0.6433548768222844, 'eval_precision': 0.6581255573729909, 'eval_recall': 0.6440853264382677, 'eval_runtime': 16.5834, 'eval_samples_per_second': 466.43, 'eval_steps_per_second': 14.593, 'epoch': 0.64}\n",
      "{'loss': 0.8087, 'learning_rate': 8.310810810810811e-05, 'epoch': 0.85}\n"
     ]
    },
    {
     "data": {
      "application/vnd.jupyter.widget-view+json": {
       "model_id": "c7b76a85055149a5aeb208220809fcb7",
       "version_major": 2,
       "version_minor": 0
      },
      "text/plain": [
       "  0%|          | 0/242 [00:00<?, ?it/s]"
      ]
     },
     "metadata": {},
     "output_type": "display_data"
    },
    {
     "name": "stdout",
     "output_type": "stream",
     "text": [
      "{'eval_loss': 0.8719300627708435, 'eval_accuracy': 0.5998707175177763, 'eval_f1': 0.5940764074315223, 'eval_precision': 0.6681940632004834, 'eval_recall': 0.5998707175177763, 'eval_runtime': 16.599, 'eval_samples_per_second': 465.991, 'eval_steps_per_second': 14.579, 'epoch': 0.85}\n",
      "{'loss': 0.8035, 'learning_rate': 7.747747747747748e-05, 'epoch': 1.07}\n"
     ]
    },
    {
     "data": {
      "application/vnd.jupyter.widget-view+json": {
       "model_id": "8937c7bc67b34a9b8b501edb1fd425ee",
       "version_major": 2,
       "version_minor": 0
      },
      "text/plain": [
       "  0%|          | 0/242 [00:00<?, ?it/s]"
      ]
     },
     "metadata": {},
     "output_type": "display_data"
    },
    {
     "name": "stdout",
     "output_type": "stream",
     "text": [
      "{'eval_loss': 0.8207654356956482, 'eval_accuracy': 0.6308985132514544, 'eval_f1': 0.6287674597158919, 'eval_precision': 0.6621350849187384, 'eval_recall': 0.6308985132514544, 'eval_runtime': 16.6081, 'eval_samples_per_second': 465.737, 'eval_steps_per_second': 14.571, 'epoch': 1.07}\n",
      "{'loss': 0.7904, 'learning_rate': 7.184684684684685e-05, 'epoch': 1.28}\n"
     ]
    },
    {
     "data": {
      "application/vnd.jupyter.widget-view+json": {
       "model_id": "2ae604bae1df49d8a57a22149c126ab9",
       "version_major": 2,
       "version_minor": 0
      },
      "text/plain": [
       "  0%|          | 0/242 [00:00<?, ?it/s]"
      ]
     },
     "metadata": {},
     "output_type": "display_data"
    },
    {
     "name": "stdout",
     "output_type": "stream",
     "text": [
      "{'eval_loss': 0.8460126519203186, 'eval_accuracy': 0.6091790562378797, 'eval_f1': 0.6052988244263016, 'eval_precision': 0.669749458419534, 'eval_recall': 0.6091790562378797, 'eval_runtime': 16.5882, 'eval_samples_per_second': 466.295, 'eval_steps_per_second': 14.589, 'epoch': 1.28}\n",
      "{'loss': 0.7753, 'learning_rate': 6.621621621621621e-05, 'epoch': 1.49}\n"
     ]
    },
    {
     "data": {
      "application/vnd.jupyter.widget-view+json": {
       "model_id": "9e8e162c735f4cefbd758cfa43ea5d78",
       "version_major": 2,
       "version_minor": 0
      },
      "text/plain": [
       "  0%|          | 0/242 [00:00<?, ?it/s]"
      ]
     },
     "metadata": {},
     "output_type": "display_data"
    },
    {
     "name": "stdout",
     "output_type": "stream",
     "text": [
      "{'eval_loss': 0.8032245635986328, 'eval_accuracy': 0.6448610213316096, 'eval_f1': 0.6441522078302145, 'eval_precision': 0.6638389104503085, 'eval_recall': 0.6448610213316096, 'eval_runtime': 16.5978, 'eval_samples_per_second': 466.026, 'eval_steps_per_second': 14.58, 'epoch': 1.49}\n",
      "{'loss': 0.7789, 'learning_rate': 6.058558558558559e-05, 'epoch': 1.71}\n"
     ]
    },
    {
     "data": {
      "application/vnd.jupyter.widget-view+json": {
       "model_id": "75a42a9617944180b99685740b57cb4c",
       "version_major": 2,
       "version_minor": 0
      },
      "text/plain": [
       "  0%|          | 0/242 [00:00<?, ?it/s]"
      ]
     },
     "metadata": {},
     "output_type": "display_data"
    },
    {
     "name": "stdout",
     "output_type": "stream",
     "text": [
      "{'eval_loss': 0.7850579023361206, 'eval_accuracy': 0.6501616031027796, 'eval_f1': 0.6503394402181669, 'eval_precision': 0.6675303300694697, 'eval_recall': 0.6501616031027796, 'eval_runtime': 16.5682, 'eval_samples_per_second': 466.857, 'eval_steps_per_second': 14.606, 'epoch': 1.71}\n",
      "{'loss': 0.7729, 'learning_rate': 5.4954954954954966e-05, 'epoch': 1.92}\n"
     ]
    },
    {
     "data": {
      "application/vnd.jupyter.widget-view+json": {
       "model_id": "be80c1ce7cce4d01a670b31810603b76",
       "version_major": 2,
       "version_minor": 0
      },
      "text/plain": [
       "  0%|          | 0/242 [00:00<?, ?it/s]"
      ]
     },
     "metadata": {},
     "output_type": "display_data"
    },
    {
     "name": "stdout",
     "output_type": "stream",
     "text": [
      "{'eval_loss': 0.7945913076400757, 'eval_accuracy': 0.6478345184227537, 'eval_f1': 0.6483488841574514, 'eval_precision': 0.6589074603813586, 'eval_recall': 0.6478345184227537, 'eval_runtime': 16.5477, 'eval_samples_per_second': 467.437, 'eval_steps_per_second': 14.624, 'epoch': 1.92}\n",
      "{'loss': 0.7704, 'learning_rate': 4.9324324324324325e-05, 'epoch': 2.13}\n"
     ]
    },
    {
     "data": {
      "application/vnd.jupyter.widget-view+json": {
       "model_id": "07ab80a4927d4eb5bbe8de87c1ce31f2",
       "version_major": 2,
       "version_minor": 0
      },
      "text/plain": [
       "  0%|          | 0/242 [00:00<?, ?it/s]"
      ]
     },
     "metadata": {},
     "output_type": "display_data"
    },
    {
     "name": "stdout",
     "output_type": "stream",
     "text": [
      "{'eval_loss': 0.7778680324554443, 'eval_accuracy': 0.6588235294117647, 'eval_f1': 0.6598882115019666, 'eval_precision': 0.6696322305457603, 'eval_recall': 0.6588235294117647, 'eval_runtime': 16.5472, 'eval_samples_per_second': 467.451, 'eval_steps_per_second': 14.625, 'epoch': 2.13}\n",
      "{'loss': 0.7638, 'learning_rate': 4.369369369369369e-05, 'epoch': 2.35}\n"
     ]
    },
    {
     "data": {
      "application/vnd.jupyter.widget-view+json": {
       "model_id": "86a34a0f27e346ffbf0bb6ab8a56c112",
       "version_major": 2,
       "version_minor": 0
      },
      "text/plain": [
       "  0%|          | 0/242 [00:00<?, ?it/s]"
      ]
     },
     "metadata": {},
     "output_type": "display_data"
    },
    {
     "name": "stdout",
     "output_type": "stream",
     "text": [
      "{'eval_loss': 0.8215413689613342, 'eval_accuracy': 0.6323206205559146, 'eval_f1': 0.6315452779906834, 'eval_precision': 0.6617654127078914, 'eval_recall': 0.6323206205559146, 'eval_runtime': 16.5682, 'eval_samples_per_second': 466.858, 'eval_steps_per_second': 14.606, 'epoch': 2.35}\n",
      "{'loss': 0.7548, 'learning_rate': 3.8063063063063064e-05, 'epoch': 2.56}\n"
     ]
    },
    {
     "data": {
      "application/vnd.jupyter.widget-view+json": {
       "model_id": "9e058c6946eb45fcabb6cb82b44e5506",
       "version_major": 2,
       "version_minor": 0
      },
      "text/plain": [
       "  0%|          | 0/242 [00:00<?, ?it/s]"
      ]
     },
     "metadata": {},
     "output_type": "display_data"
    },
    {
     "name": "stdout",
     "output_type": "stream",
     "text": [
      "{'eval_loss': 0.7871019244194031, 'eval_accuracy': 0.6610213316095669, 'eval_f1': 0.6568869219939573, 'eval_precision': 0.6751288604869939, 'eval_recall': 0.6610213316095669, 'eval_runtime': 16.6145, 'eval_samples_per_second': 465.558, 'eval_steps_per_second': 14.566, 'epoch': 2.56}\n",
      "{'loss': 0.7498, 'learning_rate': 3.2432432432432436e-05, 'epoch': 2.77}\n"
     ]
    },
    {
     "data": {
      "application/vnd.jupyter.widget-view+json": {
       "model_id": "e93f1a70dd2c4ae78acf4c62d3a33135",
       "version_major": 2,
       "version_minor": 0
      },
      "text/plain": [
       "  0%|          | 0/242 [00:00<?, ?it/s]"
      ]
     },
     "metadata": {},
     "output_type": "display_data"
    },
    {
     "name": "stdout",
     "output_type": "stream",
     "text": [
      "{'eval_loss': 0.8227147459983826, 'eval_accuracy': 0.6376212023270846, 'eval_f1': 0.6353544177358954, 'eval_precision': 0.6827511146557848, 'eval_recall': 0.6376212023270846, 'eval_runtime': 16.5904, 'eval_samples_per_second': 466.234, 'eval_steps_per_second': 14.587, 'epoch': 2.77}\n",
      "{'loss': 0.7422, 'learning_rate': 2.6801801801801802e-05, 'epoch': 2.99}\n"
     ]
    },
    {
     "data": {
      "application/vnd.jupyter.widget-view+json": {
       "model_id": "8260e8d4ecf84daab66c682868c39956",
       "version_major": 2,
       "version_minor": 0
      },
      "text/plain": [
       "  0%|          | 0/242 [00:00<?, ?it/s]"
      ]
     },
     "metadata": {},
     "output_type": "display_data"
    },
    {
     "name": "stdout",
     "output_type": "stream",
     "text": [
      "{'eval_loss': 0.7696285843849182, 'eval_accuracy': 0.6683904330963154, 'eval_f1': 0.6687052728803567, 'eval_precision': 0.6704851839532331, 'eval_recall': 0.6683904330963154, 'eval_runtime': 16.5948, 'eval_samples_per_second': 466.11, 'eval_steps_per_second': 14.583, 'epoch': 2.99}\n",
      "{'loss': 0.7327, 'learning_rate': 2.117117117117117e-05, 'epoch': 3.2}\n"
     ]
    },
    {
     "data": {
      "application/vnd.jupyter.widget-view+json": {
       "model_id": "1ae2dd74948c42e4a02f5f7196e13d6c",
       "version_major": 2,
       "version_minor": 0
      },
      "text/plain": [
       "  0%|          | 0/242 [00:00<?, ?it/s]"
      ]
     },
     "metadata": {},
     "output_type": "display_data"
    },
    {
     "name": "stdout",
     "output_type": "stream",
     "text": [
      "{'eval_loss': 0.7967687845230103, 'eval_accuracy': 0.6483516483516484, 'eval_f1': 0.6446271701636219, 'eval_precision': 0.6794558157688488, 'eval_recall': 0.6483516483516484, 'eval_runtime': 16.596, 'eval_samples_per_second': 466.077, 'eval_steps_per_second': 14.582, 'epoch': 3.2}\n",
      "{'loss': 0.7352, 'learning_rate': 1.554054054054054e-05, 'epoch': 3.41}\n"
     ]
    },
    {
     "data": {
      "application/vnd.jupyter.widget-view+json": {
       "model_id": "413fb683f73d45b38da259297ce9bc67",
       "version_major": 2,
       "version_minor": 0
      },
      "text/plain": [
       "  0%|          | 0/242 [00:00<?, ?it/s]"
      ]
     },
     "metadata": {},
     "output_type": "display_data"
    },
    {
     "name": "stdout",
     "output_type": "stream",
     "text": [
      "{'eval_loss': 0.7788988351821899, 'eval_accuracy': 0.6645119586296057, 'eval_f1': 0.6627103134914065, 'eval_precision': 0.6814450322864203, 'eval_recall': 0.6645119586296057, 'eval_runtime': 17.0435, 'eval_samples_per_second': 453.839, 'eval_steps_per_second': 14.199, 'epoch': 3.41}\n",
      "{'loss': 0.7262, 'learning_rate': 9.90990990990991e-06, 'epoch': 3.62}\n"
     ]
    },
    {
     "data": {
      "application/vnd.jupyter.widget-view+json": {
       "model_id": "5f8078df48bb4ef9a789a01af598b3e9",
       "version_major": 2,
       "version_minor": 0
      },
      "text/plain": [
       "  0%|          | 0/242 [00:00<?, ?it/s]"
      ]
     },
     "metadata": {},
     "output_type": "display_data"
    },
    {
     "name": "stdout",
     "output_type": "stream",
     "text": [
      "{'eval_loss': 0.7867714762687683, 'eval_accuracy': 0.659082094376212, 'eval_f1': 0.658798455846046, 'eval_precision': 0.6813040809836378, 'eval_recall': 0.659082094376212, 'eval_runtime': 16.9316, 'eval_samples_per_second': 456.837, 'eval_steps_per_second': 14.293, 'epoch': 3.62}\n",
      "{'loss': 0.721, 'learning_rate': 4.279279279279279e-06, 'epoch': 3.84}\n"
     ]
    },
    {
     "data": {
      "application/vnd.jupyter.widget-view+json": {
       "model_id": "270c1c9752744daeb9bc4928363a8652",
       "version_major": 2,
       "version_minor": 0
      },
      "text/plain": [
       "  0%|          | 0/242 [00:00<?, ?it/s]"
      ]
     },
     "metadata": {},
     "output_type": "display_data"
    },
    {
     "name": "stdout",
     "output_type": "stream",
     "text": [
      "{'eval_loss': 0.7791407704353333, 'eval_accuracy': 0.6625727213962508, 'eval_f1': 0.6618674068135038, 'eval_precision': 0.6835035059239345, 'eval_recall': 0.6625727213962508, 'eval_runtime': 16.9813, 'eval_samples_per_second': 455.501, 'eval_steps_per_second': 14.251, 'epoch': 3.84}\n"
     ]
    },
    {
     "name": "stderr",
     "output_type": "stream",
     "text": [
      "Overwriting existing adapter 'source-mlm'.\n",
      "Overwriting existing adapter 'standalone-mlm-target'.\n",
      "Overwriting existing adapter fusion module 'source-mlm,standalone-mlm-target'\n"
     ]
    },
    {
     "name": "stdout",
     "output_type": "stream",
     "text": [
      "{'train_runtime': 1680.7334, 'train_samples_per_second': 178.524, 'train_steps_per_second': 5.581, 'train_loss': 0.7812599946695096, 'epoch': 4.0}\n"
     ]
    }
   ],
   "source": [
    "\n",
    "reload(fn)\n",
    "trainer = fn.train_model(model,\"fused_domains\",source_data,source_data_eval)"
   ]
  },
  {
   "cell_type": "code",
   "execution_count": 25,
   "metadata": {},
   "outputs": [
    {
     "name": "stdout",
     "output_type": "stream",
     "text": [
      "Accuracy before adaptation: 0.6523279352226721\n",
      "F1 score before adaptation: 0.6537088802705093\n"
     ]
    }
   ],
   "source": [
    "# Evaluate the model on the target domain before adaptation\n",
    "reload(fn)\n",
    "accuracy_before, f1_before = fn.evaluate_model(trainer.model, target_test_loader)\n",
    "print(f\"Accuracy before adaptation: {accuracy_before}\")\n",
    "print(f\"F1 score before adaptation: {f1_before}\")"
   ]
  },
  {
   "cell_type": "code",
   "execution_count": 17,
   "metadata": {},
   "outputs": [
    {
     "name": "stdout",
     "output_type": "stream",
     "text": [
      "Accuracy before adaptation: 0.7211538461538461\n",
      "F1 score before adaptation: 0.7214558115652716\n"
     ]
    }
   ],
   "source": [
    "# Evaluate the model on the target domain before adaptation\n",
    "#this is using the full sourcec domain data\n",
    "reload(fn)\n",
    "accuracy_before, f1_before = fn.evaluate_model(trainer.model, target_test_loader)\n",
    "print(f\"Accuracy before adaptation: {accuracy_before}\")\n",
    "print(f\"F1 score before adaptation: {f1_before}\")"
   ]
  },
  {
   "cell_type": "code",
   "execution_count": 40,
   "metadata": {},
   "outputs": [
    {
     "name": "stdout",
     "output_type": "stream",
     "text": [
      "Accuracy before adaptation: 0.7130566801619433\n",
      "F1 score before adaptation: 0.7149068389081805\n"
     ]
    }
   ],
   "source": [
    "# Evaluate the model on the target domain before adaptation\n",
    "reload(fn)\n",
    "accuracy_before, f1_before = fn.evaluate_model(trainer.model, target_test_loader)\n",
    "print(f\"Accuracy before adaptation: {accuracy_before}\")\n",
    "print(f\"F1 score before adaptation: {f1_before}\")"
   ]
  },
  {
   "cell_type": "code",
   "execution_count": null,
   "metadata": {},
   "outputs": [],
   "source": []
  },
  {
   "cell_type": "code",
   "execution_count": null,
   "metadata": {},
   "outputs": [],
   "source": []
  }
 ],
 "metadata": {
  "kernelspec": {
   "display_name": "intial-experments-_CPDD38x-py3.8",
   "language": "python",
   "name": "python3"
  },
  "language_info": {
   "codemirror_mode": {
    "name": "ipython",
    "version": 3
   },
   "file_extension": ".py",
   "mimetype": "text/x-python",
   "name": "python",
   "nbconvert_exporter": "python",
   "pygments_lexer": "ipython3",
   "version": "3.8.10"
  }
 },
 "nbformat": 4,
 "nbformat_minor": 2
}
